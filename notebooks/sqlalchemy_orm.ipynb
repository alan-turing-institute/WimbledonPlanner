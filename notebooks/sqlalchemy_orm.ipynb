{
 "cells": [
  {
   "cell_type": "markdown",
   "metadata": {},
   "source": [
    "# SQLAlchemy Object Relational Mapping\n",
    "\n",
    "https://docs.sqlalchemy.org/en/13/orm/tutorial.html"
   ]
  },
  {
   "cell_type": "code",
   "execution_count": 1,
   "metadata": {},
   "outputs": [
    {
     "data": {
      "text/plain": [
       "'1.3.4'"
      ]
     },
     "execution_count": 1,
     "metadata": {},
     "output_type": "execute_result"
    }
   ],
   "source": [
    "import sqlalchemy\n",
    "sqlalchemy.__version__"
   ]
  },
  {
   "cell_type": "code",
   "execution_count": 2,
   "metadata": {},
   "outputs": [],
   "source": [
    "from sqlalchemy import create_engine\n",
    "\n",
    "engine = create_engine('postgresql://localhost/wimbledon', echo=True)"
   ]
  },
  {
   "cell_type": "markdown",
   "metadata": {},
   "source": [
    "# Declare Mapping "
   ]
  },
  {
   "cell_type": "code",
   "execution_count": 3,
   "metadata": {},
   "outputs": [],
   "source": [
    "from sqlalchemy.ext.declarative import declarative_base\n",
    "\n",
    "Base = declarative_base()"
   ]
  },
  {
   "cell_type": "code",
   "execution_count": 4,
   "metadata": {},
   "outputs": [],
   "source": [
    "from sqlalchemy import Column, Integer, String\n",
    "\n",
    "class Person(Base):\n",
    "    __tablename__ = 'people'\n",
    "    \n",
    "    id = Column(Integer, primary_key=True)\n",
    "    name = Column(String)\n",
    "    association = Column(Integer) # SHOULD BE FOREIGN KEY TO AN ASSOCIATION TABLE\n",
    "    \n",
    "    def __repr__(self):\n",
    "        return \"<Person(name='{:s}', association='{:d}')>\".format(self.name, self.association)"
   ]
  },
  {
   "cell_type": "markdown",
   "metadata": {},
   "source": [
    "# Create Schema"
   ]
  },
  {
   "cell_type": "code",
   "execution_count": 5,
   "metadata": {},
   "outputs": [
    {
     "data": {
      "text/plain": [
       "Table('people', MetaData(bind=None), Column('id', Integer(), table=<people>, primary_key=True, nullable=False), Column('name', String(), table=<people>), Column('association', Integer(), table=<people>), schema=None)"
      ]
     },
     "execution_count": 5,
     "metadata": {},
     "output_type": "execute_result"
    }
   ],
   "source": [
    "Person.__table__"
   ]
  },
  {
   "cell_type": "code",
   "execution_count": 6,
   "metadata": {},
   "outputs": [
    {
     "name": "stdout",
     "output_type": "stream",
     "text": [
      "2019-07-31 17:46:22,054 INFO sqlalchemy.engine.base.Engine select version()\n",
      "2019-07-31 17:46:22,054 INFO sqlalchemy.engine.base.Engine {}\n",
      "2019-07-31 17:46:22,056 INFO sqlalchemy.engine.base.Engine select current_schema()\n",
      "2019-07-31 17:46:22,057 INFO sqlalchemy.engine.base.Engine {}\n",
      "2019-07-31 17:46:22,059 INFO sqlalchemy.engine.base.Engine SELECT CAST('test plain returns' AS VARCHAR(60)) AS anon_1\n",
      "2019-07-31 17:46:22,060 INFO sqlalchemy.engine.base.Engine {}\n",
      "2019-07-31 17:46:22,061 INFO sqlalchemy.engine.base.Engine SELECT CAST('test unicode returns' AS VARCHAR(60)) AS anon_1\n",
      "2019-07-31 17:46:22,062 INFO sqlalchemy.engine.base.Engine {}\n",
      "2019-07-31 17:46:22,063 INFO sqlalchemy.engine.base.Engine show standard_conforming_strings\n",
      "2019-07-31 17:46:22,064 INFO sqlalchemy.engine.base.Engine {}\n",
      "2019-07-31 17:46:22,067 INFO sqlalchemy.engine.base.Engine select relname from pg_class c join pg_namespace n on n.oid=c.relnamespace where pg_catalog.pg_table_is_visible(c.oid) and relname=%(name)s\n",
      "2019-07-31 17:46:22,067 INFO sqlalchemy.engine.base.Engine {'name': 'people'}\n",
      "2019-07-31 17:46:22,069 INFO sqlalchemy.engine.base.Engine \n",
      "CREATE TABLE people (\n",
      "\tid SERIAL NOT NULL, \n",
      "\tname VARCHAR, \n",
      "\tassociation INTEGER, \n",
      "\tPRIMARY KEY (id)\n",
      ")\n",
      "\n",
      "\n",
      "2019-07-31 17:46:22,070 INFO sqlalchemy.engine.base.Engine {}\n",
      "2019-07-31 17:46:22,076 INFO sqlalchemy.engine.base.Engine COMMIT\n"
     ]
    }
   ],
   "source": [
    "Base.metadata.create_all(engine)"
   ]
  },
  {
   "cell_type": "markdown",
   "metadata": {},
   "source": [
    "# Create Instance "
   ]
  },
  {
   "cell_type": "code",
   "execution_count": 7,
   "metadata": {},
   "outputs": [
    {
     "name": "stdout",
     "output_type": "stream",
     "text": [
      "<Person(name='Jack Roberts', association='1')>\n"
     ]
    }
   ],
   "source": [
    "jack_person = Person(name='Jack Roberts', association=1)\n",
    "print(jack_person)"
   ]
  },
  {
   "cell_type": "markdown",
   "metadata": {},
   "source": [
    "# Create Session "
   ]
  },
  {
   "cell_type": "code",
   "execution_count": 8,
   "metadata": {},
   "outputs": [],
   "source": [
    "from sqlalchemy.orm import sessionmaker\n",
    "\n",
    "Session = sessionmaker(bind=engine)"
   ]
  },
  {
   "cell_type": "code",
   "execution_count": 9,
   "metadata": {},
   "outputs": [],
   "source": [
    "session = Session()"
   ]
  },
  {
   "cell_type": "markdown",
   "metadata": {},
   "source": [
    "# Add Update"
   ]
  },
  {
   "cell_type": "code",
   "execution_count": 10,
   "metadata": {},
   "outputs": [],
   "source": [
    "session.add(jack_person)"
   ]
  },
  {
   "cell_type": "code",
   "execution_count": 11,
   "metadata": {},
   "outputs": [
    {
     "name": "stdout",
     "output_type": "stream",
     "text": [
      "2019-07-31 17:46:22,102 INFO sqlalchemy.engine.base.Engine BEGIN (implicit)\n",
      "2019-07-31 17:46:22,104 INFO sqlalchemy.engine.base.Engine INSERT INTO people (name, association) VALUES (%(name)s, %(association)s) RETURNING people.id\n",
      "2019-07-31 17:46:22,105 INFO sqlalchemy.engine.base.Engine {'name': 'Jack Roberts', 'association': 1}\n",
      "2019-07-31 17:46:22,109 INFO sqlalchemy.engine.base.Engine SELECT people.id AS people_id, people.name AS people_name, people.association AS people_association \n",
      "FROM people \n",
      "WHERE people.name = %(name_1)s \n",
      " LIMIT %(param_1)s\n",
      "2019-07-31 17:46:22,110 INFO sqlalchemy.engine.base.Engine {'name_1': 'Jack Roberts', 'param_1': 1}\n"
     ]
    },
    {
     "data": {
      "text/plain": [
       "<Person(name='Jack Roberts', association='1')>"
      ]
     },
     "execution_count": 11,
     "metadata": {},
     "output_type": "execute_result"
    }
   ],
   "source": [
    "my_person = session.query(Person).filter_by(name='Jack Roberts').first()\n",
    "my_person"
   ]
  },
  {
   "cell_type": "code",
   "execution_count": 12,
   "metadata": {},
   "outputs": [],
   "source": [
    "session.add_all([\n",
    "    Person(name='Oliver Strickson', association=1),\n",
    "    Person(name='James Geddes', association=2),\n",
    "    Person(name='Ed C', association=3),\n",
    "    Person(name='Kasra H', association=1),\n",
    "    Person(name='Eric Daub', association=4)\n",
    "])"
   ]
  },
  {
   "cell_type": "code",
   "execution_count": 13,
   "metadata": {},
   "outputs": [],
   "source": [
    "jack_person.name = 'Jack RRRRRRRoberts'"
   ]
  },
  {
   "cell_type": "code",
   "execution_count": 14,
   "metadata": {},
   "outputs": [
    {
     "data": {
      "text/plain": [
       "IdentitySet([<Person(name='Jack RRRRRRRoberts', association='1')>])"
      ]
     },
     "execution_count": 14,
     "metadata": {},
     "output_type": "execute_result"
    }
   ],
   "source": [
    "session.dirty"
   ]
  },
  {
   "cell_type": "code",
   "execution_count": 15,
   "metadata": {},
   "outputs": [
    {
     "data": {
      "text/plain": [
       "IdentitySet([<Person(name='Oliver Strickson', association='1')>, <Person(name='James Geddes', association='2')>, <Person(name='Ed C', association='3')>, <Person(name='Kasra H', association='1')>, <Person(name='Eric Daub', association='4')>])"
      ]
     },
     "execution_count": 15,
     "metadata": {},
     "output_type": "execute_result"
    }
   ],
   "source": [
    "session.new"
   ]
  },
  {
   "cell_type": "code",
   "execution_count": 16,
   "metadata": {},
   "outputs": [
    {
     "name": "stdout",
     "output_type": "stream",
     "text": [
      "2019-07-31 17:46:22,153 INFO sqlalchemy.engine.base.Engine UPDATE people SET name=%(name)s WHERE people.id = %(people_id)s\n",
      "2019-07-31 17:46:22,153 INFO sqlalchemy.engine.base.Engine {'name': 'Jack RRRRRRRoberts', 'people_id': 1}\n",
      "2019-07-31 17:46:22,155 INFO sqlalchemy.engine.base.Engine INSERT INTO people (name, association) VALUES (%(name)s, %(association)s) RETURNING people.id\n",
      "2019-07-31 17:46:22,156 INFO sqlalchemy.engine.base.Engine {'name': 'Oliver Strickson', 'association': 1}\n",
      "2019-07-31 17:46:22,158 INFO sqlalchemy.engine.base.Engine INSERT INTO people (name, association) VALUES (%(name)s, %(association)s) RETURNING people.id\n",
      "2019-07-31 17:46:22,159 INFO sqlalchemy.engine.base.Engine {'name': 'James Geddes', 'association': 2}\n",
      "2019-07-31 17:46:22,160 INFO sqlalchemy.engine.base.Engine INSERT INTO people (name, association) VALUES (%(name)s, %(association)s) RETURNING people.id\n",
      "2019-07-31 17:46:22,161 INFO sqlalchemy.engine.base.Engine {'name': 'Ed C', 'association': 3}\n",
      "2019-07-31 17:46:22,162 INFO sqlalchemy.engine.base.Engine INSERT INTO people (name, association) VALUES (%(name)s, %(association)s) RETURNING people.id\n",
      "2019-07-31 17:46:22,162 INFO sqlalchemy.engine.base.Engine {'name': 'Kasra H', 'association': 1}\n",
      "2019-07-31 17:46:22,163 INFO sqlalchemy.engine.base.Engine INSERT INTO people (name, association) VALUES (%(name)s, %(association)s) RETURNING people.id\n",
      "2019-07-31 17:46:22,164 INFO sqlalchemy.engine.base.Engine {'name': 'Eric Daub', 'association': 4}\n",
      "2019-07-31 17:46:22,165 INFO sqlalchemy.engine.base.Engine COMMIT\n"
     ]
    }
   ],
   "source": [
    "session.commit()"
   ]
  },
  {
   "cell_type": "code",
   "execution_count": 17,
   "metadata": {},
   "outputs": [
    {
     "name": "stdout",
     "output_type": "stream",
     "text": [
      "2019-07-31 17:46:22,175 INFO sqlalchemy.engine.base.Engine BEGIN (implicit)\n",
      "2019-07-31 17:46:22,176 INFO sqlalchemy.engine.base.Engine SELECT people.id AS people_id, people.name AS people_name, people.association AS people_association \n",
      "FROM people \n",
      "WHERE people.id = %(param_1)s\n",
      "2019-07-31 17:46:22,177 INFO sqlalchemy.engine.base.Engine {'param_1': 1}\n"
     ]
    },
    {
     "data": {
      "text/plain": [
       "1"
      ]
     },
     "execution_count": 17,
     "metadata": {},
     "output_type": "execute_result"
    }
   ],
   "source": [
    "jack_person.id"
   ]
  },
  {
   "cell_type": "markdown",
   "metadata": {},
   "source": [
    "# Roll back"
   ]
  },
  {
   "cell_type": "code",
   "execution_count": 18,
   "metadata": {},
   "outputs": [],
   "source": [
    "jack_person.name = 'JACKOOOOOO'"
   ]
  },
  {
   "cell_type": "code",
   "execution_count": 19,
   "metadata": {},
   "outputs": [],
   "source": [
    "fake_person = Person(name='fakeuser', association=342)\n",
    "session.add(fake_person)"
   ]
  },
  {
   "cell_type": "code",
   "execution_count": 20,
   "metadata": {},
   "outputs": [
    {
     "name": "stdout",
     "output_type": "stream",
     "text": [
      "2019-07-31 17:46:22,199 INFO sqlalchemy.engine.base.Engine UPDATE people SET name=%(name)s WHERE people.id = %(people_id)s\n",
      "2019-07-31 17:46:22,200 INFO sqlalchemy.engine.base.Engine {'name': 'JACKOOOOOO', 'people_id': 1}\n",
      "2019-07-31 17:46:22,201 INFO sqlalchemy.engine.base.Engine INSERT INTO people (name, association) VALUES (%(name)s, %(association)s) RETURNING people.id\n",
      "2019-07-31 17:46:22,202 INFO sqlalchemy.engine.base.Engine {'name': 'fakeuser', 'association': 342}\n",
      "2019-07-31 17:46:22,204 INFO sqlalchemy.engine.base.Engine SELECT people.id AS people_id, people.name AS people_name, people.association AS people_association \n",
      "FROM people \n",
      "WHERE people.name IN (%(name_1)s, %(name_2)s)\n",
      "2019-07-31 17:46:22,205 INFO sqlalchemy.engine.base.Engine {'name_1': 'JACKOOOOOO', 'name_2': 'fakeuser'}\n"
     ]
    },
    {
     "data": {
      "text/plain": [
       "[<Person(name='JACKOOOOOO', association='1')>,\n",
       " <Person(name='fakeuser', association='342')>]"
      ]
     },
     "execution_count": 20,
     "metadata": {},
     "output_type": "execute_result"
    }
   ],
   "source": [
    "session.query(Person).filter(Person.name.in_(['JACKOOOOOO', 'fakeuser'])).all()"
   ]
  },
  {
   "cell_type": "code",
   "execution_count": 21,
   "metadata": {},
   "outputs": [
    {
     "name": "stdout",
     "output_type": "stream",
     "text": [
      "2019-07-31 17:46:22,214 INFO sqlalchemy.engine.base.Engine ROLLBACK\n"
     ]
    }
   ],
   "source": [
    "session.rollback()"
   ]
  },
  {
   "cell_type": "code",
   "execution_count": 22,
   "metadata": {},
   "outputs": [
    {
     "name": "stdout",
     "output_type": "stream",
     "text": [
      "2019-07-31 17:46:22,221 INFO sqlalchemy.engine.base.Engine BEGIN (implicit)\n",
      "2019-07-31 17:46:22,222 INFO sqlalchemy.engine.base.Engine SELECT people.id AS people_id, people.name AS people_name, people.association AS people_association \n",
      "FROM people \n",
      "WHERE people.id = %(param_1)s\n",
      "2019-07-31 17:46:22,223 INFO sqlalchemy.engine.base.Engine {'param_1': 1}\n"
     ]
    },
    {
     "data": {
      "text/plain": [
       "'Jack RRRRRRRoberts'"
      ]
     },
     "execution_count": 22,
     "metadata": {},
     "output_type": "execute_result"
    }
   ],
   "source": [
    "jack_person.name"
   ]
  },
  {
   "cell_type": "code",
   "execution_count": 23,
   "metadata": {},
   "outputs": [
    {
     "data": {
      "text/plain": [
       "False"
      ]
     },
     "execution_count": 23,
     "metadata": {},
     "output_type": "execute_result"
    }
   ],
   "source": [
    "fake_person in session"
   ]
  },
  {
   "cell_type": "markdown",
   "metadata": {},
   "source": [
    "# Query "
   ]
  },
  {
   "cell_type": "code",
   "execution_count": 24,
   "metadata": {},
   "outputs": [
    {
     "name": "stdout",
     "output_type": "stream",
     "text": [
      "2019-07-31 17:46:22,237 INFO sqlalchemy.engine.base.Engine SELECT people.id AS people_id, people.name AS people_name, people.association AS people_association \n",
      "FROM people ORDER BY people.id\n",
      "2019-07-31 17:46:22,238 INFO sqlalchemy.engine.base.Engine {}\n",
      "<Person(name='Jack RRRRRRRoberts', association='1')>\n",
      "<Person(name='Oliver Strickson', association='1')>\n",
      "<Person(name='James Geddes', association='2')>\n",
      "<Person(name='Ed C', association='3')>\n",
      "<Person(name='Kasra H', association='1')>\n",
      "<Person(name='Eric Daub', association='4')>\n"
     ]
    }
   ],
   "source": [
    "for instance in session.query(Person).order_by(Person.id):\n",
    "    print(instance)"
   ]
  },
  {
   "cell_type": "code",
   "execution_count": 25,
   "metadata": {},
   "outputs": [
    {
     "name": "stdout",
     "output_type": "stream",
     "text": [
      "2019-07-31 17:46:22,245 INFO sqlalchemy.engine.base.Engine SELECT people.name AS people_name, people.association AS people_association \n",
      "FROM people\n",
      "2019-07-31 17:46:22,246 INFO sqlalchemy.engine.base.Engine {}\n",
      "Jack RRRRRRRoberts 1\n",
      "Oliver Strickson 1\n",
      "James Geddes 2\n",
      "Ed C 3\n",
      "Kasra H 1\n",
      "Eric Daub 4\n"
     ]
    }
   ],
   "source": [
    "for name, association in session.query(Person.name, Person.association):\n",
    "    print(name, association)"
   ]
  },
  {
   "cell_type": "code",
   "execution_count": 26,
   "metadata": {},
   "outputs": [
    {
     "name": "stdout",
     "output_type": "stream",
     "text": [
      "2019-07-31 17:46:22,255 INFO sqlalchemy.engine.base.Engine SELECT people.id AS people_id, people.name AS people_name, people.association AS people_association \n",
      "FROM people\n",
      "2019-07-31 17:46:22,256 INFO sqlalchemy.engine.base.Engine {}\n",
      "<Person(name='Jack RRRRRRRoberts', association='1')> Jack RRRRRRRoberts\n",
      "<Person(name='Oliver Strickson', association='1')> Oliver Strickson\n",
      "<Person(name='James Geddes', association='2')> James Geddes\n",
      "<Person(name='Ed C', association='3')> Ed C\n",
      "<Person(name='Kasra H', association='1')> Kasra H\n",
      "<Person(name='Eric Daub', association='4')> Eric Daub\n"
     ]
    }
   ],
   "source": [
    "for row in session.query(Person, Person.name).all():\n",
    "    print(row.Person, row.name)"
   ]
  },
  {
   "cell_type": "code",
   "execution_count": 27,
   "metadata": {},
   "outputs": [
    {
     "name": "stdout",
     "output_type": "stream",
     "text": [
      "2019-07-31 17:46:22,262 INFO sqlalchemy.engine.base.Engine SELECT people.name AS name_label \n",
      "FROM people\n",
      "2019-07-31 17:46:22,263 INFO sqlalchemy.engine.base.Engine {}\n",
      "Jack RRRRRRRoberts\n",
      "Oliver Strickson\n",
      "James Geddes\n",
      "Ed C\n",
      "Kasra H\n",
      "Eric Daub\n"
     ]
    }
   ],
   "source": [
    "for row in session.query(Person.name.label('name_label')).all():\n",
    "    print(row.name_label)"
   ]
  },
  {
   "cell_type": "code",
   "execution_count": 28,
   "metadata": {},
   "outputs": [
    {
     "name": "stdout",
     "output_type": "stream",
     "text": [
      "2019-07-31 17:46:22,271 INFO sqlalchemy.engine.base.Engine SELECT people.name AS people_name \n",
      "FROM people \n",
      "WHERE people.name = %(name_1)s\n",
      "2019-07-31 17:46:22,271 INFO sqlalchemy.engine.base.Engine {'name_1': 'Eric Daub'}\n",
      "Eric Daub\n"
     ]
    }
   ],
   "source": [
    "for name, in session.query(Person.name).filter(Person.name=='Eric Daub'):\n",
    "    print(name)"
   ]
  },
  {
   "cell_type": "code",
   "execution_count": 29,
   "metadata": {},
   "outputs": [
    {
     "name": "stdout",
     "output_type": "stream",
     "text": [
      "2019-07-31 17:46:22,279 INFO sqlalchemy.engine.base.Engine SELECT people.name AS people_name \n",
      "FROM people \n",
      "WHERE people.name LIKE %(name_1)s\n",
      "2019-07-31 17:46:22,280 INFO sqlalchemy.engine.base.Engine {'name_1': '%James%'}\n",
      "James Geddes\n"
     ]
    }
   ],
   "source": [
    "for name, in session.query(Person.name).filter(Person.name.like('%James%')):\n",
    "    print(name)"
   ]
  },
  {
   "cell_type": "code",
   "execution_count": 30,
   "metadata": {},
   "outputs": [
    {
     "name": "stdout",
     "output_type": "stream",
     "text": [
      "2019-07-31 17:46:22,287 INFO sqlalchemy.engine.base.Engine SELECT count(*) AS count_1 \n",
      "FROM (SELECT people.id AS people_id, people.name AS people_name, people.association AS people_association \n",
      "FROM people \n",
      "WHERE people.name LIKE %(name_1)s) AS anon_1\n",
      "2019-07-31 17:46:22,288 INFO sqlalchemy.engine.base.Engine {'name_1': 'J%'}\n"
     ]
    },
    {
     "data": {
      "text/plain": [
       "2"
      ]
     },
     "execution_count": 30,
     "metadata": {},
     "output_type": "execute_result"
    }
   ],
   "source": [
    "session.query(Person).filter(Person.name.like('J%')).count()"
   ]
  },
  {
   "cell_type": "markdown",
   "metadata": {},
   "source": [
    "# Relationships "
   ]
  },
  {
   "cell_type": "code",
   "execution_count": 31,
   "metadata": {},
   "outputs": [],
   "source": [
    "from sqlalchemy import ForeignKey\n",
    "from sqlalchemy.orm import relationship\n",
    "from sqlalchemy import Date\n",
    "\n",
    "class Assignment(Base):\n",
    "    __tablename__ = 'assignments'\n",
    "    id = Column(Integer, primary_key=True)\n",
    "    start_date = Column(Date)\n",
    "    end_date = Column(Date)\n",
    "    person = Column(Integer, ForeignKey('people.id'))\n",
    "    \n"
   ]
  },
  {
   "cell_type": "code",
   "execution_count": null,
   "metadata": {},
   "outputs": [],
   "source": []
  }
 ],
 "metadata": {
  "kernelspec": {
   "display_name": "Python 3",
   "language": "python",
   "name": "python3"
  },
  "language_info": {
   "codemirror_mode": {
    "name": "ipython",
    "version": 3
   },
   "file_extension": ".py",
   "mimetype": "text/x-python",
   "name": "python",
   "nbconvert_exporter": "python",
   "pygments_lexer": "ipython3",
   "version": "3.7.1"
  }
 },
 "nbformat": 4,
 "nbformat_minor": 2
}
