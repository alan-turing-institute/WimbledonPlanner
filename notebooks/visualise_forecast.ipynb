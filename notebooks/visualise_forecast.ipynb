{
 "cells": [
  {
   "cell_type": "code",
   "execution_count": 1,
   "metadata": {},
   "outputs": [],
   "source": [
    "import pandas as pd\n",
    "\n",
    "import ipywidgets as widgets\n",
    "from IPython.display import clear_output, HTML\n",
    "\n",
    "from wimbledon.vis.Visualise import Visualise"
   ]
  },
  {
   "cell_type": "markdown",
   "metadata": {},
   "source": [
    "## Select Dates to Show"
   ]
  },
  {
   "cell_type": "code",
   "execution_count": 2,
   "metadata": {},
   "outputs": [
    {
     "data": {
      "application/vnd.jupyter.widget-view+json": {
       "model_id": "058f85c42d384de8bd4f973bd5f751d3",
       "version_major": 2,
       "version_minor": 0
      },
      "text/plain": [
       "DatePicker(value=datetime.datetime(2019, 5, 30, 15, 40, 32, 651868), description='Start Date:')"
      ]
     },
     "metadata": {},
     "output_type": "display_data"
    },
    {
     "data": {
      "application/vnd.jupyter.widget-view+json": {
       "model_id": "d113d8c7a63d4a2cbe6f8df1b6506de2",
       "version_major": 2,
       "version_minor": 0
      },
      "text/plain": [
       "DatePicker(value=datetime.datetime(2020, 5, 29, 15, 40, 32, 656413), description='End Date:')"
      ]
     },
     "metadata": {},
     "output_type": "display_data"
    },
    {
     "data": {
      "application/vnd.jupyter.widget-view+json": {
       "model_id": "552ba29f6fb949f6a0e22f3a41e65bab",
       "version_major": 2,
       "version_minor": 0
      },
      "text/plain": [
       "RadioButtons(description='Frequency:', options=('Monthly', 'Weekly', 'Daily'), value='Monthly')"
      ]
     },
     "metadata": {},
     "output_type": "display_data"
    }
   ],
   "source": [
    "# date picker to choose a start date\n",
    "widg_start = widgets.DatePicker(\n",
    "                    description='Start Date:',\n",
    "                    value=pd.datetime.now(),\n",
    "                    disabled=False\n",
    "                )\n",
    "\n",
    "# date picker to choose an end date\n",
    "widg_end = widgets.DatePicker(\n",
    "                    description='End Date:',\n",
    "                    value=pd.datetime.now()+pd.Timedelta('365 days'),\n",
    "                    disabled=False\n",
    "                )\n",
    "\n",
    "freq_dict = {'Monthly':'MS','Weekly':'W-MON','Daily':'D'}\n",
    "\n",
    "# radio buttons to choose the frequency of dates to display in tables/heatmaps\n",
    "widg_freq = widgets.RadioButtons(\n",
    "    options=freq_dict.keys(),\n",
    "    description='Frequency:',\n",
    "    disabled=False\n",
    ")\n",
    "\n",
    "display(widg_start, widg_end, widg_freq)"
   ]
  },
  {
   "cell_type": "markdown",
   "metadata": {},
   "source": [
    "## Load Data"
   ]
  },
  {
   "cell_type": "code",
   "execution_count": 3,
   "metadata": {},
   "outputs": [
    {
     "name": "stdout",
     "output_type": "stream",
     "text": [
      "Enpoint: whoami | Time: 0.5165243950000002 | Cache: False\n",
      "Enpoint: people/460554 | Time: 0.4320497089999997 | Cache: False\n",
      "\n",
      "AUTHENTICATED USER:\n",
      "Jack Roberts jroberts@turing.ac.uk\n",
      "\n",
      "CLIENTS\n",
      "Enpoint: clients | Time: 0.4358677830000004 | Cache: False\n",
      "PROJECTS\n",
      "Enpoint: projects | Time: 0.6993509499999999 | Cache: False\n",
      "ROLES\n",
      "Enpoint: roles | Time: 0.48318643599999955 | Cache: False\n",
      "PEOPLE\n",
      "Enpoint: people | Time: 0.5686588749999997 | Cache: False\n",
      "PLACEHOLDERS\n",
      "Enpoint: placeholders | Time: 0.43876145499999986 | Cache: False\n",
      "MILESTONES\n",
      "Enpoint: milestones | Time: 0.43734584200000004 | Cache: False\n",
      "ASSIGNMENTS\n",
      "Enpoint: assignments | Time: 0.6871800389999994 | Cache: False\n",
      "==================================================\n",
      "DONE! (4.7s)\n"
     ]
    }
   ],
   "source": [
    "vis = Visualise(start_date=pd.to_datetime(widg_start.value), \n",
    "                end_date=pd.to_datetime(widg_end.value), \n",
    "                freq=freq_dict[widg_freq.value],\n",
    "                init_harvest=False)"
   ]
  },
  {
   "cell_type": "code",
   "execution_count": 4,
   "metadata": {},
   "outputs": [],
   "source": [
    "def update_vis_params(change):\n",
    "    vis.START_DATE = pd.to_datetime(widg_start.value)\n",
    "    vis.END_DATE = pd.to_datetime(widg_end.value)\n",
    "    vis.FREQ = freq_dict[widg_freq.value]\n",
    "\n",
    "widg_start.observe(update_vis_params, names='value')\n",
    "widg_end.observe(update_vis_params, names='value')\n",
    "widg_freq.observe(update_vis_params, names='value')"
   ]
  },
  {
   "cell_type": "markdown",
   "metadata": {},
   "source": [
    "## Whiteboard Visualisations"
   ]
  },
  {
   "cell_type": "code",
   "execution_count": 5,
   "metadata": {
    "scrolled": true
   },
   "outputs": [
    {
     "ename": "ValueError",
     "evalue": "not enough values to unpack (expected 3, got 1)",
     "output_type": "error",
     "traceback": [
      "\u001b[0;31m---------------------------------------------------------------------------\u001b[0m",
      "\u001b[0;31mValueError\u001b[0m                                Traceback (most recent call last)",
      "\u001b[0;32m<ipython-input-5-917f94769c23>\u001b[0m in \u001b[0;36m<module>\u001b[0;34m\u001b[0m\n\u001b[0;32m----> 1\u001b[0;31m \u001b[0mdisplay\u001b[0m\u001b[0;34m(\u001b[0m\u001b[0mHTML\u001b[0m\u001b[0;34m(\u001b[0m\u001b[0mvis\u001b[0m\u001b[0;34m.\u001b[0m\u001b[0mwhiteboard\u001b[0m\u001b[0;34m(\u001b[0m\u001b[0;34m'person'\u001b[0m\u001b[0;34m)\u001b[0m\u001b[0;34m)\u001b[0m\u001b[0;34m)\u001b[0m\u001b[0;34m\u001b[0m\u001b[0;34m\u001b[0m\u001b[0m\n\u001b[0m",
      "\u001b[0;32m~/GitHub/WimbledonPlanner/wimbledon/vis/Visualise.py\u001b[0m in \u001b[0;36mwhiteboard\u001b[0;34m(self, key_type, start_date, end_date, freq, display)\u001b[0m\n\u001b[1;32m     93\u001b[0m         \u001b[0msheet\u001b[0m \u001b[0;34m=\u001b[0m \u001b[0mself\u001b[0m\u001b[0;34m.\u001b[0m\u001b[0mfc\u001b[0m\u001b[0;34m.\u001b[0m\u001b[0mwhiteboard\u001b[0m\u001b[0;34m(\u001b[0m\u001b[0mkey_type\u001b[0m\u001b[0;34m,\u001b[0m \u001b[0mstart_date\u001b[0m\u001b[0;34m,\u001b[0m \u001b[0mend_date\u001b[0m\u001b[0;34m,\u001b[0m \u001b[0mfreq\u001b[0m\u001b[0;34m)\u001b[0m\u001b[0;34m\u001b[0m\u001b[0;34m\u001b[0m\u001b[0m\n\u001b[1;32m     94\u001b[0m \u001b[0;34m\u001b[0m\u001b[0m\n\u001b[0;32m---> 95\u001b[0;31m         \u001b[0mhtml\u001b[0m \u001b[0;34m=\u001b[0m \u001b[0mHTMLWriter\u001b[0m\u001b[0;34m.\u001b[0m\u001b[0mmake_whiteboard\u001b[0m\u001b[0;34m(\u001b[0m\u001b[0msheet\u001b[0m\u001b[0;34m,\u001b[0m \u001b[0mkey_type\u001b[0m\u001b[0;34m,\u001b[0m \u001b[0mdisplay\u001b[0m\u001b[0;34m)\u001b[0m\u001b[0;34m\u001b[0m\u001b[0;34m\u001b[0m\u001b[0m\n\u001b[0m\u001b[1;32m     96\u001b[0m \u001b[0;34m\u001b[0m\u001b[0m\n\u001b[1;32m     97\u001b[0m         \u001b[0;32mreturn\u001b[0m \u001b[0mhtml\u001b[0m\u001b[0;34m\u001b[0m\u001b[0;34m\u001b[0m\u001b[0m\n",
      "\u001b[0;32m~/GitHub/WimbledonPlanner/wimbledon/vis/HTMLWriter.py\u001b[0m in \u001b[0;36mmake_whiteboard\u001b[0;34m(df, key_type, display)\u001b[0m\n\u001b[1;32m    449\u001b[0m     \"\"\"\n\u001b[1;32m    450\u001b[0m \u001b[0;34m\u001b[0m\u001b[0m\n\u001b[0;32m--> 451\u001b[0;31m     \u001b[0mcolors\u001b[0m \u001b[0;34m=\u001b[0m \u001b[0mget_colors\u001b[0m\u001b[0;34m(\u001b[0m\u001b[0mdf\u001b[0m\u001b[0;34m)\u001b[0m\u001b[0;34m\u001b[0m\u001b[0;34m\u001b[0m\u001b[0m\n\u001b[0m\u001b[1;32m    452\u001b[0m \u001b[0;34m\u001b[0m\u001b[0m\n\u001b[1;32m    453\u001b[0m     \u001b[0mgroup_colors\u001b[0m \u001b[0;34m=\u001b[0m \u001b[0mget_group_colors\u001b[0m\u001b[0;34m(\u001b[0m\u001b[0mdf\u001b[0m\u001b[0;34m)\u001b[0m\u001b[0;34m\u001b[0m\u001b[0;34m\u001b[0m\u001b[0m\n",
      "\u001b[0;32m~/GitHub/WimbledonPlanner/wimbledon/vis/HTMLWriter.py\u001b[0m in \u001b[0;36mget_colors\u001b[0;34m(df)\u001b[0m\n\u001b[1;32m    420\u001b[0m             \u001b[0;32mcontinue\u001b[0m\u001b[0;34m\u001b[0m\u001b[0;34m\u001b[0m\u001b[0m\n\u001b[1;32m    421\u001b[0m         \u001b[0;32melse\u001b[0m\u001b[0;34m:\u001b[0m\u001b[0;34m\u001b[0m\u001b[0;34m\u001b[0m\u001b[0m\n\u001b[0;32m--> 422\u001b[0;31m             \u001b[0mcolors\u001b[0m\u001b[0;34m[\u001b[0m\u001b[0mkey\u001b[0m\u001b[0;34m]\u001b[0m \u001b[0;34m=\u001b[0m \u001b[0mdistinctipy\u001b[0m\u001b[0;34m.\u001b[0m\u001b[0mget_colors\u001b[0m\u001b[0;34m(\u001b[0m\u001b[0;36m1\u001b[0m\u001b[0;34m,\u001b[0m \u001b[0mexclude_colors\u001b[0m\u001b[0;34m=\u001b[0m\u001b[0mlist\u001b[0m\u001b[0;34m(\u001b[0m\u001b[0mcolors\u001b[0m\u001b[0;34m.\u001b[0m\u001b[0mvalues\u001b[0m\u001b[0;34m(\u001b[0m\u001b[0;34m)\u001b[0m\u001b[0;34m)\u001b[0m\u001b[0;34m)\u001b[0m\u001b[0;34m\u001b[0m\u001b[0;34m\u001b[0m\u001b[0m\n\u001b[0m\u001b[1;32m    423\u001b[0m \u001b[0;34m\u001b[0m\u001b[0m\n\u001b[1;32m    424\u001b[0m     \u001b[0;32mreturn\u001b[0m \u001b[0mcolors\u001b[0m\u001b[0;34m\u001b[0m\u001b[0;34m\u001b[0m\u001b[0m\n",
      "\u001b[0;32m~/anaconda3/lib/python3.7/site-packages/distinctipy/distinctipy.py\u001b[0m in \u001b[0;36mget_colors\u001b[0;34m(n_colors, exclude_colors, return_excluded, pastel_factor, n_attempts)\u001b[0m\n\u001b[1;32m    136\u001b[0m \u001b[0;34m\u001b[0m\u001b[0m\n\u001b[1;32m    137\u001b[0m     \u001b[0;32mfor\u001b[0m \u001b[0mi\u001b[0m \u001b[0;32min\u001b[0m \u001b[0mrange\u001b[0m\u001b[0;34m(\u001b[0m\u001b[0mn_colors\u001b[0m\u001b[0;34m)\u001b[0m\u001b[0;34m:\u001b[0m\u001b[0;34m\u001b[0m\u001b[0;34m\u001b[0m\u001b[0m\n\u001b[0;32m--> 138\u001b[0;31m         \u001b[0mcolors\u001b[0m\u001b[0;34m.\u001b[0m\u001b[0mappend\u001b[0m\u001b[0;34m(\u001b[0m\u001b[0mdistinct_color\u001b[0m\u001b[0;34m(\u001b[0m\u001b[0mcolors\u001b[0m\u001b[0;34m,\u001b[0m \u001b[0mpastel_factor\u001b[0m\u001b[0;34m=\u001b[0m\u001b[0mpastel_factor\u001b[0m\u001b[0;34m,\u001b[0m \u001b[0mn_attempts\u001b[0m\u001b[0;34m=\u001b[0m\u001b[0mn_attempts\u001b[0m\u001b[0;34m)\u001b[0m\u001b[0;34m)\u001b[0m\u001b[0;34m\u001b[0m\u001b[0;34m\u001b[0m\u001b[0m\n\u001b[0m\u001b[1;32m    139\u001b[0m \u001b[0;34m\u001b[0m\u001b[0m\n\u001b[1;32m    140\u001b[0m     \u001b[0;32mif\u001b[0m \u001b[0mreturn_excluded\u001b[0m\u001b[0;34m:\u001b[0m\u001b[0;34m\u001b[0m\u001b[0;34m\u001b[0m\u001b[0m\n",
      "\u001b[0;32m~/anaconda3/lib/python3.7/site-packages/distinctipy/distinctipy.py\u001b[0m in \u001b[0;36mdistinct_color\u001b[0;34m(exclude_colors, pastel_factor, n_attempts, colorblind_type)\u001b[0m\n\u001b[1;32m     79\u001b[0m \u001b[0;34m\u001b[0m\u001b[0m\n\u001b[1;32m     80\u001b[0m         \u001b[0;32melse\u001b[0m\u001b[0;34m:\u001b[0m\u001b[0;34m\u001b[0m\u001b[0;34m\u001b[0m\u001b[0m\n\u001b[0;32m---> 81\u001b[0;31m             \u001b[0mdistance_to_nearest\u001b[0m \u001b[0;34m=\u001b[0m \u001b[0mmin\u001b[0m\u001b[0;34m(\u001b[0m\u001b[0;34m[\u001b[0m\u001b[0mcolor_distance\u001b[0m\u001b[0;34m(\u001b[0m\u001b[0mcolor\u001b[0m\u001b[0;34m,\u001b[0m \u001b[0mc\u001b[0m\u001b[0;34m,\u001b[0m \u001b[0mcolorblind_type\u001b[0m\u001b[0;34m)\u001b[0m \u001b[0;32mfor\u001b[0m \u001b[0mc\u001b[0m \u001b[0;32min\u001b[0m \u001b[0mexclude_colors\u001b[0m\u001b[0;34m]\u001b[0m\u001b[0;34m)\u001b[0m\u001b[0;34m\u001b[0m\u001b[0;34m\u001b[0m\u001b[0m\n\u001b[0m\u001b[1;32m     82\u001b[0m \u001b[0;34m\u001b[0m\u001b[0m\n\u001b[1;32m     83\u001b[0m             \u001b[0;32mif\u001b[0m \u001b[0;34m(\u001b[0m\u001b[0;32mnot\u001b[0m \u001b[0mmax_distance\u001b[0m\u001b[0;34m)\u001b[0m \u001b[0;32mor\u001b[0m \u001b[0;34m(\u001b[0m\u001b[0mdistance_to_nearest\u001b[0m \u001b[0;34m>\u001b[0m \u001b[0mmax_distance\u001b[0m\u001b[0;34m)\u001b[0m\u001b[0;34m:\u001b[0m\u001b[0;34m\u001b[0m\u001b[0;34m\u001b[0m\u001b[0m\n",
      "\u001b[0;32m~/anaconda3/lib/python3.7/site-packages/distinctipy/distinctipy.py\u001b[0m in \u001b[0;36m<listcomp>\u001b[0;34m(.0)\u001b[0m\n\u001b[1;32m     79\u001b[0m \u001b[0;34m\u001b[0m\u001b[0m\n\u001b[1;32m     80\u001b[0m         \u001b[0;32melse\u001b[0m\u001b[0;34m:\u001b[0m\u001b[0;34m\u001b[0m\u001b[0;34m\u001b[0m\u001b[0m\n\u001b[0;32m---> 81\u001b[0;31m             \u001b[0mdistance_to_nearest\u001b[0m \u001b[0;34m=\u001b[0m \u001b[0mmin\u001b[0m\u001b[0;34m(\u001b[0m\u001b[0;34m[\u001b[0m\u001b[0mcolor_distance\u001b[0m\u001b[0;34m(\u001b[0m\u001b[0mcolor\u001b[0m\u001b[0;34m,\u001b[0m \u001b[0mc\u001b[0m\u001b[0;34m,\u001b[0m \u001b[0mcolorblind_type\u001b[0m\u001b[0;34m)\u001b[0m \u001b[0;32mfor\u001b[0m \u001b[0mc\u001b[0m \u001b[0;32min\u001b[0m \u001b[0mexclude_colors\u001b[0m\u001b[0;34m]\u001b[0m\u001b[0;34m)\u001b[0m\u001b[0;34m\u001b[0m\u001b[0;34m\u001b[0m\u001b[0m\n\u001b[0m\u001b[1;32m     82\u001b[0m \u001b[0;34m\u001b[0m\u001b[0m\n\u001b[1;32m     83\u001b[0m             \u001b[0;32mif\u001b[0m \u001b[0;34m(\u001b[0m\u001b[0;32mnot\u001b[0m \u001b[0mmax_distance\u001b[0m\u001b[0;34m)\u001b[0m \u001b[0;32mor\u001b[0m \u001b[0;34m(\u001b[0m\u001b[0mdistance_to_nearest\u001b[0m \u001b[0;34m>\u001b[0m \u001b[0mmax_distance\u001b[0m\u001b[0;34m)\u001b[0m\u001b[0;34m:\u001b[0m\u001b[0;34m\u001b[0m\u001b[0;34m\u001b[0m\u001b[0m\n",
      "\u001b[0;32m~/anaconda3/lib/python3.7/site-packages/distinctipy/distinctipy.py\u001b[0m in \u001b[0;36mcolor_distance\u001b[0;34m(c1, c2, colorblind_type)\u001b[0m\n\u001b[1;32m     44\u001b[0m \u001b[0;34m\u001b[0m\u001b[0m\n\u001b[1;32m     45\u001b[0m     \u001b[0mr1\u001b[0m\u001b[0;34m,\u001b[0m \u001b[0mg1\u001b[0m\u001b[0;34m,\u001b[0m \u001b[0mb1\u001b[0m \u001b[0;34m=\u001b[0m \u001b[0mc1\u001b[0m\u001b[0;34m\u001b[0m\u001b[0;34m\u001b[0m\u001b[0m\n\u001b[0;32m---> 46\u001b[0;31m     \u001b[0mr2\u001b[0m\u001b[0;34m,\u001b[0m \u001b[0mg2\u001b[0m\u001b[0;34m,\u001b[0m \u001b[0mb2\u001b[0m \u001b[0;34m=\u001b[0m \u001b[0mc2\u001b[0m\u001b[0;34m\u001b[0m\u001b[0;34m\u001b[0m\u001b[0m\n\u001b[0m\u001b[1;32m     47\u001b[0m \u001b[0;34m\u001b[0m\u001b[0m\n\u001b[1;32m     48\u001b[0m     \u001b[0mmean_r\u001b[0m \u001b[0;34m=\u001b[0m \u001b[0;34m(\u001b[0m\u001b[0mr1\u001b[0m \u001b[0;34m+\u001b[0m \u001b[0mr2\u001b[0m\u001b[0;34m)\u001b[0m \u001b[0;34m/\u001b[0m \u001b[0;36m2\u001b[0m\u001b[0;34m\u001b[0m\u001b[0;34m\u001b[0m\u001b[0m\n",
      "\u001b[0;31mValueError\u001b[0m: not enough values to unpack (expected 3, got 1)"
     ]
    }
   ],
   "source": [
    "display(HTML(vis.whiteboard('person')))"
   ]
  },
  {
   "cell_type": "code",
   "execution_count": null,
   "metadata": {
    "scrolled": true
   },
   "outputs": [],
   "source": [
    "display(HTML(vis.whiteboard('project')))"
   ]
  },
  {
   "cell_type": "markdown",
   "metadata": {},
   "source": [
    "## Show Someone's Project Assignment"
   ]
  },
  {
   "cell_type": "code",
   "execution_count": null,
   "metadata": {},
   "outputs": [],
   "source": [
    "## dropdown list to select a person\n",
    "widg_person_select = widgets.Dropdown(options=sorted([vis.fc.get_person_name(person_id) for person_id in vis.fc.people.index]),\n",
    "                                 description='Person:')\n",
    "\n",
    "def widg_person_select_alloc(change):\n",
    "    \"\"\"Function called by widgets to update the person allocation plot and table.\n",
    "    The change argument isn't used but it's required for widget.observe.\"\"\"\n",
    "    \n",
    "    # clear the previous output, then display the widgets again\n",
    "    clear_output()\n",
    "    display(widg_person_select)\n",
    "    \n",
    "    # get the person_id from the selected full name (need to first split into first and last names)\n",
    "    names = widg_person_select.value\n",
    "    person_id = vis.fc.get_person_id(names)\n",
    "    \n",
    "    # plot the person allocations\n",
    "    vis.plot_allocations(person_id, 'person')\n",
    "    \n",
    "    # print the person allocations table\n",
    "    #display(vis.table_allocations(person_id, 'person'))\n",
    "    vis.heatmap_allocations(person_id, 'person')\n",
    "    \n",
    "# setup the event listeners\n",
    "widg_person_select.observe(widg_person_select_alloc, names='value')\n",
    "\n",
    "# display the widgets\n",
    "display(widg_person_select)\n",
    "\n",
    "# show results with initial values\n",
    "widg_person_select_alloc(None)"
   ]
  },
  {
   "cell_type": "markdown",
   "metadata": {},
   "source": [
    "## Show Everyone's Total Project Allocation Over Time"
   ]
  },
  {
   "cell_type": "code",
   "execution_count": null,
   "metadata": {
    "scrolled": false
   },
   "outputs": [],
   "source": [
    "vis.heatmap_allocations('ALL_PEOPLE', 'institute');"
   ]
  },
  {
   "cell_type": "markdown",
   "metadata": {},
   "source": [
    "## Show Who's Assigned to a Project"
   ]
  },
  {
   "cell_type": "code",
   "execution_count": null,
   "metadata": {
    "scrolled": false
   },
   "outputs": [],
   "source": [
    "## dropdown list to select a project\n",
    "widg_project_select = widgets.Dropdown(options=sorted([vis.fc.get_project_name(project_id) for project_id in vis.fc.projects.index]),\n",
    "                                 description='project:')\n",
    "\n",
    "def widg_project_select_alloc(change):\n",
    "    \"\"\"Function called by widgets to update the project allocation plot and table.\n",
    "    The change argument isn't used but it's required for widget.observe.\"\"\"\n",
    "    \n",
    "    # clear the previous output, then display the widgets again\n",
    "    clear_output()\n",
    "    display(widg_project_select)\n",
    "    \n",
    "    # get the project_id from the selected full name (need to first split into first and last names)\n",
    "    project_id = vis.fc.get_project_id(widg_project_select.value)\n",
    "    \n",
    "    # plot the project allocations\n",
    "    vis.plot_allocations(project_id, 'institute')\n",
    "    \n",
    "    # plot a heatmap of the allocations\n",
    "    vis.heatmap_allocations(project_id, 'institute')\n",
    "\n",
    "# setup the event listeners\n",
    "widg_project_select.observe(widg_project_select_alloc, names='value')\n",
    "\n",
    "# display the widgets\n",
    "display(widg_project_select)\n",
    "\n",
    "# show results with initial values\n",
    "widg_project_select_alloc(None)"
   ]
  },
  {
   "cell_type": "markdown",
   "metadata": {},
   "source": [
    "## Show the Total Resources Required by All Projects"
   ]
  },
  {
   "cell_type": "code",
   "execution_count": null,
   "metadata": {
    "scrolled": false
   },
   "outputs": [],
   "source": [
    "vis.heatmap_allocations('PROJECT_REQUIREMENTS','institute');"
   ]
  },
  {
   "cell_type": "markdown",
   "metadata": {},
   "source": [
    "## Show the Total Resources Allocated to Each Project"
   ]
  },
  {
   "cell_type": "code",
   "execution_count": null,
   "metadata": {},
   "outputs": [],
   "source": [
    "vis.heatmap_allocations('PROJECT_TOTALS', 'institute');"
   ]
  },
  {
   "cell_type": "markdown",
   "metadata": {},
   "source": [
    "## Show the Additional Resources Needed to be Allocated to Each Project"
   ]
  },
  {
   "cell_type": "code",
   "execution_count": null,
   "metadata": {},
   "outputs": [],
   "source": [
    "vis.heatmap_allocations('PROJECT_NETALLOC', 'institute');"
   ]
  },
  {
   "cell_type": "markdown",
   "metadata": {},
   "source": [
    "## Compare the Capcity of the Team to the Requirements of the Projects"
   ]
  },
  {
   "cell_type": "code",
   "execution_count": null,
   "metadata": {},
   "outputs": [],
   "source": [
    "vis.plot_capacity_check();"
   ]
  },
  {
   "cell_type": "markdown",
   "metadata": {},
   "source": [
    "## Show Allocations for a Placeholder"
   ]
  },
  {
   "cell_type": "code",
   "execution_count": null,
   "metadata": {},
   "outputs": [],
   "source": [
    "## dropdown list to select a placeholder\n",
    "widg_place_select = widgets.Dropdown(options=sorted([vis.fc.get_placeholder_name(idx) for idx in vis.fc.placeholders.index]),\n",
    "                                 description='Placeholder:')\n",
    "\n",
    "def widg_select_alloc(change):\n",
    "    \"\"\"Function called by widgets to update the allocation plot and table.\n",
    "    The change argument isn't used but it's required for widget.observe.\"\"\"\n",
    "    \n",
    "    # clear the previous output, then display the widgets again\n",
    "    clear_output()\n",
    "    display(widg_place_select)\n",
    "    \n",
    "    # get the person_id from the selected full name (need to first split into first and last names)\n",
    "    placeholder_id = vis.fc.get_placeholder_id(widg_place_select.value)\n",
    "    \n",
    "    # plot the person allocations\n",
    "    vis.plot_allocations(placeholder_id, 'placeholder')\n",
    "    \n",
    "    # print the person allocations table\n",
    "    #display(vis.table_allocations(person_id, 'person'))\n",
    "    vis.heatmap_allocations(placeholder_id, 'placeholder')\n",
    "    \n",
    "# setup the event listeners\n",
    "widg_place_select.observe(widg_select_alloc, names='value')\n",
    "\n",
    "# display the widgets\n",
    "display(widg_place_select)\n",
    "\n",
    "# show results with initial values\n",
    "widg_select_alloc(None)"
   ]
  },
  {
   "cell_type": "code",
   "execution_count": null,
   "metadata": {},
   "outputs": [],
   "source": [
    "vis.fc.project_reqs"
   ]
  }
 ],
 "metadata": {
  "kernelspec": {
   "display_name": "Python 3",
   "language": "python",
   "name": "python3"
  },
  "language_info": {
   "codemirror_mode": {
    "name": "ipython",
    "version": 3
   },
   "file_extension": ".py",
   "mimetype": "text/x-python",
   "name": "python",
   "nbconvert_exporter": "python",
   "pygments_lexer": "ipython3",
   "version": "3.7.1"
  }
 },
 "nbformat": 4,
 "nbformat_minor": 2
}
