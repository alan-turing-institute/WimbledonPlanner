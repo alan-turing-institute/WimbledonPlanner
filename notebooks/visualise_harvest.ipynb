{
 "cells": [
  {
   "cell_type": "code",
   "execution_count": 1,
   "metadata": {},
   "outputs": [],
   "source": [
    "import pandas as pd\n",
    "import ipywidgets as widgets\n",
    "from IPython.display import clear_output\n",
    "\n",
    "from wimbledon.vis import Visualise"
   ]
  },
  {
   "cell_type": "markdown",
   "metadata": {},
   "source": [
    "## Select Dates to Show"
   ]
  },
  {
   "cell_type": "code",
   "execution_count": 2,
   "metadata": {},
   "outputs": [
    {
     "data": {
      "application/vnd.jupyter.widget-view+json": {
       "model_id": "3f0d2e7014264655ada4b442c63b9a9e",
       "version_major": 2,
       "version_minor": 0
      },
      "text/plain": [
       "DatePicker(value=datetime.datetime(2018, 8, 19, 16, 16, 16, 487620), description='Start Date:')"
      ]
     },
     "metadata": {},
     "output_type": "display_data"
    },
    {
     "data": {
      "application/vnd.jupyter.widget-view+json": {
       "model_id": "08224d0149bd4698a6a748feb14c1eef",
       "version_major": 2,
       "version_minor": 0
      },
      "text/plain": [
       "DatePicker(value=datetime.datetime(2019, 8, 19, 16, 16, 16, 491510), description='End Date:')"
      ]
     },
     "metadata": {},
     "output_type": "display_data"
    },
    {
     "data": {
      "application/vnd.jupyter.widget-view+json": {
       "model_id": "1e208507c4934770bc72655e3aa091ff",
       "version_major": 2,
       "version_minor": 0
      },
      "text/plain": [
       "RadioButtons(description='Frequency:', options=('Monthly', 'Weekly', 'Daily'), value='Monthly')"
      ]
     },
     "metadata": {},
     "output_type": "display_data"
    }
   ],
   "source": [
    "# date picker to choose a start date\n",
    "widg_start = widgets.DatePicker(\n",
    "                    description='Start Date:',\n",
    "                    value=pd.datetime.now() - pd.Timedelta('365 days'),\n",
    "                    disabled=False)\n",
    "\n",
    "# date picker to choose an end date\n",
    "widg_end = widgets.DatePicker(\n",
    "                    description='End Date:',\n",
    "                    value=pd.datetime.now(),\n",
    "                    disabled=False)\n",
    "\n",
    "freq_dict = {'Monthly':'MS','Weekly':'W-MON','Daily':'D'}\n",
    "\n",
    "# radio buttons to choose the frequency of dates to display in the table\n",
    "widg_freq = widgets.RadioButtons(\n",
    "    options=freq_dict.keys(),\n",
    "    description='Frequency:',\n",
    "    disabled=False)\n",
    "\n",
    "display(widg_start, widg_end, widg_freq)"
   ]
  },
  {
   "cell_type": "markdown",
   "metadata": {},
   "source": [
    "## Initialise Visualisation Object"
   ]
  },
  {
   "cell_type": "code",
   "execution_count": 3,
   "metadata": {
    "scrolled": true
   },
   "outputs": [],
   "source": [
    "vis = Visualise(start_date=pd.to_datetime(widg_start.value), \n",
    "                end_date=pd.to_datetime(widg_end.value), \n",
    "                freq=freq_dict[widg_freq.value])"
   ]
  },
  {
   "cell_type": "code",
   "execution_count": 4,
   "metadata": {},
   "outputs": [],
   "source": [
    "def update_vis_params(change):\n",
    "    vis.START_DATE = pd.to_datetime(widg_start.value)\n",
    "    vis.END_DATE = pd.to_datetime(widg_end.value)\n",
    "    vis.FREQ = freq_dict[widg_freq.value]\n",
    "\n",
    "widg_start.observe(update_vis_params, names='value')\n",
    "widg_end.observe(update_vis_params, names='value')\n",
    "widg_freq.observe(update_vis_params, names='value')"
   ]
  },
  {
   "cell_type": "markdown",
   "metadata": {},
   "source": [
    "## Compare Scheduled Time in Forecast to Tracked Time in Harvest"
   ]
  },
  {
   "cell_type": "code",
   "execution_count": 5,
   "metadata": {
    "scrolled": false
   },
   "outputs": [
    {
     "data": {
      "application/vnd.jupyter.widget-view+json": {
       "model_id": "85963887bf7e448c9bd210d7be8d417d",
       "version_major": 2,
       "version_minor": 0
      },
      "text/plain": [
       "Dropdown(description='Project:', options=('44 days', 'AI for City Planning', 'AIDA', 'AIDA Wrangling', 'AIDA-L…"
      ]
     },
     "metadata": {},
     "output_type": "display_data"
    },
    {
     "data": {
      "application/vnd.jupyter.widget-view+json": {
       "model_id": "9d4502c1ba2049f1b92d3dc8455f8733",
       "version_major": 2,
       "version_minor": 0
      },
      "text/plain": [
       "HBox(children=(Checkbox(value=True, description='Show People?'), Checkbox(value=True, description='Show Error?…"
      ]
     },
     "metadata": {},
     "output_type": "display_data"
    },
    {
     "ename": "AttributeError",
     "evalue": "'Wimbledon' object has no attribute 'get_harvest_id'",
     "output_type": "error",
     "traceback": [
      "\u001b[0;31m---------------------------------------------------------------------------\u001b[0m",
      "\u001b[0;31mAttributeError\u001b[0m                            Traceback (most recent call last)",
      "\u001b[0;32m<ipython-input-5-b10f3c97e1c4>\u001b[0m in \u001b[0;36m<module>\u001b[0;34m\u001b[0m\n\u001b[1;32m     42\u001b[0m \u001b[0;34m\u001b[0m\u001b[0m\n\u001b[1;32m     43\u001b[0m \u001b[0;31m# show results with initial values\u001b[0m\u001b[0;34m\u001b[0m\u001b[0;34m\u001b[0m\u001b[0;34m\u001b[0m\u001b[0m\n\u001b[0;32m---> 44\u001b[0;31m \u001b[0mwidg_change\u001b[0m\u001b[0;34m(\u001b[0m\u001b[0;32mNone\u001b[0m\u001b[0;34m)\u001b[0m\u001b[0;34m\u001b[0m\u001b[0;34m\u001b[0m\u001b[0m\n\u001b[0m",
      "\u001b[0;32m<ipython-input-5-b10f3c97e1c4>\u001b[0m in \u001b[0;36mwidg_change\u001b[0;34m(change)\u001b[0m\n\u001b[1;32m     29\u001b[0m                               \u001b[0mstack\u001b[0m\u001b[0;34m=\u001b[0m\u001b[0mwidg_stack_checkbox\u001b[0m\u001b[0;34m.\u001b[0m\u001b[0mvalue\u001b[0m\u001b[0;34m,\u001b[0m\u001b[0;34m\u001b[0m\u001b[0;34m\u001b[0m\u001b[0m\n\u001b[1;32m     30\u001b[0m                               \u001b[0merr_bar\u001b[0m\u001b[0;34m=\u001b[0m\u001b[0mwidg_err_checkbox\u001b[0m\u001b[0;34m.\u001b[0m\u001b[0mvalue\u001b[0m\u001b[0;34m,\u001b[0m\u001b[0;34m\u001b[0m\u001b[0;34m\u001b[0m\u001b[0m\n\u001b[0;32m---> 31\u001b[0;31m                               err_size=widg_err_size.value)\n\u001b[0m\u001b[1;32m     32\u001b[0m \u001b[0;34m\u001b[0m\u001b[0m\n\u001b[1;32m     33\u001b[0m \u001b[0;31m# setup the event listeners\u001b[0m\u001b[0;34m\u001b[0m\u001b[0;34m\u001b[0m\u001b[0;34m\u001b[0m\u001b[0m\n",
      "\u001b[0;32m~/GitHub/WimbledonPlanner/wimbledon/vis/Visualise.py\u001b[0m in \u001b[0;36mplot_forecast_harvest\u001b[0;34m(self, forecast_id, start_date, end_date, freq, err_bar, err_size, stack)\u001b[0m\n\u001b[1;32m    793\u001b[0m         \u001b[0mstart_date\u001b[0m\u001b[0;34m,\u001b[0m \u001b[0mend_date\u001b[0m\u001b[0;34m,\u001b[0m \u001b[0mfreq\u001b[0m \u001b[0;34m=\u001b[0m \u001b[0mself\u001b[0m\u001b[0;34m.\u001b[0m\u001b[0mget_time_parameters\u001b[0m\u001b[0;34m(\u001b[0m\u001b[0mstart_date\u001b[0m\u001b[0;34m,\u001b[0m \u001b[0mend_date\u001b[0m\u001b[0;34m,\u001b[0m \u001b[0mfreq\u001b[0m\u001b[0;34m)\u001b[0m\u001b[0;34m\u001b[0m\u001b[0;34m\u001b[0m\u001b[0m\n\u001b[1;32m    794\u001b[0m \u001b[0;34m\u001b[0m\u001b[0m\n\u001b[0;32m--> 795\u001b[0;31m         \u001b[0mharvest_id\u001b[0m \u001b[0;34m=\u001b[0m \u001b[0mself\u001b[0m\u001b[0;34m.\u001b[0m\u001b[0mwim\u001b[0m\u001b[0;34m.\u001b[0m\u001b[0mget_harvest_id\u001b[0m\u001b[0;34m(\u001b[0m\u001b[0mforecast_id\u001b[0m\u001b[0;34m)\u001b[0m\u001b[0;34m\u001b[0m\u001b[0;34m\u001b[0m\u001b[0m\n\u001b[0m\u001b[1;32m    796\u001b[0m         \u001b[0;32mif\u001b[0m \u001b[0mnp\u001b[0m\u001b[0;34m.\u001b[0m\u001b[0misnan\u001b[0m\u001b[0;34m(\u001b[0m\u001b[0mharvest_id\u001b[0m\u001b[0;34m)\u001b[0m\u001b[0;34m:\u001b[0m\u001b[0;34m\u001b[0m\u001b[0;34m\u001b[0m\u001b[0m\n\u001b[1;32m    797\u001b[0m             \u001b[0;32mraise\u001b[0m \u001b[0mValueError\u001b[0m\u001b[0;34m(\u001b[0m\u001b[0;34m'No harvest_id exists for forecast_id '\u001b[0m\u001b[0;34m+\u001b[0m\u001b[0mstr\u001b[0m\u001b[0;34m(\u001b[0m\u001b[0mforecast_id\u001b[0m\u001b[0;34m)\u001b[0m\u001b[0;34m)\u001b[0m\u001b[0;34m\u001b[0m\u001b[0;34m\u001b[0m\u001b[0m\n",
      "\u001b[0;31mAttributeError\u001b[0m: 'Wimbledon' object has no attribute 'get_harvest_id'"
     ]
    }
   ],
   "source": [
    "## dropdown list to select a project\n",
    "widg_project_select = widgets.Dropdown(options=sorted([vis.wim.get_project_name(project_id) for project_id in vis.wim.projects.index]),\n",
    "                                 description='Project:')\n",
    "\n",
    "\n",
    "widg_stack_checkbox = widgets.Checkbox(value=True, description='Show People?')\n",
    "widg_err_checkbox = widgets.Checkbox(value=True, description='Show Error?')\n",
    "widg_err_size = widgets.FloatSlider(value=0.2, min=0, max=0.5, step=0.01,\n",
    "                                    description='Error size:',\n",
    "                                    orientation='horizontal',\n",
    "                                    continuous_update=False,\n",
    "                                    readout=True,\n",
    "                                    readout_format='.0%')\n",
    "\n",
    "def widg_change(change):\n",
    "    \"\"\"Function called by widgets to update the project allocation plot and table.\n",
    "    The change argument isn't used but it's required for widget.observe.\"\"\"\n",
    "    \n",
    "    # clear the previous output, then display the widgets again\n",
    "    clear_output()\n",
    "    display(widg_project_select, \n",
    "            widgets.HBox([widg_stack_checkbox, widg_err_checkbox, widg_err_size]))\n",
    "    \n",
    "    # get the project_id from the selected full name (need to first split into first and last names)\n",
    "    project_id = vis.wim.get_project_id(widg_project_select.value)\n",
    "    \n",
    "    # plot the harvest vs forecast comparison\n",
    "    vis.plot_forecast_harvest(project_id, \n",
    "                              stack=widg_stack_checkbox.value,\n",
    "                              err_bar=widg_err_checkbox.value,\n",
    "                              err_size=widg_err_size.value)\n",
    "\n",
    "# setup the event listeners\n",
    "widg_project_select.observe(widg_change, names='value')\n",
    "widg_stack_checkbox.observe(widg_change, names='value')\n",
    "widg_err_checkbox.observe(widg_change, names='value')\n",
    "widg_err_size.observe(widg_change, names='value')\n",
    "\n",
    "# display the widgets\n",
    "display(widg_project_select, \n",
    "        widgets.HBox([widg_stack_checkbox, widg_err_checkbox, widg_err_size]))\n",
    "\n",
    "# show results with initial values\n",
    "widg_change(None)"
   ]
  },
  {
   "cell_type": "markdown",
   "metadata": {},
   "source": [
    "## Plot Tracked Time with Different Groupings/Styles"
   ]
  },
  {
   "cell_type": "code",
   "execution_count": null,
   "metadata": {
    "scrolled": false
   },
   "outputs": [],
   "source": [
    "# TODO: Fix nasty errors in cases where there's nothing to plot\n",
    "\n",
    "group_dict = {'project': ['person', 'task', 'TOTAL'],\n",
    "              'person': ['project', 'client', 'task', 'TOTAL'],\n",
    "              'client': ['TOTAL'],\n",
    "              'task': ['TOTAL']}\n",
    "\n",
    "widg_id_type = widgets.Dropdown(options=group_dict.keys(), description='id_type:')\n",
    "\n",
    "\n",
    "widg_group_type = widgets.Dropdown(options=group_dict[widg_id_type.value],\n",
    "                                 description='group_type:')\n",
    "\n",
    "widg_id_value = widgets.Dropdown(options=sorted(vis.wim.projects['name']), \n",
    "                                 description='id_value:')\n",
    "\n",
    "widg_plot_type = widgets.RadioButtons(options=['bar', 'heatmap', 'pie'],\n",
    "                                      description='Plot type:')\n",
    "\n",
    "widg_update_button = widgets.Button(description='Update plot')\n",
    "\n",
    "def widg_harvest_update(change):\n",
    "    \"\"\"Function called by widgets to update the project allocation plot and table.\n",
    "    The change argument isn't used but it's required for widget.observe.\"\"\"\n",
    "    \n",
    "    # clear the previous output, then display the widgets again\n",
    "    clear_output()\n",
    "    # display the widgets\n",
    "    display(widgets.HBox([widg_id_type, widg_group_type]), widg_id_value, widgets.HBox([widg_plot_type, widg_update_button]))\n",
    "    \n",
    "    # get the id from the selected type and value\n",
    "    id_value = vis.wim.get_id(widg_id_value.value, widg_id_type.value)\n",
    "\n",
    "    try:\n",
    "        vis.plot_harvest(widg_id_type.value, \n",
    "                         widg_group_type.value,\n",
    "                         harvest_id=id_value,\n",
    "                         plot_type = widg_plot_type.value)\n",
    "    except:\n",
    "        print('No data to plot')\n",
    "    \n",
    "def widg_update_groups(change):\n",
    "    widg_group_type.options = group_dict[widg_id_type.value]            \n",
    "    \n",
    "def widg_update_ids(change):\n",
    "    if widg_id_type.value=='person':\n",
    "        widg_id_value.options = sorted(vis.wim.people['first_name'] + ' ' + vis.wim.people['last_name'])\n",
    "    elif widg_id_type.value=='project':\n",
    "        widg_id_value.options = sorted(vis.wim.projects['name'])\n",
    "    elif widg_id_type.value=='client':\n",
    "        widg_id_value.options = sorted(vis.wim.clients['name'])\n",
    "    elif widg_id_type.value=='task':\n",
    "        widg_id_value.options = sorted(vis.wim.tasks['name'])\n",
    "\n",
    "def widg_update_id_type(change):\n",
    "    widg_update_ids(change)\n",
    "    widg_update_groups(change)\n",
    "    \n",
    "# setup the event listeners\n",
    "widg_id_type.observe(widg_update_id_type, names='value')\n",
    "widg_update_button.on_click(widg_harvest_update)\n",
    "\n",
    "# display the widgets\n",
    "display(widgets.HBox([widg_id_type, widg_group_type]), widg_id_value, widgets.HBox([widg_plot_type, widg_update_button]))\n",
    "\n",
    "# show results with initial values\n",
    "widg_harvest_update(None)"
   ]
  },
  {
   "cell_type": "code",
   "execution_count": null,
   "metadata": {},
   "outputs": [],
   "source": [
    "vis.wim.projects_people"
   ]
  },
  {
   "cell_type": "code",
   "execution_count": null,
   "metadata": {},
   "outputs": [],
   "source": []
  }
 ],
 "metadata": {
  "kernelspec": {
   "display_name": "Python 3",
   "language": "python",
   "name": "python3"
  },
  "language_info": {
   "codemirror_mode": {
    "name": "ipython",
    "version": 3
   },
   "file_extension": ".py",
   "mimetype": "text/x-python",
   "name": "python",
   "nbconvert_exporter": "python",
   "pygments_lexer": "ipython3",
   "version": "3.7.1"
  }
 },
 "nbformat": 4,
 "nbformat_minor": 2
}
