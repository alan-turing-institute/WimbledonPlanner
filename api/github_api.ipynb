{
 "cells": [
  {
   "cell_type": "code",
   "execution_count": 1,
   "metadata": {},
   "outputs": [],
   "source": [
    "import requests\n",
    "import json\n",
    "from IPython.display import HTML, display"
   ]
  },
  {
   "cell_type": "code",
   "execution_count": 2,
   "metadata": {},
   "outputs": [],
   "source": [
    "with open('github.token', 'r') as f:\n",
    "    token = f.read().strip()\n",
    "\n",
    "headers = {\"Authorization\": \"Bearer \" + token}\n",
    "\n",
    "\n",
    "def run_query(query):  # A simple function to use requests.post to make the API call. Note the json= section.\n",
    "    request = requests.post('https://api.github.com/graphql', json={'query': query}, headers=headers)\n",
    "    if request.status_code == 200:\n",
    "        return request.json()\n",
    "    else:\n",
    "        raise Exception(\"Query failed to run by returning code of {}. {}\".format(request.status_code, query))\n"
   ]
  },
  {
   "cell_type": "code",
   "execution_count": 3,
   "metadata": {},
   "outputs": [],
   "source": [
    "emojis = {'CONFUSED': '😕',\n",
    "          'EYES': '👀',\n",
    "          'HEART': '❤️',\n",
    "          'HOORAY': '🎉',    \n",
    "          'ROCKET': '🚀',\n",
    "          'THUMBS_DOWN': '👎',\n",
    "          'THUMBS_UP': '👍',\n",
    "          'LAUGH': '😄'}"
   ]
  },
  {
   "cell_type": "code",
   "execution_count": 4,
   "metadata": {},
   "outputs": [],
   "source": [
    "issues = [126, 122, 189, 153, 25, 158, 205, 270, 291,\n",
    "      306, 96, 76, 118, 174, 311, 286, 199, 31, 115,\n",
    "      64, 132, 46, 27, 106, 183, 50, 98, 190, 93,\n",
    "      243, 266, 295, 231, 240, 244, 175, 232, 238,\n",
    "      289, 230, 309, 308, 317, 218, 234, 298, 297,\n",
    "      229, 233, 302, 265, 237, 59, 176, 301, 149, 58,\n",
    "      134, 382, 217, 299, 239, 363, 360, 210, 359,\n",
    "      379, 381, 34, 332, 293, 28, 378, 377, 383]"
   ]
  },
  {
   "cell_type": "code",
   "execution_count": 5,
   "metadata": {},
   "outputs": [],
   "source": [
    "query = \"\"\"\n",
    "{\n",
    "  repository(owner:\"alan-turing-institute\", name:\"Hut23\") {\n",
    "    issue(number:X) {\n",
    "          number\n",
    "          title\n",
    "          url\n",
    "\n",
    "          reactionGroups {\n",
    "            content\n",
    "            users(first:20) {\n",
    "                edges {\n",
    "                    node {\n",
    "                        login\n",
    "                        name\n",
    "                    }\n",
    "                }\n",
    "            }\n",
    "            }\n",
    "    }\n",
    "  }\n",
    "}\n",
    "\"\"\""
   ]
  },
  {
   "cell_type": "code",
   "execution_count": 29,
   "metadata": {},
   "outputs": [],
   "source": [
    "def tabulate_emojis(query_result, issue_num):\n",
    "    data = [\n",
    "        [\"Person\"],\n",
    "        [\"Rating\"]]\n",
    "    for reaction in query_result['data']['repository']['issue']['reactionGroups']:\n",
    "        for edge in reaction['users']['edges']:\n",
    "            if edge['node']['name']:\n",
    "                data[0].append(edge['node']['name'])\n",
    "            else:\n",
    "                data[0].append(edge['node']['login'])\n",
    "        \n",
    "            data[1].append(emojis[reaction['content']])           \n",
    "\n",
    "    print(str(issue_num) + \": \" + query_result['data']['repository']['issue']['title'])\n",
    "    display(HTML(\n",
    "   '<table><tr>{}</tr></table>'.format(\n",
    "       '</tr><tr>'.join(\n",
    "           '<td>{}</td>'.format('</td><td>'.join(str(_) for _ in row)) for row in data)\n",
    "       )\n",
    "    ))\n"
   ]
  },
  {
   "cell_type": "code",
   "execution_count": 33,
   "metadata": {},
   "outputs": [],
   "source": [
    "def query_result_contains_emojis(query_result):\n",
    "    for reaction in query_result['data']['repository']['issue']['reactionGroups']:\n",
    "        if len(reaction['users']['edges']) > 0:\n",
    "            return True\n",
    "    return False"
   ]
  },
  {
   "cell_type": "markdown",
   "metadata": {},
   "source": [
    "**TODO**\n",
    "1. Have queries that work for the other issues not currently working for - WORKS FOR ALL, JUST HAD TO FILTER THOSE WITH NO REACTIONS/EMOJIS\n",
    "2. Save the real names preferably rather than github id - DONE\n",
    "3. Incorporate the issues list from github directly\n",
    "4. Think about how to filter by availability, using forecast data for people and project\n",
    "2. Think of best ways to save the output, this simple table? csv? Eventually will go in main Wimbledon planner"
   ]
  },
  {
   "cell_type": "code",
   "execution_count": 34,
   "metadata": {},
   "outputs": [
    {
     "name": "stdout",
     "output_type": "stream",
     "text": [
      "205: Crypto-Friendly Models for Faster Encrypted Prediction - Adria Gascon\n"
     ]
    },
    {
     "data": {
      "text/html": [
       "<table><tr><td>Person</td><td>cathiest</td></tr><tr><td>Rating</td><td>👍</td></tr></table>"
      ],
      "text/plain": [
       "<IPython.core.display.HTML object>"
      ]
     },
     "metadata": {},
     "output_type": "display_data"
    },
    {
     "name": "stdout",
     "output_type": "stream",
     "text": [
      "270: The Turing Way - reproducible research practice guide - Phase 1\n"
     ]
    },
    {
     "data": {
      "text/html": [
       "<table><tr><td>Person</td><td>Giovanni Colavizza</td><td>Camila Rangel Smith</td><td>Radka Jersakova</td><td>Sarah Gibson</td><td>myyong</td><td>Oliver Strickson</td><td>Tomas Lazauskas</td><td>nbarlowATI</td><td>Tim Hobson</td><td>miguelmorin</td><td>James Robinson</td><td>Kasra Hosseini</td><td>Louise Bowler</td><td>Evelina Gabasova</td></tr><tr><td>Rating</td><td>👍</td><td>👍</td><td>👍</td><td>👍</td><td>👎</td><td>👎</td><td>👎</td><td>👎</td><td>👎</td><td>👎</td><td>👎</td><td>👎</td><td>😄</td><td>😄</td></tr></table>"
      ],
      "text/plain": [
       "<IPython.core.display.HTML object>"
      ]
     },
     "metadata": {},
     "output_type": "display_data"
    },
    {
     "name": "stdout",
     "output_type": "stream",
     "text": [
      "291: Biobank algorithm - Classify Fitbit data with parallel TensorFlow \n"
     ]
    },
    {
     "data": {
      "text/html": [
       "<table><tr><td>Person</td><td>Tomas Lazauskas</td><td>Camila Rangel Smith</td><td>nbarlowATI</td><td>Sarah Gibson</td><td>miguelmorin</td><td>Evelina Gabasova</td><td>Radka Jersakova</td><td>Tim Hobson</td><td>Louise Bowler</td><td>Giovanni Colavizza</td><td>James Robinson</td><td>Kasra Hosseini</td></tr><tr><td>Rating</td><td>👍</td><td>👍</td><td>👍</td><td>👍</td><td>👍</td><td>👍</td><td>👎</td><td>👎</td><td>👎</td><td>👎</td><td>👎</td><td>👎</td></tr></table>"
      ],
      "text/plain": [
       "<IPython.core.display.HTML object>"
      ]
     },
     "metadata": {},
     "output_type": "display_data"
    },
    {
     "name": "stdout",
     "output_type": "stream",
     "text": [
      "306: Posterior Bootstrap - Scaleable approach to Bayesian non parametric learning\n"
     ]
    },
    {
     "data": {
      "text/html": [
       "<table><tr><td>Person</td><td>Tim Hobson</td><td>Evelina Gabasova</td><td>Sarah Gibson</td><td>miguelmorin</td><td>Radka Jersakova</td><td>Tomas Lazauskas</td><td>Camila Rangel Smith</td><td>Louise Bowler</td><td>nbarlowATI</td><td>Giovanni Colavizza</td><td>James Robinson</td><td>Kasra Hosseini</td></tr><tr><td>Rating</td><td>👍</td><td>👍</td><td>👍</td><td>👍</td><td>👎</td><td>👎</td><td>👎</td><td>👎</td><td>👎</td><td>👎</td><td>👎</td><td>👎</td></tr></table>"
      ],
      "text/plain": [
       "<IPython.core.display.HTML object>"
      ]
     },
     "metadata": {},
     "output_type": "display_data"
    },
    {
     "name": "stdout",
     "output_type": "stream",
     "text": [
      "96: Living with Machines - BL project\n"
     ]
    },
    {
     "data": {
      "text/html": [
       "<table><tr><td>Person</td><td>nbarlowATI</td><td>Camila Rangel Smith</td><td>Evelina Gabasova</td><td>Tim Hobson</td><td>Radka Jersakova</td><td>James Robinson</td><td>Louise Bowler</td><td>Oscar T Giles</td><td>Tomas Lazauskas</td><td>myyong</td><td>Jim Madge</td><td>Giovanni Colavizza</td><td>miguelmorin</td><td>Jack Roberts</td><td>Sarah Gibson</td><td>Kasra Hosseini</td></tr><tr><td>Rating</td><td>👍</td><td>👍</td><td>👍</td><td>👍</td><td>👍</td><td>👍</td><td>👍</td><td>👍</td><td>👎</td><td>👎</td><td>👎</td><td>😄</td><td>😄</td><td>😄</td><td>😄</td><td>😄</td></tr></table>"
      ],
      "text/plain": [
       "<IPython.core.display.HTML object>"
      ]
     },
     "metadata": {},
     "output_type": "display_data"
    },
    {
     "name": "stdout",
     "output_type": "stream",
     "text": [
      "118: GUARD: Global Urban Analytics for Resilient Defence\n"
     ]
    },
    {
     "data": {
      "text/html": [
       "<table><tr><td>Person</td><td>nbarlowATI</td><td>Giovanni Colavizza</td><td>Radka Jersakova</td><td>Sarah Gibson</td><td>James Robinson</td><td>Tim Hobson</td><td>myyong</td><td>Tomas Lazauskas</td><td>miguelmorin</td><td>Evelina Gabasova</td><td>Camila Rangel Smith</td><td>Kasra Hosseini</td></tr><tr><td>Rating</td><td>👍</td><td>👍</td><td>👍</td><td>👍</td><td>👍</td><td>👍</td><td>👎</td><td>👎</td><td>👎</td><td>😄</td><td>😄</td><td>😄</td></tr></table>"
      ],
      "text/plain": [
       "<IPython.core.display.HTML object>"
      ]
     },
     "metadata": {},
     "output_type": "display_data"
    },
    {
     "name": "stdout",
     "output_type": "stream",
     "text": [
      "174: Clean air project (Theo Damoulas)\n"
     ]
    },
    {
     "data": {
      "text/html": [
       "<table><tr><td>Person</td><td>Tomas Lazauskas</td><td>Tim Hobson</td><td>nbarlowATI</td><td>Jim Madge</td><td>Sarah Gibson</td><td>Giovanni Colavizza</td><td>myyong</td><td>James Robinson</td><td>Evelina Gabasova</td><td>Louise Bowler</td><td>Camila Rangel Smith</td><td>miguelmorin</td><td>Jack Roberts</td><td>Oscar T Giles</td><td>Kasra Hosseini</td></tr><tr><td>Rating</td><td>👍</td><td>👍</td><td>👍</td><td>👍</td><td>👍</td><td>👎</td><td>👎</td><td>😄</td><td>😄</td><td>😄</td><td>😄</td><td>😄</td><td>😄</td><td>😄</td><td>😄</td></tr></table>"
      ],
      "text/plain": [
       "<IPython.core.display.HTML object>"
      ]
     },
     "metadata": {},
     "output_type": "display_data"
    },
    {
     "name": "stdout",
     "output_type": "stream",
     "text": [
      "311: AIDA/Lloyds\n"
     ]
    },
    {
     "data": {
      "text/html": [
       "<table><tr><td>Person</td><td>Evelina Gabasova</td><td>Sarah Gibson</td><td>Louise Bowler</td><td>Tim Hobson</td><td>Giovanni Colavizza</td><td>James Robinson</td><td>miguelmorin</td><td>Kasra Hosseini</td><td>Tomas Lazauskas</td><td>myyong</td><td>Camila Rangel Smith</td></tr><tr><td>Rating</td><td>👍</td><td>👍</td><td>👍</td><td>👍</td><td>👍</td><td>👍</td><td>👍</td><td>👍</td><td>👎</td><td>👎</td><td>😄</td></tr></table>"
      ],
      "text/plain": [
       "<IPython.core.display.HTML object>"
      ]
     },
     "metadata": {},
     "output_type": "display_data"
    },
    {
     "name": "stdout",
     "output_type": "stream",
     "text": [
      "286: Benchmarking Framework for Data Science algorithms - Anthony Lee\n"
     ]
    },
    {
     "data": {
      "text/html": [
       "<table><tr><td>Person</td><td>Tim Hobson</td><td>Sarah Gibson</td><td>James Robinson</td><td>myyong</td><td>Radka Jersakova</td><td>Louise Bowler</td><td>miguelmorin</td><td>Evelina Gabasova</td><td>Camila Rangel Smith</td><td>Oscar T Giles</td><td>Tomas Lazauskas</td></tr><tr><td>Rating</td><td>👍</td><td>👍</td><td>👍</td><td>👎</td><td>👎</td><td>👎</td><td>👎</td><td>👎</td><td>👎</td><td>👎</td><td>😄</td></tr></table>"
      ],
      "text/plain": [
       "<IPython.core.display.HTML object>"
      ]
     },
     "metadata": {},
     "output_type": "display_data"
    },
    {
     "name": "stdout",
     "output_type": "stream",
     "text": [
      "199:  Performance Tuning with Structured Bayesian Optimisation and Reinforcement Learning (Eiko Yoneki seed project)\n"
     ]
    },
    {
     "data": {
      "text/html": [
       "<table><tr><td>Person</td><td>miguelmorin</td><td>James Robinson</td><td>myyong</td><td>Radka Jersakova</td><td>Oliver Strickson</td><td>nbarlowATI</td><td>Camila Rangel Smith</td><td>Louise Bowler</td><td>Evelina Gabasova</td><td>Tim Hobson</td><td>Tomas Lazauskas</td></tr><tr><td>Rating</td><td>👍</td><td>👍</td><td>👎</td><td>👎</td><td>👎</td><td>👎</td><td>👎</td><td>👎</td><td>👎</td><td>👎</td><td>😄</td></tr></table>"
      ],
      "text/plain": [
       "<IPython.core.display.HTML object>"
      ]
     },
     "metadata": {},
     "output_type": "display_data"
    },
    {
     "name": "stdout",
     "output_type": "stream",
     "text": [
      "115: NATS - Air Traffic Control \n"
     ]
    },
    {
     "data": {
      "text/html": [
       "<table><tr><td>Person</td><td>Tomas Lazauskas</td><td>nbarlowATI</td><td>Camila Rangel Smith</td><td>miguelmorin</td><td>myyong</td><td>Oliver Strickson</td><td>Louise Bowler</td><td>Evelina Gabasova</td><td>Tim Hobson</td><td>Radka Jersakova</td><td>James Robinson</td><td>Kasra Hosseini</td></tr><tr><td>Rating</td><td>👍</td><td>👍</td><td>👍</td><td>👍</td><td>👎</td><td>👎</td><td>😄</td><td>😄</td><td>😄</td><td>😄</td><td>😄</td><td>😄</td></tr></table>"
      ],
      "text/plain": [
       "<IPython.core.display.HTML object>"
      ]
     },
     "metadata": {},
     "output_type": "display_data"
    },
    {
     "name": "stdout",
     "output_type": "stream",
     "text": [
      "183: Probabilistic FEM - Mark Girolami\n"
     ]
    },
    {
     "data": {
      "text/html": [
       "<table><tr><td>Person</td><td>Tim Hobson</td><td>nbarlowATI</td><td>miguelmorin</td><td>Jack Roberts</td><td>Jim Madge</td><td>Lachlan Mason</td><td>myyong</td><td>Evelina Gabasova</td><td>Camila Rangel Smith</td><td>Sarah Gibson</td><td>James Robinson</td><td>Tomas Lazauskas</td><td>Radka Jersakova</td><td>Louise Bowler</td><td>Oscar T Giles</td><td>Kasra Hosseini</td><td>James Hetherington</td></tr><tr><td>Rating</td><td>👍</td><td>👍</td><td>👍</td><td>👍</td><td>👍</td><td>👍</td><td>👎</td><td>👎</td><td>👎</td><td>👎</td><td>👎</td><td>👎</td><td>👎</td><td>👎</td><td>👎</td><td>👎</td><td>😄</td></tr></table>"
      ],
      "text/plain": [
       "<IPython.core.display.HTML object>"
      ]
     },
     "metadata": {},
     "output_type": "display_data"
    },
    {
     "name": "stdout",
     "output_type": "stream",
     "text": [
      "190: Azure Safe Haven - Phase 1\n"
     ]
    },
    {
     "data": {
      "text/html": [
       "<table><tr><td>Person</td><td>Tomas Lazauskas</td><td>James Robinson</td><td>Kasra Hosseini</td></tr><tr><td>Rating</td><td>👍</td><td>👎</td><td>👎</td></tr></table>"
      ],
      "text/plain": [
       "<IPython.core.display.HTML object>"
      ]
     },
     "metadata": {},
     "output_type": "display_data"
    },
    {
     "name": "stdout",
     "output_type": "stream",
     "text": [
      "266: NoCell\n"
     ]
    },
    {
     "data": {
      "text/html": [
       "<table><tr><td>Person</td><td>nbarlowATI</td><td>Evelina Gabasova</td><td>Tim Hobson</td><td>Sarah Gibson</td><td>myyong</td><td>Louise Bowler</td><td>Tomas Lazauskas</td><td>Camila Rangel Smith</td><td>Radka Jersakova</td><td>James Robinson</td><td>Kasra Hosseini</td><td>Oliver Strickson</td><td>miguelmorin</td></tr><tr><td>Rating</td><td>👍</td><td>👍</td><td>👍</td><td>👍</td><td>👎</td><td>👎</td><td>👎</td><td>👎</td><td>👎</td><td>👎</td><td>👎</td><td>😄</td><td>😄</td></tr></table>"
      ],
      "text/plain": [
       "<IPython.core.display.HTML object>"
      ]
     },
     "metadata": {},
     "output_type": "display_data"
    },
    {
     "name": "stdout",
     "output_type": "stream",
     "text": [
      "295: ALogit Python\n"
     ]
    },
    {
     "data": {
      "text/html": [
       "<table><tr><td>Person</td><td>nbarlowATI</td><td>James Robinson</td><td>Tim Hobson</td><td>Tomas Lazauskas</td><td>Evelina Gabasova</td><td>Sarah Gibson</td><td>Camila Rangel Smith</td><td>Giovanni Colavizza</td><td>myyong</td><td>Radka Jersakova</td><td>Louise Bowler</td><td>miguelmorin</td></tr><tr><td>Rating</td><td>👍</td><td>👍</td><td>👍</td><td>👎</td><td>👎</td><td>👎</td><td>👎</td><td>👎</td><td>👎</td><td>👎</td><td>👎</td><td>😄</td></tr></table>"
      ],
      "text/plain": [
       "<IPython.core.display.HTML object>"
      ]
     },
     "metadata": {},
     "output_type": "display_data"
    },
    {
     "name": "stdout",
     "output_type": "stream",
     "text": [
      "231: UQM^3 - Uncertainty in multi-scale, multi-physics models - Serge Guillas - UCL TF Project\n"
     ]
    },
    {
     "data": {
      "text/html": [
       "<table><tr><td>Person</td><td>Tim Hobson</td><td>Oliver Strickson</td><td>Louise Bowler</td><td>Camila Rangel Smith</td><td>James Robinson</td><td>Jim Madge</td><td>Kasra Hosseini</td><td>myyong</td><td>Evelina Gabasova</td><td>Radka Jersakova</td><td>miguelmorin</td><td>Sarah Gibson</td><td>Giovanni Colavizza</td><td>Jack Roberts</td><td>Oscar T Giles</td><td>Tomas Lazauskas</td><td>nbarlowATI</td></tr><tr><td>Rating</td><td>👍</td><td>👍</td><td>👍</td><td>👍</td><td>👍</td><td>👍</td><td>👍</td><td>👎</td><td>👎</td><td>👎</td><td>👎</td><td>👎</td><td>👎</td><td>👎</td><td>👎</td><td>😄</td><td>😄</td></tr></table>"
      ],
      "text/plain": [
       "<IPython.core.display.HTML object>"
      ]
     },
     "metadata": {},
     "output_type": "display_data"
    },
    {
     "name": "stdout",
     "output_type": "stream",
     "text": [
      "240: DS for sustainable development - Gavin Shaddick - Exeter TF project proposal\n"
     ]
    },
    {
     "data": {
      "text/html": [
       "<table><tr><td>Person</td><td>myyong</td><td>Evelina Gabasova</td><td>Radka Jersakova</td><td>Louise Bowler</td><td>Sarah Gibson</td><td>James Robinson</td><td>Tomas Lazauskas</td><td>Tim Hobson</td><td>Oliver Strickson</td><td>miguelmorin</td><td>Giovanni Colavizza</td><td>Camila Rangel Smith</td><td>nbarlowATI</td></tr><tr><td>Rating</td><td>👍</td><td>👍</td><td>👍</td><td>👍</td><td>👍</td><td>👍</td><td>👎</td><td>👎</td><td>👎</td><td>👎</td><td>👎</td><td>😄</td><td>😄</td></tr></table>"
      ],
      "text/plain": [
       "<IPython.core.display.HTML object>"
      ]
     },
     "metadata": {},
     "output_type": "display_data"
    },
    {
     "name": "stdout",
     "output_type": "stream",
     "text": [
      "244: Urban observatory spatial sampling - Rachel Franklin Newcastle TF project proposal\n"
     ]
    },
    {
     "data": {
      "text/html": [
       "<table><tr><td>Person</td><td>nbarlowATI</td><td>Camila Rangel Smith</td><td>Louise Bowler</td><td>Jack Roberts</td><td>Kasra Hosseini</td><td>Jim Madge</td><td>Ed Chalstrey</td><td>Eric Daub</td><td>AshwiniKV</td><td>Oscar T Giles</td><td>Tomas Lazauskas</td><td>Evelina Gabasova</td><td>Radka Jersakova</td><td>Oliver Strickson</td><td>miguelmorin</td><td>Sarah Gibson</td><td>James Robinson</td><td>Giovanni Colavizza</td><td>Roly Perera</td><td>myyong</td><td>Tim Hobson</td></tr><tr><td>Rating</td><td>👍</td><td>👍</td><td>👍</td><td>👍</td><td>👍</td><td>👍</td><td>👍</td><td>👍</td><td>👍</td><td>👍</td><td>👎</td><td>👎</td><td>👎</td><td>👎</td><td>👎</td><td>👎</td><td>👎</td><td>👎</td><td>👎</td><td>👎</td><td>👎</td></tr></table>"
      ],
      "text/plain": [
       "<IPython.core.display.HTML object>"
      ]
     },
     "metadata": {},
     "output_type": "display_data"
    },
    {
     "name": "stdout",
     "output_type": "stream",
     "text": [
      "175: Knowledge Flows - Neave O'Clery - HSBC/ONS\n"
     ]
    },
    {
     "data": {
      "text/html": [
       "<table><tr><td>Person</td><td>Radka Jersakova</td><td>nbarlowATI</td><td>Louise Bowler</td><td>Tim Hobson</td><td>James Robinson</td><td>Tomas Lazauskas</td><td>myyong</td><td>Oliver Strickson</td><td>miguelmorin</td><td>Camila Rangel Smith</td><td>Evelina Gabasova</td></tr><tr><td>Rating</td><td>👍</td><td>👍</td><td>👍</td><td>👍</td><td>👍</td><td>👎</td><td>👎</td><td>👎</td><td>👎</td><td>😄</td><td>😄</td></tr></table>"
      ],
      "text/plain": [
       "<IPython.core.display.HTML object>"
      ]
     },
     "metadata": {},
     "output_type": "display_data"
    },
    {
     "name": "stdout",
     "output_type": "stream",
     "text": [
      "232: Uncertainty quantification for black box models - Peter Challenor - Exeter TF project\n"
     ]
    },
    {
     "data": {
      "text/html": [
       "<table><tr><td>Person</td><td>myyong</td><td>Tomas Lazauskas</td><td>Tim Hobson</td><td>Evelina Gabasova</td><td>Radka Jersakova</td><td>Oliver Strickson</td><td>Louise Bowler</td><td>nbarlowATI</td><td>Camila Rangel Smith</td><td>miguelmorin</td><td>Sarah Gibson</td><td>James Robinson</td><td>Giovanni Colavizza</td><td>Jack Roberts</td><td>Jim Madge</td><td>Oscar T Giles</td><td>Kasra Hosseini</td></tr><tr><td>Rating</td><td>👍</td><td>👍</td><td>👍</td><td>👎</td><td>👎</td><td>👎</td><td>👎</td><td>👎</td><td>👎</td><td>👎</td><td>👎</td><td>👎</td><td>👎</td><td>👎</td><td>👎</td><td>👎</td><td>👎</td></tr></table>"
      ],
      "text/plain": [
       "<IPython.core.display.HTML object>"
      ]
     },
     "metadata": {},
     "output_type": "display_data"
    },
    {
     "name": "stdout",
     "output_type": "stream",
     "text": [
      "238: Lomax, Heppenstall and Malleson: Leeds TF projects.\n"
     ]
    },
    {
     "data": {
      "text/html": [
       "<table><tr><td>Person</td><td>Evelina Gabasova</td><td>nbarlowATI</td><td>Tim Hobson</td><td>Radka Jersakova</td><td>James Robinson</td><td>Oscar T Giles</td><td>myyong</td><td>Tomas Lazauskas</td><td>Oliver Strickson</td><td>miguelmorin</td><td>Sarah Gibson</td><td>Giovanni Colavizza</td><td>Jim Madge</td><td>Louise Bowler</td><td>Camila Rangel Smith</td><td>Kasra Hosseini</td></tr><tr><td>Rating</td><td>👍</td><td>👍</td><td>👍</td><td>👍</td><td>👍</td><td>👍</td><td>👎</td><td>👎</td><td>👎</td><td>👎</td><td>👎</td><td>👎</td><td>👎</td><td>😄</td><td>😄</td><td>😄</td></tr></table>"
      ],
      "text/plain": [
       "<IPython.core.display.HTML object>"
      ]
     },
     "metadata": {},
     "output_type": "display_data"
    },
    {
     "name": "stdout",
     "output_type": "stream",
     "text": [
      "230: Auto generation of deep learning networks - Stephen McGough - Newcastle\n"
     ]
    },
    {
     "data": {
      "text/html": [
       "<table><tr><td>Person</td><td>Giovanni Colavizza</td><td>Evelina Gabasova</td><td>Louise Bowler</td><td>Tim Hobson</td><td>Radka Jersakova</td><td>nbarlowATI</td><td>Sarah Gibson</td><td>Jim Madge</td><td>Jack Roberts</td><td>Kasra Hosseini</td><td>Oscar T Giles</td><td>Oliver Strickson</td><td>Roly Perera</td><td>myyong</td><td>Eric Daub</td><td>Ed Chalstrey</td><td>AshwiniKV</td><td>Tomas Lazauskas</td><td>miguelmorin</td><td>James Robinson</td><td>Camila Rangel Smith</td></tr><tr><td>Rating</td><td>👍</td><td>👍</td><td>👍</td><td>👍</td><td>👍</td><td>👍</td><td>👍</td><td>👍</td><td>👍</td><td>👍</td><td>👍</td><td>👎</td><td>👎</td><td>👎</td><td>👎</td><td>👎</td><td>👎</td><td>😄</td><td>😄</td><td>😄</td><td>😄</td></tr></table>"
      ],
      "text/plain": [
       "<IPython.core.display.HTML object>"
      ]
     },
     "metadata": {},
     "output_type": "display_data"
    },
    {
     "name": "stdout",
     "output_type": "stream",
     "text": [
      "308: All in One Cancer imaging optimisation\n"
     ]
    },
    {
     "data": {
      "text/html": [
       "<table><tr><td>Person</td><td>Camila Rangel Smith</td><td>Louise Bowler</td><td>Kasra Hosseini</td><td>AshwiniKV</td><td>Tim Hobson</td><td>Sarah Gibson</td><td>Jack Roberts</td><td>nbarlowATI</td><td>Evelina Gabasova</td><td>Radka Jersakova</td><td>Tomas Lazauskas</td><td>Jim Madge</td><td>James Robinson</td><td>Roly Perera</td><td>Eric Daub</td><td>miguelmorin</td><td>Ed Chalstrey</td><td>myyong</td><td>Oscar T Giles</td></tr><tr><td>Rating</td><td>👍</td><td>👍</td><td>👍</td><td>👍</td><td>👍</td><td>👍</td><td>👍</td><td>👍</td><td>👍</td><td>👍</td><td>👍</td><td>👎</td><td>👎</td><td>👎</td><td>👎</td><td>😄</td><td>😄</td><td>😄</td><td>😄</td></tr></table>"
      ],
      "text/plain": [
       "<IPython.core.display.HTML object>"
      ]
     },
     "metadata": {},
     "output_type": "display_data"
    },
    {
     "name": "stdout",
     "output_type": "stream",
     "text": [
      "317: Fusion modelling - IDEA\n"
     ]
    },
    {
     "data": {
      "text/html": [
       "<table><tr><td>Person</td><td>nbarlowATI</td><td>Tomas Lazauskas</td><td>Sarah Gibson</td><td>Evelina Gabasova</td><td>Giovanni Colavizza</td><td>Jim Madge</td><td>Oscar T Giles</td><td>Kasra Hosseini</td></tr><tr><td>Rating</td><td>👍</td><td>👍</td><td>👍</td><td>👎</td><td>👎</td><td>👎</td><td>👎</td><td>👎</td></tr></table>"
      ],
      "text/plain": [
       "<IPython.core.display.HTML object>"
      ]
     },
     "metadata": {},
     "output_type": "display_data"
    },
    {
     "name": "stdout",
     "output_type": "stream",
     "text": [
      "218: MUGM - Modelling Uncertainty in Government Modelling - Chris Dent\n"
     ]
    },
    {
     "data": {
      "text/html": [
       "<table><tr><td>Person</td><td>myyong</td><td>Evelina Gabasova</td><td>Radka Jersakova</td><td>Camila Rangel Smith</td><td>James Robinson</td><td>Kasra Hosseini</td><td>Tomas Lazauskas</td><td>Tim Hobson</td><td>Louise Bowler</td><td>nbarlowATI</td><td>miguelmorin</td><td>Sarah Gibson</td><td>Giovanni Colavizza</td></tr><tr><td>Rating</td><td>👍</td><td>👍</td><td>👍</td><td>👍</td><td>👍</td><td>👍</td><td>👎</td><td>👎</td><td>👎</td><td>👎</td><td>👎</td><td>👎</td><td>👎</td></tr></table>"
      ],
      "text/plain": [
       "<IPython.core.display.HTML object>"
      ]
     },
     "metadata": {},
     "output_type": "display_data"
    },
    {
     "name": "stdout",
     "output_type": "stream",
     "text": [
      "234: Interpretable AI for health - Murco Murcolesi\n"
     ]
    },
    {
     "data": {
      "text/html": [
       "<table><tr><td>Person</td><td>Evelina Gabasova</td><td>Louise Bowler</td><td>Radka Jersakova</td><td>nbarlowATI</td><td>Camila Rangel Smith</td><td>Sarah Gibson</td><td>James Robinson</td><td>Jim Madge</td><td>Ed Chalstrey</td><td>Jack Roberts</td><td>Kasra Hosseini</td><td>Tomas Lazauskas</td><td>Tim Hobson</td><td>Oliver Strickson</td><td>miguelmorin</td><td>Giovanni Colavizza</td><td>Roly Perera</td><td>Eric Daub</td><td>myyong</td><td>AshwiniKV</td><td>Oscar T Giles</td></tr><tr><td>Rating</td><td>👍</td><td>👍</td><td>👍</td><td>👍</td><td>👍</td><td>👍</td><td>👍</td><td>👍</td><td>👍</td><td>👍</td><td>👍</td><td>👍</td><td>👎</td><td>👎</td><td>👎</td><td>👎</td><td>👎</td><td>👎</td><td>😄</td><td>😄</td><td>😄</td></tr></table>"
      ],
      "text/plain": [
       "<IPython.core.display.HTML object>"
      ]
     },
     "metadata": {},
     "output_type": "display_data"
    },
    {
     "name": "stdout",
     "output_type": "stream",
     "text": [
      "298: SPF Justice theme placeholder\n"
     ]
    },
    {
     "data": {
      "text/html": [
       "<table><tr><td>Person</td><td>Jim Madge</td><td>Jack Roberts</td><td>Oscar T Giles</td><td>Kasra Hosseini</td></tr><tr><td>Rating</td><td>👎</td><td>😄</td><td>😄</td><td>😄</td></tr></table>"
      ],
      "text/plain": [
       "<IPython.core.display.HTML object>"
      ]
     },
     "metadata": {},
     "output_type": "display_data"
    },
    {
     "name": "stdout",
     "output_type": "stream",
     "text": [
      "297: Algorithms for longitudinal time series\n"
     ]
    },
    {
     "data": {
      "text/html": [
       "<table><tr><td>Person</td><td>Kasra Hosseini</td><td>Louise Bowler</td><td>Jim Madge</td><td>Tim Hobson</td><td>Tomas Lazauskas</td><td>Sarah Gibson</td><td>Camila Rangel Smith</td><td>James Robinson</td><td>Ed Chalstrey</td><td>miguelmorin</td><td>AshwiniKV</td></tr><tr><td>Rating</td><td>👍</td><td>👍</td><td>👍</td><td>👍</td><td>👍</td><td>👍</td><td>👎</td><td>👎</td><td>👎</td><td>👎</td><td>😄</td></tr></table>"
      ],
      "text/plain": [
       "<IPython.core.display.HTML object>"
      ]
     },
     "metadata": {},
     "output_type": "display_data"
    },
    {
     "name": "stdout",
     "output_type": "stream",
     "text": [
      "229: Micro-location analytics - Leeds TF - Susan Grant Muller\n"
     ]
    },
    {
     "data": {
      "text/html": [
       "<table><tr><td>Person</td><td>Evelina Gabasova</td><td>Radka Jersakova</td><td>nbarlowATI</td><td>Sarah Gibson</td><td>James Robinson</td><td>Louise Bowler</td><td>Jack Roberts</td><td>Jim Madge</td><td>Oscar T Giles</td><td>AshwiniKV</td><td>Tomas Lazauskas</td><td>myyong</td><td>Tim Hobson</td><td>Oliver Strickson</td><td>miguelmorin</td><td>Giovanni Colavizza</td><td>Kasra Hosseini</td><td>Roly Perera</td><td>Eric Daub</td><td>Camila Rangel Smith</td><td>Ed Chalstrey</td></tr><tr><td>Rating</td><td>👍</td><td>👍</td><td>👍</td><td>👍</td><td>👍</td><td>👍</td><td>👍</td><td>👍</td><td>👍</td><td>👍</td><td>👍</td><td>👎</td><td>👎</td><td>👎</td><td>👎</td><td>👎</td><td>👎</td><td>👎</td><td>👎</td><td>😄</td><td>😄</td></tr></table>"
      ],
      "text/plain": [
       "<IPython.core.display.HTML object>"
      ]
     },
     "metadata": {},
     "output_type": "display_data"
    },
    {
     "name": "stdout",
     "output_type": "stream",
     "text": [
      "233: ML for Cancer - Christopher Yau\n"
     ]
    },
    {
     "data": {
      "text/html": [
       "<table><tr><td>Person</td><td>Louise Bowler</td><td>James Robinson</td><td>Jack Roberts</td><td>nbarlowATI</td><td>Evelina Gabasova</td><td>Kasra Hosseini</td><td>Oscar T Giles</td><td>Tim Hobson</td><td>Radka Jersakova</td><td>Oliver Strickson</td><td>miguelmorin</td><td>Sarah Gibson</td><td>Giovanni Colavizza</td><td>Roly Perera</td><td>Jim Madge</td><td>Eric Daub</td><td>AshwiniKV</td><td>Tomas Lazauskas</td><td>myyong</td><td>Camila Rangel Smith</td><td>Ed Chalstrey</td><td>AshwiniKV</td></tr><tr><td>Rating</td><td>👍</td><td>👍</td><td>👍</td><td>👍</td><td>👍</td><td>👍</td><td>👍</td><td>👎</td><td>👎</td><td>👎</td><td>👎</td><td>👎</td><td>👎</td><td>👎</td><td>👎</td><td>👎</td><td>👎</td><td>👎</td><td>😄</td><td>😄</td><td>😄</td><td>😄</td></tr></table>"
      ],
      "text/plain": [
       "<IPython.core.display.HTML object>"
      ]
     },
     "metadata": {},
     "output_type": "display_data"
    },
    {
     "name": "stdout",
     "output_type": "stream",
     "text": [
      "265: Turing ML Toolbox\n"
     ]
    },
    {
     "data": {
      "text/html": [
       "<table><tr><td>Person</td><td>Louise Bowler</td><td>Camila Rangel Smith</td><td>Tim Hobson</td><td>miguelmorin</td><td>Sarah Gibson</td><td>James Robinson</td><td>Oliver Strickson</td><td>Tomas Lazauskas</td><td>nbarlowATI</td><td>myyong</td><td>Evelina Gabasova</td></tr><tr><td>Rating</td><td>👍</td><td>👍</td><td>👍</td><td>👍</td><td>👍</td><td>👍</td><td>👎</td><td>👎</td><td>👎</td><td>😄</td><td>😄</td></tr></table>"
      ],
      "text/plain": [
       "<IPython.core.display.HTML object>"
      ]
     },
     "metadata": {},
     "output_type": "display_data"
    },
    {
     "name": "stdout",
     "output_type": "stream",
     "text": [
      "237: Urban systems resilience - Ed Manley\n"
     ]
    },
    {
     "data": {
      "text/html": [
       "<table><tr><td>Person</td><td>Evelina Gabasova</td><td>Louise Bowler</td><td>Tim Hobson</td><td>Radka Jersakova</td><td>Camila Rangel Smith</td><td>Sarah Gibson</td><td>James Robinson</td><td>Eric Daub</td><td>Jack Roberts</td><td>Oscar T Giles</td><td>Tomas Lazauskas</td><td>myyong</td><td>Oliver Strickson</td><td>miguelmorin</td><td>Giovanni Colavizza</td><td>Roly Perera</td><td>Jim Madge</td><td>Ed Chalstrey</td><td>Kasra Hosseini</td><td>nbarlowATI</td></tr><tr><td>Rating</td><td>👍</td><td>👍</td><td>👍</td><td>👍</td><td>👍</td><td>👍</td><td>👍</td><td>👍</td><td>👍</td><td>👍</td><td>👍</td><td>👎</td><td>👎</td><td>👎</td><td>👎</td><td>👎</td><td>👎</td><td>👎</td><td>👎</td><td>😄</td></tr></table>"
      ],
      "text/plain": [
       "<IPython.core.display.HTML object>"
      ]
     },
     "metadata": {},
     "output_type": "display_data"
    },
    {
     "name": "stdout",
     "output_type": "stream",
     "text": [
      "134: Identifying misinformation in the news seed project (Dong Nguyen)\n"
     ]
    },
    {
     "data": {
      "text/html": [
       "<table><tr><td>Person</td><td>nbarlowATI</td><td>miguelmorin</td><td>Kasra Hosseini</td><td>Tomas Lazauskas</td><td>Louise Bowler</td><td>Radka Jersakova</td><td>Oliver Strickson</td><td>Tim Hobson</td><td>myyong</td><td>Camila Rangel Smith</td><td>Evelina Gabasova</td><td>James Robinson</td></tr><tr><td>Rating</td><td>👍</td><td>👍</td><td>👍</td><td>👎</td><td>👎</td><td>👎</td><td>👎</td><td>👎</td><td>😄</td><td>😄</td><td>😄</td><td>😄</td></tr></table>"
      ],
      "text/plain": [
       "<IPython.core.display.HTML object>"
      ]
     },
     "metadata": {},
     "output_type": "display_data"
    },
    {
     "name": "stdout",
     "output_type": "stream",
     "text": [
      "217: Roy Ruddle-New visualization methods for profiling datasets and analysis pipelines\n"
     ]
    },
    {
     "data": {
      "text/html": [
       "<table><tr><td>Person</td><td>myyong</td><td>Oscar T Giles</td><td>Evelina Gabasova</td><td>Louise Bowler</td><td>Radka Jersakova</td><td>Oliver Strickson</td><td>nbarlowATI</td><td>miguelmorin</td><td>Sarah Gibson</td><td>James Robinson</td><td>Giovanni Colavizza</td><td>Kasra Hosseini</td><td>Roly Perera</td><td>Jim Madge</td><td>myyong</td><td>Ed Chalstrey</td><td>Eric Daub</td><td>Jack Roberts</td><td>AshwiniKV</td><td>Tomas Lazauskas</td><td>Tim Hobson</td></tr><tr><td>Rating</td><td>👍</td><td>👍</td><td>👎</td><td>👎</td><td>👎</td><td>👎</td><td>👎</td><td>👎</td><td>👎</td><td>👎</td><td>👎</td><td>👎</td><td>👎</td><td>👎</td><td>👎</td><td>👎</td><td>👎</td><td>👎</td><td>👎</td><td>👎</td><td>👎</td></tr></table>"
      ],
      "text/plain": [
       "<IPython.core.display.HTML object>"
      ]
     },
     "metadata": {},
     "output_type": "display_data"
    },
    {
     "name": "stdout",
     "output_type": "stream",
     "text": [
      "239: Logics for DS - David Pym\n"
     ]
    },
    {
     "data": {
      "text/html": [
       "<table><tr><td>Person</td><td>Evelina Gabasova</td><td>Radka Jersakova</td><td>Camila Rangel Smith</td><td>Giovanni Colavizza</td><td>Oscar T Giles</td><td>Kasra Hosseini</td><td>Roly Perera</td><td>Tomas Lazauskas</td><td>nbarlowATI</td><td>Louise Bowler</td><td>Tim Hobson</td><td>Oliver Strickson</td><td>miguelmorin</td><td>Sarah Gibson</td><td>Jim Madge</td><td>James Robinson</td><td>myyong</td><td>Ed Chalstrey</td><td>Eric Daub</td><td>Jack Roberts</td><td>AshwiniKV</td><td>Oscar T Giles</td></tr><tr><td>Rating</td><td>👍</td><td>👍</td><td>👍</td><td>👍</td><td>👍</td><td>👍</td><td>👍</td><td>👎</td><td>👎</td><td>👎</td><td>👎</td><td>👎</td><td>👎</td><td>👎</td><td>👎</td><td>👎</td><td>👎</td><td>👎</td><td>👎</td><td>👎</td><td>👎</td><td>👎</td></tr></table>"
      ],
      "text/plain": [
       "<IPython.core.display.HTML object>"
      ]
     },
     "metadata": {},
     "output_type": "display_data"
    },
    {
     "name": "stdout",
     "output_type": "stream",
     "text": [
      "363: Decision support tools for military medical emergencies (medevac)\n"
     ]
    },
    {
     "data": {
      "text/html": [
       "<table><tr><td>Person</td><td>Louise Bowler</td><td>James Robinson</td><td>AshwiniKV</td><td>miguelmorin</td><td>Jim Madge</td><td>Camila Rangel Smith</td><td>Tim Hobson</td><td>Ed Chalstrey</td><td>Tomas Lazauskas</td><td>Sarah Gibson</td><td>Jack Roberts</td></tr><tr><td>Rating</td><td>👍</td><td>👍</td><td>👍</td><td>👍</td><td>👎</td><td>👎</td><td>👎</td><td>👎</td><td>👎</td><td>👎</td><td>😄</td></tr></table>"
      ],
      "text/plain": [
       "<IPython.core.display.HTML object>"
      ]
     },
     "metadata": {},
     "output_type": "display_data"
    },
    {
     "name": "stdout",
     "output_type": "stream",
     "text": [
      "360: Medication Safety\n"
     ]
    },
    {
     "data": {
      "text/html": [
       "<table><tr><td>Person</td><td>Tim Hobson</td><td>James Robinson</td><td>Ed Chalstrey</td><td>Sarah Gibson</td><td>Evelina Gabasova</td><td>James Geddes</td><td>Radka Jersakova</td><td>Jim Madge</td><td>Tomas Lazauskas</td><td>Roly Perera</td><td>Eric Daub</td><td>nbarlowATI</td><td>Kasra Hosseini</td><td>Louise Bowler</td><td>Jack Roberts</td><td>Camila Rangel Smith</td><td>AshwiniKV</td><td>miguelmorin</td><td>Oscar T Giles</td></tr><tr><td>Rating</td><td>👍</td><td>👍</td><td>👍</td><td>👍</td><td>👍</td><td>👍</td><td>👍</td><td>👎</td><td>👎</td><td>👎</td><td>👎</td><td>👎</td><td>👎</td><td>😄</td><td>😄</td><td>😄</td><td>😄</td><td>😄</td><td>😄</td></tr></table>"
      ],
      "text/plain": [
       "<IPython.core.display.HTML object>"
      ]
     },
     "metadata": {},
     "output_type": "display_data"
    },
    {
     "name": "stdout",
     "output_type": "stream",
     "text": [
      "379: DFTG Commons: scoping\n"
     ]
    },
    {
     "data": {
      "text/html": [
       "<table><tr><td>Person</td><td>Ed Chalstrey</td><td>Eric Daub</td><td>Tim Hobson</td><td>James Robinson</td><td>Louise Bowler</td><td>Roly Perera</td><td>Jim Madge</td><td>Camila Rangel Smith</td><td>myyong</td><td>Jack Roberts</td><td>nbarlowATI</td><td>Evelina Gabasova</td><td>AshwiniKV</td><td>Kasra Hosseini</td><td>Oscar T Giles</td><td>Tomas Lazauskas</td><td>miguelmorin</td><td>Radka Jersakova</td></tr><tr><td>Rating</td><td>👍</td><td>👍</td><td>👍</td><td>👎</td><td>👎</td><td>👎</td><td>👎</td><td>👎</td><td>👎</td><td>👎</td><td>👎</td><td>👎</td><td>👎</td><td>👎</td><td>👎</td><td>👎</td><td>👎</td><td>👎</td></tr></table>"
      ],
      "text/plain": [
       "<IPython.core.display.HTML object>"
      ]
     },
     "metadata": {},
     "output_type": "display_data"
    },
    {
     "name": "stdout",
     "output_type": "stream",
     "text": [
      "381: DFTG Commons: Work packages 3.4 & 3.5\n"
     ]
    },
    {
     "data": {
      "text/html": [
       "<table><tr><td>Person</td><td>Eric Daub</td><td>Tim Hobson</td><td>James Robinson</td><td>Louise Bowler</td><td>Roly Perera</td><td>Camila Rangel Smith</td><td>Jim Madge</td><td>myyong</td><td>Jack Roberts</td><td>nbarlowATI</td><td>Evelina Gabasova</td><td>AshwiniKV</td><td>Kasra Hosseini</td><td>Oscar T Giles</td><td>Tomas Lazauskas</td><td>miguelmorin</td><td>Radka Jersakova</td></tr><tr><td>Rating</td><td>👍</td><td>👍</td><td>👎</td><td>👎</td><td>👎</td><td>👎</td><td>👎</td><td>👎</td><td>👎</td><td>👎</td><td>👎</td><td>👎</td><td>👎</td><td>👎</td><td>👎</td><td>👎</td><td>👎</td></tr></table>"
      ],
      "text/plain": [
       "<IPython.core.display.HTML object>"
      ]
     },
     "metadata": {},
     "output_type": "display_data"
    },
    {
     "name": "stdout",
     "output_type": "stream",
     "text": [
      "34: CHANCE project - (Weisi Guo)\n"
     ]
    },
    {
     "data": {
      "text/html": [
       "<table><tr><td>Person</td><td>Sarah Gibson</td><td>James Robinson</td><td>Louise Bowler</td><td>Jim Madge</td><td>Eric Daub</td><td>Jack Roberts</td><td>nbarlowATI</td><td>Evelina Gabasova</td><td>Oscar T Giles</td><td>Radka Jersakova</td><td>Roly Perera</td><td>myyong</td><td>AshwiniKV</td><td>Kasra Hosseini</td><td>miguelmorin</td><td>Tim Hobson</td><td>Ed Chalstrey</td></tr><tr><td>Rating</td><td>👍</td><td>👍</td><td>👍</td><td>👍</td><td>👍</td><td>👍</td><td>👍</td><td>👍</td><td>👍</td><td>👍</td><td>👎</td><td>👎</td><td>👎</td><td>👎</td><td>👎</td><td>👎</td><td>😄</td></tr></table>"
      ],
      "text/plain": [
       "<IPython.core.display.HTML object>"
      ]
     },
     "metadata": {},
     "output_type": "display_data"
    },
    {
     "name": "stdout",
     "output_type": "stream",
     "text": [
      "332: Robust, Scalable Sequential Monte Carlo (Adam Johansen & Theo Damoulas)\n"
     ]
    },
    {
     "data": {
      "text/html": [
       "<table><tr><td>Person</td><td>Louise Bowler</td><td>Jim Madge</td><td>Eric Daub</td><td>Ed Chalstrey</td><td>James Geddes</td><td>Oscar T Giles</td><td>miguelmorin</td><td>Tomas Lazauskas</td><td>Tim Hobson</td><td>myyong</td><td>Sarah Gibson</td><td>Roly Perera</td><td>Camila Rangel Smith</td><td>Evelina Gabasova</td><td>Kasra Hosseini</td><td>AshwiniKV</td><td>Radka Jersakova</td><td>James Robinson</td><td>nbarlowATI</td></tr><tr><td>Rating</td><td>👍</td><td>👍</td><td>👍</td><td>👍</td><td>👍</td><td>👍</td><td>👍</td><td>👍</td><td>👍</td><td>👎</td><td>👎</td><td>👎</td><td>👎</td><td>👎</td><td>👎</td><td>👎</td><td>👎</td><td>😄</td><td>😄</td></tr></table>"
      ],
      "text/plain": [
       "<IPython.core.display.HTML object>"
      ]
     },
     "metadata": {},
     "output_type": "display_data"
    },
    {
     "name": "stdout",
     "output_type": "stream",
     "text": [
      "293: Wrattler 2019-20 - Tomas Petricek\n"
     ]
    },
    {
     "data": {
      "text/html": [
       "<table><tr><td>Person</td><td>Sarah Gibson</td></tr><tr><td>Rating</td><td>😄</td></tr></table>"
      ],
      "text/plain": [
       "<IPython.core.display.HTML object>"
      ]
     },
     "metadata": {},
     "output_type": "display_data"
    }
   ],
   "source": [
    "for issue_num in issues:\n",
    "    modified_query = query.replace(\"X\", str(issue_num))\n",
    "    result = run_query(modified_query)  # Execute the query\n",
    "    if query_result_contains_emojis(result):\n",
    "        tabulate_emojis(result, issue_num)"
   ]
  }
 ],
 "metadata": {
  "kernelspec": {
   "display_name": "Python 3",
   "language": "python",
   "name": "python3"
  },
  "language_info": {
   "codemirror_mode": {
    "name": "ipython",
    "version": 3
   },
   "file_extension": ".py",
   "mimetype": "text/x-python",
   "name": "python",
   "nbconvert_exporter": "python",
   "pygments_lexer": "ipython3",
   "version": "3.6.8"
  }
 },
 "nbformat": 4,
 "nbformat_minor": 2
}
