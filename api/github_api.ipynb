{
 "cells": [
  {
   "cell_type": "code",
   "execution_count": 1,
   "metadata": {},
   "outputs": [],
   "source": [
    "import requests\n",
    "import json\n",
    "import pandas as pd\n",
    "from datetime import datetime\n",
    "import statistics\n",
    "from IPython.display import HTML, display\n",
    "from wimbledon.vis.Visualise import DataHandlers"
   ]
  },
  {
   "cell_type": "code",
   "execution_count": 2,
   "metadata": {},
   "outputs": [],
   "source": [
    "with open('github.token', 'r') as f:\n",
    "    token = f.read().strip()\n",
    "\n",
    "headers = {\"Authorization\": \"Bearer \" + token}\n",
    "\n",
    "\n",
    "def run_query(query):  # A simple function to use requests.post to make the API call. Note the json= section.\n",
    "    request = requests.post('https://api.github.com/graphql', json={'query': query}, headers=headers)\n",
    "    if request.status_code == 200:\n",
    "        return request.json()\n",
    "    else:\n",
    "        raise Exception(\"Query failed to run by returning code of {}. {}\".format(request.status_code, query))\n"
   ]
  },
  {
   "cell_type": "markdown",
   "metadata": {},
   "source": [
    "GitHub emojis\n",
    "=======\n",
    "\n",
    "Project issues that members of the REG team have selected, \"LAUGH\" are the ones they would most like to be assigned to, \"THUMBS_UP\" they would also be happy with, \"THUMBS_DOWN\" they would not be happy with."
   ]
  },
  {
   "cell_type": "code",
   "execution_count": 53,
   "metadata": {},
   "outputs": [],
   "source": [
    "emojis = {'CONFUSED': '😕',\n",
    "          'EYES': '👀',\n",
    "          'HEART': '❤️',\n",
    "          'HOORAY': '🎉',    \n",
    "          'ROCKET': '🚀',\n",
    "          'THUMBS_DOWN': '❌',\n",
    "          'THUMBS_UP': '✅',\n",
    "          'LAUGH': '😀'}"
   ]
  },
  {
   "cell_type": "code",
   "execution_count": 4,
   "metadata": {},
   "outputs": [
    {
     "name": "stdout",
     "output_type": "stream",
     "text": [
      "Enpoint: whoami | Time: 0.5318947390187532 \n",
      "Enpoint: people/475627 | Time: 0.4908095959981438 \n",
      "\n",
      "AUTHENTICATED USER:\n",
      "Ed Chalstrey echalstrey@turing.ac.uk\n",
      "\n",
      "CLIENTS\n",
      "Enpoint: clients | Time: 0.4709759010002017 \n",
      "PROJECTS\n",
      "Enpoint: projects | Time: 0.8265334030147642 \n",
      "ROLES\n",
      "Enpoint: roles | Time: 0.6233768730016891 \n",
      "PEOPLE\n",
      "Enpoint: people | Time: 0.5921299530018587 \n",
      "PLACEHOLDERS\n",
      "Enpoint: placeholders | Time: 0.4720745369850192 \n",
      "MILESTONES\n",
      "Enpoint: milestones | Time: 0.5840041770134121 \n",
      "ASSIGNMENTS\n",
      "Enpoint: assignments | Time: 0.8423552469757851 \n",
      "==================================================\n",
      "DONE! (5.5s)\n"
     ]
    }
   ],
   "source": [
    "fc = DataHandlers.Forecast()  # get data from forecast"
   ]
  },
  {
   "cell_type": "markdown",
   "metadata": {},
   "source": [
    "REG team\n",
    "=====\n",
    "\n",
    "We need a list of the team members full names from Forecast to compare with their names on GitHub. They match most of the time except when there is no GitHub name. Mapping below covers the rest of the team. We need to update this list if someone new is added to Forecast who doesn't have a matching GitHub name."
   ]
  },
  {
   "cell_type": "code",
   "execution_count": 46,
   "metadata": {},
   "outputs": [],
   "source": [
    "names = list(fc.people.full_name)"
   ]
  },
  {
   "cell_type": "code",
   "execution_count": 6,
   "metadata": {},
   "outputs": [],
   "source": [
    "gid_mapping = {  # People without their full names on github.\n",
    " 'myyong': 'May Yong',\n",
    " 'nbarlowATI': 'Nick Barlow',\n",
    " 'thobson88': 'Timothy Hobson',\n",
    " 'miguelmorin': 'Miguel Morin',\n",
    " 'OscartGiles': 'Oscar Giles',\n",
    " 'AshwiniKV': 'Ashwini Venkatasubramaniam',\n",
    "}"
   ]
  },
  {
   "cell_type": "markdown",
   "metadata": {},
   "source": [
    "Find a team member's availability for a date range\n",
    "---"
   ]
  },
  {
   "cell_type": "code",
   "execution_count": 7,
   "metadata": {},
   "outputs": [],
   "source": [
    "def get_person_availability(name, peopledf, start_date, end_date):\n",
    "    try:\n",
    "        person_id = fc.get_person_id(name)\n",
    "    except:\n",
    "        return 0.0\n",
    "    peopledf = peopledf[(peopledf.index >= start_date) & (peopledf.index <= end_date)]\n",
    "    availability_range = peopledf[person_id]\n",
    "    average_availability = statistics.mean(availability_range)\n",
    "    return round(average_availability, 2)"
   ]
  },
  {
   "cell_type": "code",
   "execution_count": 8,
   "metadata": {},
   "outputs": [
    {
     "data": {
      "text/plain": [
       "0.77"
      ]
     },
     "execution_count": 8,
     "metadata": {},
     "output_type": "execute_result"
    }
   ],
   "source": [
    "peopledf = 1 - fc.people_totals.resample('MS').mean()  # pandas df for team members availability\n",
    "start_date = datetime(2019, 10, 1)\n",
    "end_date = datetime(2020, 10, 1)\n",
    "\n",
    "get_person_availability(\"Ed Chalstrey\", peopledf, start_date, end_date)"
   ]
  },
  {
   "cell_type": "markdown",
   "metadata": {},
   "source": [
    "Create queries with GraphQL to get the emojis for each GitHub issue\n",
    "==="
   ]
  },
  {
   "cell_type": "code",
   "execution_count": 9,
   "metadata": {},
   "outputs": [],
   "source": [
    "issues = fc.projects[\"GitHub\"].dropna().values  # Get list of GitHub issues for projects"
   ]
  },
  {
   "cell_type": "code",
   "execution_count": 10,
   "metadata": {},
   "outputs": [],
   "source": [
    "query = \"\"\"\n",
    "{\n",
    "  repository(owner:\"alan-turing-institute\", name:\"Hut23\") {\n",
    "    issue(number:X) {\n",
    "          number\n",
    "          title\n",
    "          url\n",
    "\n",
    "          reactionGroups {\n",
    "            content\n",
    "            users(first:20) {\n",
    "                edges {\n",
    "                    node {\n",
    "                        login\n",
    "                        name\n",
    "                    }\n",
    "                }\n",
    "            }\n",
    "            }\n",
    "    }\n",
    "  }\n",
    "}\n",
    "\"\"\""
   ]
  },
  {
   "cell_type": "markdown",
   "metadata": {},
   "source": [
    "Check if a GitHub issue has emojis, based on the result of GraphQL query\n",
    "----"
   ]
  },
  {
   "cell_type": "code",
   "execution_count": 11,
   "metadata": {},
   "outputs": [],
   "source": [
    "def query_result_contains_emojis(query_result):\n",
    "    for reaction in query_result['data']['repository']['issue']['reactionGroups']:\n",
    "        if len(reaction['users']['edges']) > 0:\n",
    "            return True\n",
    "    return False"
   ]
  },
  {
   "cell_type": "markdown",
   "metadata": {},
   "source": [
    "Generate a HTML table displaying the results of emoji rating and availability of each team member for each project\n",
    "---"
   ]
  },
  {
   "cell_type": "code",
   "execution_count": 51,
   "metadata": {},
   "outputs": [],
   "source": [
    "def collate_emoji_data(data, query_result, names, gid_mapping, peopledf, start_date, end_date, requirement, project_name):\n",
    "    emojis_availability = [project_name]\n",
    "    for name in names:                 \n",
    "        person_availability = get_person_availability(name, peopledf, start_date, end_date)\n",
    "#         if person_availability >= 0.1:\n",
    "        percentage_availability = round((person_availability / requirement) * 100, 2)\n",
    "        emoji_name = None\n",
    "        for reaction in query_result['data']['repository']['issue']['reactionGroups']:\n",
    "            for edge in reaction['users']['edges']:\n",
    "                if edge['node']['name'] == name:\n",
    "                    emoji_name = reaction['content']\n",
    "                    if not emoji_name:\n",
    "                        if gid_mapping[edge['node']['login']] == name:\n",
    "                            emoji_name = reaction['content']\n",
    "        if emoji_name:\n",
    "            emoji = emojis[emoji_name]\n",
    "        else:\n",
    "            emoji = \"❓\"\n",
    "        emojis_availability.append(emoji + \" \" + str(percentage_availability) + \"% (\" + str(person_availability) + \")\")  \n",
    "    data.append(emojis_availability)\n",
    "    return data\n",
    "\n",
    "def tabulate_emoji_data(data):\n",
    "    display(HTML(\n",
    "   '<table><tr>{}</tr></table>'.format(\n",
    "       '</tr><tr>'.join(\n",
    "           '<td>{}</td>'.format('</td><td>'.join(str(_) for _ in row)) for row in data)\n",
    "       )\n",
    "    ))"
   ]
  },
  {
   "cell_type": "markdown",
   "metadata": {},
   "source": [
    "Get the projects for which resources (team members) are required and display availability and preference for each team member who has with reacted with an emoji on the GitHub issue\n",
    "----"
   ]
  },
  {
   "cell_type": "code",
   "execution_count": 15,
   "metadata": {},
   "outputs": [],
   "source": [
    "resreqdf = fc.project_resourcereq.resample('MS').mean() # grouped by month and mean taken"
   ]
  },
  {
   "cell_type": "code",
   "execution_count": 54,
   "metadata": {},
   "outputs": [
    {
     "data": {
      "text/html": [
       "<table><tr><td>Person</td><td>Oliver Strickson</td><td>Angus Williams</td><td>David Beavan</td><td>Evelina Gabasova</td><td>Giovanni Colavizza</td><td>James Geddes</td><td>James Hetherington</td><td>Louise Bowler</td><td>Martin O'Reilly</td><td>May Yong</td><td>Nick Barlow</td><td>Radka Jersakova</td><td>Timothy Hobson</td><td>Tomas Lazauskas</td><td>Camila Rangel Smith</td><td>Sarah Gibson</td><td>James Robinson</td><td>Miguel Morin</td><td>Eric Daub</td><td>Jim Madge</td><td>Amber Raza</td><td>Kasra Hosseini</td><td>Oscar Giles</td><td>Joel Dearden</td><td>Amaani Hoddoon</td><td>Jack Roberts</td><td>Oliver Forrest</td><td>Gabriel Hanganu</td><td>Ed Chalstrey</td><td>Ashwini Venkatasubramaniam</td><td>Roly Perera</td><td>Mohammed Ali Al-Badri</td></tr><tr><td>Living With Machines</td><td>❓ 70.0% (0.7)</td><td>❓ 0.0% (0.0)</td><td>❓ 41.0% (0.41)</td><td>✅ 41.0% (0.41)</td><td>😀 0.0% (0.0)</td><td>❓ 0.0% (0.0)</td><td>❓ 10.0% (0.1)</td><td>✅ 67.0% (0.67)</td><td>❓ 18.0% (0.18)</td><td>❓ 80.0% (0.8)</td><td>❓ 77.0% (0.77)</td><td>✅ 89.0% (0.89)</td><td>❓ 41.0% (0.41)</td><td>❌ 74.0% (0.74)</td><td>✅ 83.0% (0.83)</td><td>😀 70.0% (0.7)</td><td>✅ 70.0% (0.7)</td><td>❓ 3.0% (0.03)</td><td>❓ 70.0% (0.7)</td><td>❌ 79.0% (0.79)</td><td>❓ 100.0% (1.0)</td><td>😀 59.0% (0.59)</td><td>❓ 91.0% (0.91)</td><td>❓ 0.0% (0.0)</td><td>❓ 100.0% (1.0)</td><td>😀 67.0% (0.67)</td><td>❓ 100.0% (1.0)</td><td>❓ 100.0% (1.0)</td><td>❓ 39.0% (0.39)</td><td>❓ 41.0% (0.41)</td><td>❓ 30.0% (0.3)</td><td>❓ 3.0% (0.03)</td></tr><tr><td>AIDA-Lloyds</td><td>❓ 0.0% (0.0)</td><td>❓ 0.0% (0.0)</td><td>❓ 0.0% (0.0)</td><td>✅ 0.0% (0.0)</td><td>✅ 0.0% (0.0)</td><td>❓ 0.0% (0.0)</td><td>❓ 25.0% (0.1)</td><td>✅ 100.0% (0.4)</td><td>❓ 0.0% (0.0)</td><td>❓ 50.0% (0.2)</td><td>❓ 0.0% (0.0)</td><td>❓ 125.0% (0.5)</td><td>❓ 0.0% (0.0)</td><td>❌ 50.0% (0.2)</td><td>😀 25.0% (0.1)</td><td>✅ 0.0% (0.0)</td><td>✅ 2.5% (0.01)</td><td>❓ 25.0% (0.1)</td><td>❓ 0.0% (0.0)</td><td>❓ 125.0% (0.5)</td><td>❓ 250.0% (1.0)</td><td>✅ 50.0% (0.2)</td><td>❓ 127.5% (0.51)</td><td>❓ 0.0% (0.0)</td><td>❓ 250.0% (1.0)</td><td>❓ 125.0% (0.5)</td><td>❓ 250.0% (1.0)</td><td>❓ 250.0% (1.0)</td><td>❓ 250.0% (1.0)</td><td>❓ 150.0% (0.6)</td><td>❓ 250.0% (1.0)</td><td>❓ 0.0% (0.0)</td></tr><tr><td>Probabilistic FEM</td><td>❓ 24.0% (0.12)</td><td>❓ 0.0% (0.0)</td><td>❓ 24.0% (0.12)</td><td>❌ 24.0% (0.12)</td><td>❓ 0.0% (0.0)</td><td>❓ 0.0% (0.0)</td><td>😀 20.0% (0.1)</td><td>❌ 88.0% (0.44)</td><td>❓ 0.0% (0.0)</td><td>❓ 50.0% (0.25)</td><td>❓ 24.0% (0.12)</td><td>❌ 112.0% (0.56)</td><td>❓ 24.0% (0.12)</td><td>❌ 62.0% (0.31)</td><td>❌ 62.0% (0.31)</td><td>❌ 24.0% (0.12)</td><td>❌ 26.0% (0.13)</td><td>❓ 24.0% (0.12)</td><td>❓ 24.0% (0.12)</td><td>✅ 100.0% (0.5)</td><td>❓ 200.0% (1.0)</td><td>❌ 38.0% (0.19)</td><td>❓ 126.0% (0.63)</td><td>❓ 0.0% (0.0)</td><td>❓ 200.0% (1.0)</td><td>✅ 100.0% (0.5)</td><td>❓ 200.0% (1.0)</td><td>❓ 200.0% (1.0)</td><td>❓ 200.0% (1.0)</td><td>❓ 138.0% (0.69)</td><td>❓ 200.0% (1.0)</td><td>❓ 24.0% (0.12)</td></tr><tr><td>Safe Haven</td><td>❓ 42.0% (0.42)</td><td>❓ 0.0% (0.0)</td><td>❓ 29.0% (0.29)</td><td>❓ 29.0% (0.29)</td><td>❓ 3.0% (0.03)</td><td>❓ 0.0% (0.0)</td><td>❓ 9.0% (0.09)</td><td>❓ 40.0% (0.4)</td><td>❓ 0.0% (0.0)</td><td>❓ 56.0% (0.56)</td><td>❓ 52.0% (0.52)</td><td>❓ 67.0% (0.67)</td><td>❓ 29.0% (0.29)</td><td>✅ 54.0% (0.54)</td><td>❓ 60.0% (0.6)</td><td>❓ 42.0% (0.42)</td><td>❌ 42.0% (0.42)</td><td>❓ 6.0% (0.06)</td><td>❓ 42.0% (0.42)</td><td>❓ 56.0% (0.56)</td><td>❓ 100.0% (1.0)</td><td>❌ 31.0% (0.31)</td><td>❓ 75.0% (0.75)</td><td>❓ 0.0% (0.0)</td><td>❓ 100.0% (1.0)</td><td>❓ 42.0% (0.42)</td><td>❓ 100.0% (1.0)</td><td>❓ 100.0% (1.0)</td><td>❓ 52.0% (0.52)</td><td>❓ 56.0% (0.56)</td><td>❓ 42.0% (0.42)</td><td>❓ 4.0% (0.04)</td></tr><tr><td>UQM^3</td><td>✅ 58.0% (0.29)</td><td>❓ 0.0% (0.0)</td><td>❓ 58.0% (0.29)</td><td>❌ 58.0% (0.29)</td><td>❌ 0.0% (0.0)</td><td>❓ 0.0% (0.0)</td><td>❓ 20.0% (0.1)</td><td>✅ 92.0% (0.46)</td><td>❓ 0.0% (0.0)</td><td>❓ 106.0% (0.53)</td><td>❓ 92.0% (0.46)</td><td>❌ 150.0% (0.75)</td><td>❓ 58.0% (0.29)</td><td>😀 78.0% (0.39)</td><td>✅ 122.0% (0.61)</td><td>❌ 58.0% (0.29)</td><td>✅ 58.0% (0.29)</td><td>❓ 14.0% (0.07)</td><td>❓ 58.0% (0.29)</td><td>✅ 100.0% (0.5)</td><td>❓ 200.0% (1.0)</td><td>✅ 58.0% (0.29)</td><td>❓ 158.0% (0.79)</td><td>❓ 0.0% (0.0)</td><td>❓ 200.0% (1.0)</td><td>❌ 100.0% (0.5)</td><td>❓ 200.0% (1.0)</td><td>❓ 200.0% (1.0)</td><td>❓ 186.0% (0.93)</td><td>❓ 164.0% (0.82)</td><td>❓ 142.0% (0.71)</td><td>❓ 14.0% (0.07)</td></tr><tr><td>Auto DL</td><td>❌ 0.0% (0.0)</td><td>❓ 0.0% (0.0)</td><td>❓ 0.0% (0.0)</td><td>✅ 0.0% (0.0)</td><td>✅ 0.0% (0.0)</td><td>❓ 0.0% (0.0)</td><td>❓ 20.0% (0.1)</td><td>✅ 84.0% (0.42)</td><td>❓ 0.0% (0.0)</td><td>❓ 32.0% (0.16)</td><td>❓ 0.0% (0.0)</td><td>✅ 84.0% (0.42)</td><td>❓ 0.0% (0.0)</td><td>😀 50.0% (0.25)</td><td>😀 16.0% (0.08)</td><td>✅ 0.0% (0.0)</td><td>😀 2.0% (0.01)</td><td>❓ 34.0% (0.17)</td><td>❌ 0.0% (0.0)</td><td>✅ 100.0% (0.5)</td><td>❓ 200.0% (1.0)</td><td>✅ 50.0% (0.25)</td><td>❓ 102.0% (0.51)</td><td>❓ 0.0% (0.0)</td><td>❓ 200.0% (1.0)</td><td>✅ 100.0% (0.5)</td><td>❓ 200.0% (1.0)</td><td>❓ 200.0% (1.0)</td><td>❌ 200.0% (1.0)</td><td>❓ 116.0% (0.58)</td><td>❌ 200.0% (1.0)</td><td>❓ 34.0% (0.17)</td></tr><tr><td>All in One Cancer imaging optimisation</td><td>❓ 67.0% (0.67)</td><td>❓ 0.0% (0.0)</td><td>❓ 42.0% (0.42)</td><td>✅ 42.0% (0.42)</td><td>❓ 0.0% (0.0)</td><td>❓ 0.0% (0.0)</td><td>❓ 10.0% (0.1)</td><td>✅ 58.0% (0.58)</td><td>❓ 10.0% (0.1)</td><td>❓ 81.0% (0.81)</td><td>❓ 77.0% (0.77)</td><td>✅ 92.0% (0.92)</td><td>❓ 42.0% (0.42)</td><td>✅ 69.0% (0.69)</td><td>✅ 85.0% (0.85)</td><td>✅ 67.0% (0.67)</td><td>❌ 67.0% (0.67)</td><td>❓ 0.0% (0.0)</td><td>❌ 67.0% (0.67)</td><td>❌ 75.0% (0.75)</td><td>❓ 100.0% (1.0)</td><td>✅ 48.0% (0.48)</td><td>❓ 92.0% (0.92)</td><td>❓ 0.0% (0.0)</td><td>❓ 100.0% (1.0)</td><td>✅ 58.0% (0.58)</td><td>❓ 100.0% (1.0)</td><td>❓ 100.0% (1.0)</td><td>😀 46.0% (0.46)</td><td>❓ 52.0% (0.52)</td><td>❌ 33.0% (0.33)</td><td>❓ 0.0% (0.0)</td></tr><tr><td>Fusion modelling- IDEA</td><td>❓ 67.0% (0.67)</td><td>❓ 0.0% (0.0)</td><td>❓ 42.0% (0.42)</td><td>❌ 42.0% (0.42)</td><td>❌ 0.0% (0.0)</td><td>❓ 0.0% (0.0)</td><td>❓ 10.0% (0.1)</td><td>❓ 58.0% (0.58)</td><td>❓ 10.0% (0.1)</td><td>❓ 81.0% (0.81)</td><td>❓ 77.0% (0.77)</td><td>❓ 92.0% (0.92)</td><td>❓ 42.0% (0.42)</td><td>✅ 69.0% (0.69)</td><td>❓ 85.0% (0.85)</td><td>✅ 67.0% (0.67)</td><td>❓ 67.0% (0.67)</td><td>❓ 0.0% (0.0)</td><td>❓ 67.0% (0.67)</td><td>❌ 75.0% (0.75)</td><td>❓ 100.0% (1.0)</td><td>❌ 48.0% (0.48)</td><td>❓ 92.0% (0.92)</td><td>❓ 0.0% (0.0)</td><td>❓ 100.0% (1.0)</td><td>❓ 58.0% (0.58)</td><td>❓ 100.0% (1.0)</td><td>❓ 100.0% (1.0)</td><td>❓ 46.0% (0.46)</td><td>❓ 52.0% (0.52)</td><td>❓ 33.0% (0.33)</td><td>❓ 0.0% (0.0)</td></tr><tr><td>Uncertainty in Government Modelling</td><td>❓ 34.0% (0.17)</td><td>❓ 0.0% (0.0)</td><td>❓ 34.0% (0.17)</td><td>✅ 34.0% (0.17)</td><td>❌ 0.0% (0.0)</td><td>❓ 0.0% (0.0)</td><td>❓ 20.0% (0.1)</td><td>❌ 88.0% (0.44)</td><td>❓ 0.0% (0.0)</td><td>❓ 56.0% (0.28)</td><td>❓ 34.0% (0.17)</td><td>✅ 122.0% (0.61)</td><td>❓ 34.0% (0.17)</td><td>❌ 66.0% (0.33)</td><td>✅ 78.0% (0.39)</td><td>❌ 34.0% (0.17)</td><td>✅ 34.0% (0.17)</td><td>❓ 22.0% (0.11)</td><td>❓ 34.0% (0.17)</td><td>❓ 100.0% (0.5)</td><td>❓ 200.0% (1.0)</td><td>✅ 34.0% (0.17)</td><td>❓ 134.0% (0.67)</td><td>❓ 0.0% (0.0)</td><td>❓ 200.0% (1.0)</td><td>❓ 100.0% (0.5)</td><td>❓ 200.0% (1.0)</td><td>❓ 200.0% (1.0)</td><td>❓ 200.0% (1.0)</td><td>❓ 144.0% (0.72)</td><td>❓ 200.0% (1.0)</td><td>❓ 22.0% (0.11)</td></tr><tr><td>Interpretable AI for health</td><td>❌ 0.0% (0.0)</td><td>❓ 0.0% (0.0)</td><td>❓ 0.0% (0.0)</td><td>✅ 0.0% (0.0)</td><td>❌ 0.0% (0.0)</td><td>❓ 0.0% (0.0)</td><td>❓ 10.0% (0.1)</td><td>✅ 33.0% (0.33)</td><td>❓ 0.0% (0.0)</td><td>❓ 33.0% (0.33)</td><td>❓ 0.0% (0.0)</td><td>✅ 50.0% (0.5)</td><td>❓ 0.0% (0.0)</td><td>✅ 17.0% (0.17)</td><td>✅ 17.0% (0.17)</td><td>✅ 0.0% (0.0)</td><td>✅ 2.0% (0.02)</td><td>❓ 0.0% (0.0)</td><td>❌ 0.0% (0.0)</td><td>✅ 50.0% (0.5)</td><td>❓ 100.0% (1.0)</td><td>✅ 0.0% (0.0)</td><td>❓ 52.0% (0.52)</td><td>❓ 0.0% (0.0)</td><td>❓ 100.0% (1.0)</td><td>✅ 50.0% (0.5)</td><td>❓ 100.0% (1.0)</td><td>❓ 100.0% (1.0)</td><td>✅ 100.0% (1.0)</td><td>❓ 67.0% (0.67)</td><td>❌ 100.0% (1.0)</td><td>❓ 0.0% (0.0)</td></tr><tr><td>SPF Justice</td><td>❓ 66.0% (0.66)</td><td>❓ 0.0% (0.0)</td><td>❓ 39.0% (0.39)</td><td>❓ 39.0% (0.39)</td><td>❓ 1.0% (0.01)</td><td>❓ 0.0% (0.0)</td><td>❓ 10.0% (0.1)</td><td>❓ 64.0% (0.64)</td><td>❓ 17.0% (0.17)</td><td>❓ 76.0% (0.76)</td><td>❓ 73.0% (0.73)</td><td>❓ 84.0% (0.84)</td><td>❓ 39.0% (0.39)</td><td>❓ 73.0% (0.73)</td><td>❓ 79.0% (0.79)</td><td>❓ 66.0% (0.66)</td><td>❓ 66.0% (0.66)</td><td>❓ 4.0% (0.04)</td><td>❓ 66.0% (0.66)</td><td>❌ 76.0% (0.76)</td><td>❓ 100.0% (1.0)</td><td>😀 57.0% (0.57)</td><td>❓ 89.0% (0.89)</td><td>❓ 0.0% (0.0)</td><td>❓ 100.0% (1.0)</td><td>😀 64.0% (0.64)</td><td>❓ 100.0% (1.0)</td><td>❓ 100.0% (1.0)</td><td>❓ 39.0% (0.39)</td><td>❓ 41.0% (0.41)</td><td>❓ 31.0% (0.31)</td><td>❓ 3.0% (0.03)</td></tr><tr><td>Micro-location analytics</td><td>❌ 0.0% (0.0)</td><td>❓ 0.0% (0.0)</td><td>❓ 0.0% (0.0)</td><td>✅ 0.0% (0.0)</td><td>❌ 6.0% (0.06)</td><td>❓ 0.0% (0.0)</td><td>❓ 10.0% (0.1)</td><td>✅ 50.0% (0.5)</td><td>❓ 0.0% (0.0)</td><td>❓ 0.0% (0.0)</td><td>❓ 0.0% (0.0)</td><td>✅ 25.0% (0.25)</td><td>❓ 0.0% (0.0)</td><td>✅ 38.0% (0.38)</td><td>😀 0.0% (0.0)</td><td>✅ 0.0% (0.0)</td><td>✅ -3.0% (-0.03)</td><td>❓ 38.0% (0.38)</td><td>❌ 0.0% (0.0)</td><td>✅ 50.0% (0.5)</td><td>❓ 100.0% (1.0)</td><td>❌ 50.0% (0.5)</td><td>❓ 50.0% (0.5)</td><td>❓ 0.0% (0.0)</td><td>❓ 100.0% (1.0)</td><td>✅ 50.0% (0.5)</td><td>❓ 100.0% (1.0)</td><td>❓ 100.0% (1.0)</td><td>😀 88.0% (0.88)</td><td>❓ 50.0% (0.5)</td><td>❌ 100.0% (1.0)</td><td>❓ 25.0% (0.25)</td></tr><tr><td>Machine learning for cancer</td><td>❌ 58.0% (0.29)</td><td>❓ 0.0% (0.0)</td><td>❓ 58.0% (0.29)</td><td>✅ 58.0% (0.29)</td><td>❌ 0.0% (0.0)</td><td>❓ 0.0% (0.0)</td><td>❓ 20.0% (0.1)</td><td>✅ 86.0% (0.43)</td><td>❓ 0.0% (0.0)</td><td>❓ 100.0% (0.5)</td><td>❓ 72.0% (0.36)</td><td>❌ 158.0% (0.79)</td><td>❓ 58.0% (0.29)</td><td>❌ 72.0% (0.36)</td><td>😀 128.0% (0.64)</td><td>❌ 58.0% (0.29)</td><td>✅ 58.0% (0.29)</td><td>❓ 0.0% (0.0)</td><td>❌ 58.0% (0.29)</td><td>❌ 100.0% (0.5)</td><td>❓ 200.0% (1.0)</td><td>✅ 14.0% (0.07)</td><td>❓ 158.0% (0.79)</td><td>❓ 0.0% (0.0)</td><td>❓ 200.0% (1.0)</td><td>✅ 100.0% (0.5)</td><td>❓ 200.0% (1.0)</td><td>❓ 200.0% (1.0)</td><td>😀 200.0% (1.0)</td><td>❓ 172.0% (0.86)</td><td>❌ 200.0% (1.0)</td><td>❓ 0.0% (0.0)</td></tr><tr><td>Urban systems resilience</td><td>❌ 0.0% (0.0)</td><td>❓ 0.0% (0.0)</td><td>❓ 0.0% (0.0)</td><td>✅ 0.0% (0.0)</td><td>❌ 0.0% (0.0)</td><td>❓ 0.0% (0.0)</td><td>❓ 10.0% (0.1)</td><td>✅ 33.0% (0.33)</td><td>❓ 0.0% (0.0)</td><td>❓ 33.0% (0.33)</td><td>❓ 0.0% (0.0)</td><td>✅ 50.0% (0.5)</td><td>❓ 0.0% (0.0)</td><td>✅ 17.0% (0.17)</td><td>✅ 17.0% (0.17)</td><td>✅ 0.0% (0.0)</td><td>✅ 2.0% (0.02)</td><td>❓ 0.0% (0.0)</td><td>✅ 0.0% (0.0)</td><td>❌ 50.0% (0.5)</td><td>❓ 100.0% (1.0)</td><td>❌ 0.0% (0.0)</td><td>❓ 52.0% (0.52)</td><td>❓ 0.0% (0.0)</td><td>❓ 100.0% (1.0)</td><td>✅ 50.0% (0.5)</td><td>❓ 100.0% (1.0)</td><td>❓ 100.0% (1.0)</td><td>❌ 100.0% (1.0)</td><td>❓ 67.0% (0.67)</td><td>❌ 100.0% (1.0)</td><td>❓ 0.0% (0.0)</td></tr><tr><td>NCSC</td><td>❓ 12.0% (0.12)</td><td>❓ 0.0% (0.0)</td><td>❓ 12.0% (0.12)</td><td>❓ 12.0% (0.12)</td><td>❓ 6.0% (0.06)</td><td>❓ 0.0% (0.0)</td><td>❓ 10.0% (0.1)</td><td>❓ 38.0% (0.38)</td><td>❓ 0.0% (0.0)</td><td>❓ 21.0% (0.21)</td><td>❓ 12.0% (0.12)</td><td>❓ 46.0% (0.46)</td><td>❓ 12.0% (0.12)</td><td>❓ 38.0% (0.38)</td><td>❓ 29.0% (0.29)</td><td>❓ 12.0% (0.12)</td><td>❓ 12.0% (0.12)</td><td>❓ 12.0% (0.12)</td><td>❓ 12.0% (0.12)</td><td>❓ 42.0% (0.42)</td><td>❓ 100.0% (1.0)</td><td>❓ 18.0% (0.18)</td><td>❓ 63.0% (0.63)</td><td>❓ 0.0% (0.0)</td><td>❓ 100.0% (1.0)</td><td>❓ 42.0% (0.42)</td><td>❓ 100.0% (1.0)</td><td>❓ 100.0% (1.0)</td><td>❓ 79.0% (0.79)</td><td>❓ 62.0% (0.62)</td><td>❓ 83.0% (0.83)</td><td>❓ 8.0% (0.08)</td></tr><tr><td>Visualisation</td><td>❌ 0.0% (0.0)</td><td>❓ 0.0% (0.0)</td><td>❓ 0.0% (0.0)</td><td>❌ 0.0% (0.0)</td><td>❌ 4.0% (0.04)</td><td>❓ 0.0% (0.0)</td><td>❓ 10.0% (0.1)</td><td>❌ 42.0% (0.42)</td><td>❓ 0.0% (0.0)</td><td>❓ 8.0% (0.08)</td><td>❓ 0.0% (0.0)</td><td>❌ 33.0% (0.33)</td><td>❓ 0.0% (0.0)</td><td>❌ 25.0% (0.25)</td><td>❓ 0.0% (0.0)</td><td>❌ 0.0% (0.0)</td><td>❌ -2.0% (-0.02)</td><td>❓ 25.0% (0.25)</td><td>❌ 0.0% (0.0)</td><td>❌ 50.0% (0.5)</td><td>❓ 100.0% (1.0)</td><td>❌ 33.0% (0.33)</td><td>❓ 50.0% (0.5)</td><td>❓ 0.0% (0.0)</td><td>❓ 100.0% (1.0)</td><td>❌ 50.0% (0.5)</td><td>❓ 100.0% (1.0)</td><td>❓ 100.0% (1.0)</td><td>❌ 92.0% (0.92)</td><td>❓ 50.0% (0.5)</td><td>❌ 100.0% (1.0)</td><td>❓ 17.0% (0.17)</td></tr><tr><td>SPF TPS 2019+</td><td>❓ 68.0% (0.68)</td><td>❓ 0.0% (0.0)</td><td>❓ 40.0% (0.4)</td><td>❓ 40.0% (0.4)</td><td>❓ 1.0% (0.01)</td><td>❓ 0.0% (0.0)</td><td>❓ 10.0% (0.1)</td><td>❓ 66.0% (0.66)</td><td>❓ 18.0% (0.18)</td><td>❓ 78.0% (0.78)</td><td>❓ 75.0% (0.75)</td><td>❓ 87.0% (0.87)</td><td>❓ 40.0% (0.4)</td><td>❓ 74.0% (0.74)</td><td>❓ 81.0% (0.81)</td><td>❓ 68.0% (0.68)</td><td>❓ 68.0% (0.68)</td><td>❓ 4.0% (0.04)</td><td>❓ 68.0% (0.68)</td><td>❓ 78.0% (0.78)</td><td>❓ 100.0% (1.0)</td><td>❓ 59.0% (0.59)</td><td>❓ 90.0% (0.9)</td><td>❓ 0.0% (0.0)</td><td>❓ 100.0% (1.0)</td><td>❓ 66.0% (0.66)</td><td>❓ 100.0% (1.0)</td><td>❓ 100.0% (1.0)</td><td>❓ 40.0% (0.4)</td><td>❓ 41.0% (0.41)</td><td>❓ 32.0% (0.32)</td><td>❓ 3.0% (0.03)</td></tr><tr><td>Logics for DS</td><td>❌ 168.0% (0.42)</td><td>❓ 0.0% (0.0)</td><td>❓ 128.0% (0.32)</td><td>✅ 128.0% (0.32)</td><td>✅ 4.0% (0.01)</td><td>❓ 0.0% (0.0)</td><td>❓ 40.0% (0.1)</td><td>❌ 188.0% (0.47)</td><td>❓ 0.0% (0.0)</td><td>❓ 240.0% (0.6)</td><td>❓ 220.0% (0.55)</td><td>✅ 304.0% (0.76)</td><td>❓ 128.0% (0.32)</td><td>❌ 212.0% (0.53)</td><td>✅ 264.0% (0.66)</td><td>❌ 168.0% (0.42)</td><td>❌ 168.0% (0.42)</td><td>❓ 32.0% (0.08)</td><td>❌ 168.0% (0.42)</td><td>❌ 244.0% (0.61)</td><td>❓ 400.0% (1.0)</td><td>✅ 136.0% (0.34)</td><td>❓ 328.0% (0.82)</td><td>❓ 0.0% (0.0)</td><td>❓ 400.0% (1.0)</td><td>❌ 200.0% (0.5)</td><td>❓ 400.0% (1.0)</td><td>❓ 400.0% (1.0)</td><td>❌ 284.0% (0.71)</td><td>❓ 296.0% (0.74)</td><td>✅ 232.0% (0.58)</td><td>❓ 20.0% (0.05)</td></tr><tr><td>Medevac Decision Support</td><td>❓ 17.0% (0.17)</td><td>❓ 0.0% (0.0)</td><td>❓ 17.0% (0.17)</td><td>❓ 17.0% (0.17)</td><td>❓ 0.0% (0.0)</td><td>❓ 0.0% (0.0)</td><td>❓ 10.0% (0.1)</td><td>✅ 42.0% (0.42)</td><td>❓ 0.0% (0.0)</td><td>❓ 33.0% (0.33)</td><td>❓ 17.0% (0.17)</td><td>❓ 67.0% (0.67)</td><td>❓ 17.0% (0.17)</td><td>❌ 25.0% (0.25)</td><td>❌ 42.0% (0.42)</td><td>❌ 17.0% (0.17)</td><td>✅ 18.0% (0.18)</td><td>❓ 0.0% (0.0)</td><td>❓ 17.0% (0.17)</td><td>❌ 50.0% (0.5)</td><td>❓ 100.0% (1.0)</td><td>❓ 8.0% (0.08)</td><td>❓ 68.0% (0.68)</td><td>❓ 0.0% (0.0)</td><td>❓ 100.0% (1.0)</td><td>😀 50.0% (0.5)</td><td>❓ 100.0% (1.0)</td><td>❓ 100.0% (1.0)</td><td>❌ 100.0% (1.0)</td><td>❓ 75.0% (0.75)</td><td>❓ 100.0% (1.0)</td><td>❓ 0.0% (0.0)</td></tr><tr><td>NHS Medication Safety</td><td>❓ 0.0% (0.0)</td><td>❓ 0.0% (0.0)</td><td>❓ 0.0% (0.0)</td><td>✅ 0.0% (0.0)</td><td>❓ 0.0% (0.0)</td><td>✅ 0.0% (0.0)</td><td>❓ 20.0% (0.1)</td><td>😀 80.0% (0.4)</td><td>❓ 0.0% (0.0)</td><td>❓ 20.0% (0.1)</td><td>❓ 0.0% (0.0)</td><td>✅ 80.0% (0.4)</td><td>❓ 0.0% (0.0)</td><td>❌ 40.0% (0.2)</td><td>😀 0.0% (0.0)</td><td>✅ 0.0% (0.0)</td><td>✅ 0.0% (0.0)</td><td>❓ 40.0% (0.2)</td><td>❌ 0.0% (0.0)</td><td>❌ 100.0% (0.5)</td><td>❓ 200.0% (1.0)</td><td>❌ 60.0% (0.3)</td><td>❓ 100.0% (0.5)</td><td>❓ 0.0% (0.0)</td><td>❓ 200.0% (1.0)</td><td>😀 100.0% (0.5)</td><td>❓ 200.0% (1.0)</td><td>❓ 200.0% (1.0)</td><td>✅ 200.0% (1.0)</td><td>❓ 100.0% (0.5)</td><td>❌ 200.0% (1.0)</td><td>❓ 40.0% (0.2)</td></tr><tr><td>UCLH Cancer Waiting Times</td><td>❓ 17.0% (0.17)</td><td>❓ 0.0% (0.0)</td><td>❓ 17.0% (0.17)</td><td>❓ 17.0% (0.17)</td><td>❓ 0.0% (0.0)</td><td>❓ 0.0% (0.0)</td><td>❓ 10.0% (0.1)</td><td>❓ 42.0% (0.42)</td><td>❓ 0.0% (0.0)</td><td>❓ 33.0% (0.33)</td><td>❓ 17.0% (0.17)</td><td>❓ 67.0% (0.67)</td><td>❓ 17.0% (0.17)</td><td>❓ 25.0% (0.25)</td><td>❓ 42.0% (0.42)</td><td>❓ 17.0% (0.17)</td><td>❓ 18.0% (0.18)</td><td>❓ 0.0% (0.0)</td><td>❓ 17.0% (0.17)</td><td>❓ 50.0% (0.5)</td><td>❓ 100.0% (1.0)</td><td>❓ 8.0% (0.08)</td><td>❓ 68.0% (0.68)</td><td>❓ 0.0% (0.0)</td><td>❓ 100.0% (1.0)</td><td>❓ 50.0% (0.5)</td><td>❓ 100.0% (1.0)</td><td>❓ 100.0% (1.0)</td><td>❓ 100.0% (1.0)</td><td>❓ 75.0% (0.75)</td><td>❓ 100.0% (1.0)</td><td>❓ 0.0% (0.0)</td></tr><tr><td>NHS Scotland Cancer Waiting Times</td><td>❓ 50.0% (0.5)</td><td>❓ 0.0% (0.0)</td><td>❓ 50.0% (0.5)</td><td>❓ 50.0% (0.5)</td><td>❓ 0.0% (0.0)</td><td>❓ 0.0% (0.0)</td><td>❓ 10.0% (0.1)</td><td>❓ 50.0% (0.5)</td><td>❓ 0.0% (0.0)</td><td>❓ 75.0% (0.75)</td><td>❓ 75.0% (0.75)</td><td>❓ 100.0% (1.0)</td><td>❓ 50.0% (0.5)</td><td>❓ 50.0% (0.5)</td><td>❓ 100.0% (1.0)</td><td>❓ 50.0% (0.5)</td><td>❓ 50.0% (0.5)</td><td>❓ 0.0% (0.0)</td><td>❓ 50.0% (0.5)</td><td>❓ 50.0% (0.5)</td><td>❓ 100.0% (1.0)</td><td>❓ 25.0% (0.25)</td><td>❓ 100.0% (1.0)</td><td>❓ 0.0% (0.0)</td><td>❓ 100.0% (1.0)</td><td>❓ 50.0% (0.5)</td><td>❓ 100.0% (1.0)</td><td>❓ 100.0% (1.0)</td><td>❓ 100.0% (1.0)</td><td>❓ 100.0% (1.0)</td><td>❓ 67.0% (0.67)</td><td>❓ 0.0% (0.0)</td></tr><tr><td>DFTG Commons scoping</td><td>❓ 0.0% (0.0)</td><td>❓ 0.0% (0.0)</td><td>❓ 0.0% (0.0)</td><td>❌ 0.0% (0.0)</td><td>❓ 0.0% (0.0)</td><td>❓ 0.0% (0.0)</td><td>❓ 10.0% (0.1)</td><td>❌ 38.0% (0.38)</td><td>❓ 0.0% (0.0)</td><td>❓ 24.0% (0.24)</td><td>❓ 0.0% (0.0)</td><td>❌ 50.0% (0.5)</td><td>❓ 0.0% (0.0)</td><td>❌ 12.0% (0.12)</td><td>❌ 12.0% (0.12)</td><td>❓ 0.0% (0.0)</td><td>❌ 1.0% (0.01)</td><td>❓ 0.0% (0.0)</td><td>✅ 0.0% (0.0)</td><td>❌ 50.0% (0.5)</td><td>❓ 100.0% (1.0)</td><td>❌ 12.0% (0.12)</td><td>❓ 51.0% (0.51)</td><td>❓ 0.0% (0.0)</td><td>❓ 100.0% (1.0)</td><td>❌ 50.0% (0.5)</td><td>❓ 100.0% (1.0)</td><td>❓ 100.0% (1.0)</td><td>✅ 100.0% (1.0)</td><td>❓ 62.0% (0.62)</td><td>❌ 100.0% (1.0)</td><td>❓ 0.0% (0.0)</td></tr><tr><td>DFTG Commons WP 3.4/3.5</td><td>❓ 39.5% (0.79)</td><td>❓ 0.0% (0.0)</td><td>❓ 25.0% (0.5)</td><td>❌ 25.0% (0.5)</td><td>❓ 0.0% (0.0)</td><td>❓ 0.0% (0.0)</td><td>❓ 5.0% (0.1)</td><td>❌ 25.0% (0.5)</td><td>❓ 0.0% (0.0)</td><td>❓ 50.0% (1.0)</td><td>❓ 50.0% (1.0)</td><td>❌ 50.0% (1.0)</td><td>❓ 25.0% (0.5)</td><td>❌ 39.5% (0.79)</td><td>❌ 50.0% (1.0)</td><td>❓ 39.5% (0.79)</td><td>❌ 39.5% (0.79)</td><td>❓ 0.0% (0.0)</td><td>✅ 39.5% (0.79)</td><td>❌ 39.5% (0.79)</td><td>❓ 50.0% (1.0)</td><td>❌ 25.0% (0.5)</td><td>❓ 50.0% (1.0)</td><td>❓ 0.0% (0.0)</td><td>❓ 50.0% (1.0)</td><td>❌ 25.0% (0.5)</td><td>❓ 50.0% (1.0)</td><td>❓ 50.0% (1.0)</td><td>❓ 16.5% (0.33)</td><td>❓ 29.0% (0.58)</td><td>❌ 4.0% (0.08)</td><td>❓ 0.0% (0.0)</td></tr><tr><td>CHANCE</td><td>❓ 42.0% (0.21)</td><td>❓ 0.0% (0.0)</td><td>❓ 42.0% (0.21)</td><td>✅ 42.0% (0.21)</td><td>❓ 4.0% (0.02)</td><td>❓ 0.0% (0.0)</td><td>❓ 20.0% (0.1)</td><td>✅ 92.0% (0.46)</td><td>❓ 0.0% (0.0)</td><td>❓ 74.0% (0.37)</td><td>❓ 58.0% (0.29)</td><td>✅ 124.0% (0.62)</td><td>❓ 42.0% (0.21)</td><td>❓ 76.0% (0.38)</td><td>❓ 92.0% (0.46)</td><td>✅ 42.0% (0.21)</td><td>✅ 40.0% (0.2)</td><td>❓ 24.0% (0.12)</td><td>✅ 42.0% (0.21)</td><td>✅ 100.0% (0.5)</td><td>❓ 200.0% (1.0)</td><td>❌ 50.0% (0.25)</td><td>❓ 142.0% (0.71)</td><td>❓ 0.0% (0.0)</td><td>❓ 200.0% (1.0)</td><td>✅ 100.0% (0.5)</td><td>❓ 200.0% (1.0)</td><td>❓ 200.0% (1.0)</td><td>😀 192.0% (0.96)</td><td>❓ 150.0% (0.75)</td><td>❌ 184.0% (0.92)</td><td>❓ 16.0% (0.08)</td></tr><tr><td>Scaleable Monte Carlo</td><td>❓ 100.0% (1.0)</td><td>❓ 0.0% (0.0)</td><td>❓ 50.0% (0.5)</td><td>❌ 50.0% (0.5)</td><td>❓ 0.0% (0.0)</td><td>✅ 0.0% (0.0)</td><td>❓ 10.0% (0.1)</td><td>✅ 75.0% (0.75)</td><td>❓ 25.0% (0.25)</td><td>❓ 100.0% (1.0)</td><td>❓ 100.0% (1.0)</td><td>❌ 100.0% (1.0)</td><td>❓ 50.0% (0.5)</td><td>✅ 100.0% (1.0)</td><td>❌ 100.0% (1.0)</td><td>❌ 100.0% (1.0)</td><td>😀 100.0% (1.0)</td><td>❓ 0.0% (0.0)</td><td>✅ 100.0% (1.0)</td><td>✅ 100.0% (1.0)</td><td>❓ 100.0% (1.0)</td><td>❌ 75.0% (0.75)</td><td>❓ 100.0% (1.0)</td><td>❓ 0.0% (0.0)</td><td>❓ 100.0% (1.0)</td><td>❓ 71.0% (0.71)</td><td>❓ 100.0% (1.0)</td><td>❓ 100.0% (1.0)</td><td>✅ 0.0% (0.0)</td><td>❓ 8.0% (0.08)</td><td>❌ 0.0% (0.0)</td><td>❓ 0.0% (0.0)</td></tr><tr><td>Wrattler 2019-2020</td><td>❓ 17.0% (0.17)</td><td>❓ 0.0% (0.0)</td><td>❓ 17.0% (0.17)</td><td>❓ 17.0% (0.17)</td><td>❓ 0.0% (0.0)</td><td>❓ 0.0% (0.0)</td><td>❓ 10.0% (0.1)</td><td>❓ 44.0% (0.44)</td><td>❓ 0.0% (0.0)</td><td>❓ 28.0% (0.28)</td><td>❓ 17.0% (0.17)</td><td>❓ 61.0% (0.61)</td><td>❓ 17.0% (0.17)</td><td>❓ 33.0% (0.33)</td><td>❓ 39.0% (0.39)</td><td>😀 17.0% (0.17)</td><td>❓ 17.0% (0.17)</td><td>❓ 11.0% (0.11)</td><td>❓ 17.0% (0.17)</td><td>❓ 50.0% (0.5)</td><td>❓ 100.0% (1.0)</td><td>❓ 17.0% (0.17)</td><td>❓ 67.0% (0.67)</td><td>❓ 0.0% (0.0)</td><td>❓ 100.0% (1.0)</td><td>❓ 50.0% (0.5)</td><td>❓ 100.0% (1.0)</td><td>❓ 100.0% (1.0)</td><td>❓ 100.0% (1.0)</td><td>❓ 72.0% (0.72)</td><td>❓ 100.0% (1.0)</td><td>❓ 11.0% (0.11)</td></tr></table>"
      ],
      "text/plain": [
       "<IPython.core.display.HTML object>"
      ]
     },
     "metadata": {},
     "output_type": "display_data"
    }
   ],
   "source": [
    "names_copy = names.copy()\n",
    "names_copy.insert(0, \"Person\")\n",
    "data = [\n",
    "        names_copy\n",
    "    ]\n",
    "for project_id in resreqdf:\n",
    "    for resreq in resreqdf[project_id]:\n",
    "        if resreq > 0:  # if at least one month in the dataframe has a resource requirement of more than 0 FTE\n",
    "            issue_num = fc.projects.loc[project_id, \"GitHub\"]\n",
    "            if issue_num in issues:\n",
    "                first_resreq_date = resreqdf.index[resreqdf[project_id] != 0][0].strftime(\"%Y-%m-%d\")\n",
    "#                 print(issue_num, fc.projects.loc[project_id, \"name\"],\n",
    "#                       \"Start:\", fc.projects.loc[project_id, \"start_date\"],\n",
    "#                       \"Resource required from:\", first_resreq_date,\n",
    "#                       \"End:\", fc.projects.loc[project_id, \"end_date\"], \n",
    "#                       round(resreq, 3), \"FTE\")\n",
    "                \n",
    "                modified_query = query.replace(\"X\", str(issue_num))\n",
    "                result = run_query(modified_query)  # Execute the query\n",
    "#                 if query_result_contains_emojis(result):  # Currently only displaying those with at least 1 emoji\n",
    "                data = collate_emoji_data(data, result, names, gid_mapping, peopledf, first_resreq_date, fc.projects.loc[project_id, \"end_date\"], resreq, fc.projects.loc[project_id, \"name\"])\n",
    "#                 else:\n",
    "#                     print(\"NO EMOJIS FOUND\")\n",
    "            break\n",
    "# print(data)\n",
    "tabulate_emoji_data(data)"
   ]
  }
 ],
 "metadata": {
  "kernelspec": {
   "display_name": "Python 3",
   "language": "python",
   "name": "python3"
  },
  "language_info": {
   "codemirror_mode": {
    "name": "ipython",
    "version": 3
   },
   "file_extension": ".py",
   "mimetype": "text/x-python",
   "name": "python",
   "nbconvert_exporter": "python",
   "pygments_lexer": "ipython3",
   "version": "3.6.8"
  }
 },
 "nbformat": 4,
 "nbformat_minor": 2
}
