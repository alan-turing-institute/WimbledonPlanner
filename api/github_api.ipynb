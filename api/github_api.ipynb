{
 "cells": [
  {
   "cell_type": "code",
   "execution_count": 1,
   "metadata": {},
   "outputs": [],
   "source": [
    "import requests\n",
    "import json\n",
    "import pandas as pd\n",
    "from datetime import datetime\n",
    "import statistics\n",
    "from IPython.display import HTML, display\n",
    "from wimbledon.vis.Visualise import DataHandlers"
   ]
  },
  {
   "cell_type": "code",
   "execution_count": 2,
   "metadata": {},
   "outputs": [],
   "source": [
    "with open('github.token', 'r') as f:\n",
    "    token = f.read().strip()\n",
    "\n",
    "headers = {\"Authorization\": \"Bearer \" + token}\n",
    "\n",
    "\n",
    "def run_query(query):  # A simple function to use requests.post to make the API call. Note the json= section.\n",
    "    request = requests.post('https://api.github.com/graphql', json={'query': query}, headers=headers)\n",
    "    if request.status_code == 200:\n",
    "        return request.json()\n",
    "    else:\n",
    "        raise Exception(\"Query failed to run by returning code of {}. {}\".format(request.status_code, query))\n"
   ]
  },
  {
   "cell_type": "markdown",
   "metadata": {},
   "source": [
    "GitHub emojis\n",
    "=======\n",
    "\n",
    "Project issues that members of the REG team have selected, \"LAUGH\" are the ones they would most like to be assigned to, \"THUMBS_UP\" they would also be happy with, \"THUMBS_DOWN\" they would not be happy with."
   ]
  },
  {
   "cell_type": "code",
   "execution_count": 3,
   "metadata": {},
   "outputs": [],
   "source": [
    "emojis = {'CONFUSED': '😕',\n",
    "          'EYES': '👀',\n",
    "          'HEART': '❤️',\n",
    "          'HOORAY': '🎉',    \n",
    "          'ROCKET': '🚀',\n",
    "          'THUMBS_DOWN': '❌',\n",
    "          'THUMBS_UP': '👍',\n",
    "          'LAUGH': '✅'}"
   ]
  },
  {
   "cell_type": "code",
   "execution_count": 4,
   "metadata": {},
   "outputs": [
    {
     "name": "stdout",
     "output_type": "stream",
     "text": [
      "Enpoint: whoami | Time: 0.5045343580131885 \n",
      "Enpoint: people/475627 | Time: 0.48001563697471283 \n",
      "\n",
      "AUTHENTICATED USER:\n",
      "Ed Chalstrey echalstrey@turing.ac.uk\n",
      "\n",
      "CLIENTS\n",
      "Enpoint: clients | Time: 0.5022566420084331 \n",
      "PROJECTS\n",
      "Enpoint: projects | Time: 0.7846791759948246 \n",
      "ROLES\n",
      "Enpoint: roles | Time: 0.5929673300124705 \n",
      "PEOPLE\n",
      "Enpoint: people | Time: 0.6181879299983848 \n",
      "PLACEHOLDERS\n",
      "Enpoint: placeholders | Time: 0.4605285070138052 \n",
      "MILESTONES\n",
      "Enpoint: milestones | Time: 0.4705765710095875 \n",
      "ASSIGNMENTS\n",
      "Enpoint: assignments | Time: 0.8025056769838557 \n",
      "==================================================\n",
      "DONE! (5.3s)\n"
     ]
    }
   ],
   "source": [
    "fc = DataHandlers.Forecast()  # get data from forecast"
   ]
  },
  {
   "cell_type": "markdown",
   "metadata": {},
   "source": [
    "REG team\n",
    "=====\n",
    "\n",
    "We need a list of the team members full names from Forecast to compare with their names on GitHub. They match most of the time except when there is no GitHub name. Mapping below covers the rest of the team. We need to update this list if someone new is added to Forecast who doesn't have a matching GitHub name."
   ]
  },
  {
   "cell_type": "code",
   "execution_count": 5,
   "metadata": {},
   "outputs": [
    {
     "data": {
      "text/plain": [
       "['Oliver Strickson',\n",
       " 'Angus Williams',\n",
       " 'David Beavan',\n",
       " 'Evelina Gabasova',\n",
       " 'James Geddes',\n",
       " 'James Hetherington',\n",
       " 'Louise Bowler',\n",
       " \"Martin O'Reilly\",\n",
       " 'May Yong',\n",
       " 'Nick Barlow',\n",
       " 'Radka Jersakova',\n",
       " 'Timothy Hobson',\n",
       " 'Tomas Lazauskas',\n",
       " 'Camila Rangel Smith',\n",
       " 'Sarah Gibson',\n",
       " 'James Robinson',\n",
       " 'Eric Daub',\n",
       " 'Jim Madge',\n",
       " 'Amber Raza',\n",
       " 'Kasra Hosseini',\n",
       " 'Oscar Giles',\n",
       " 'Joel Dearden',\n",
       " 'Amaani Hoddoon',\n",
       " 'Jack Roberts',\n",
       " 'Oliver Forrest',\n",
       " 'Gabriel Hanganu',\n",
       " 'Ed Chalstrey',\n",
       " 'Ashwini Venkatasubramaniam',\n",
       " 'Roly Perera']"
      ]
     },
     "execution_count": 5,
     "metadata": {},
     "output_type": "execute_result"
    }
   ],
   "source": [
    "names = list(fc.people.full_name)\n",
    "names.remove('Giovanni Colavizza')\n",
    "names.remove('Miguel Morin')\n",
    "names.remove('Mohammed Ali Al-Badri')\n",
    "names"
   ]
  },
  {
   "cell_type": "code",
   "execution_count": 6,
   "metadata": {},
   "outputs": [],
   "source": [
    "gid_mapping = {  # People without their full names on github.\n",
    " 'myyong': 'May Yong',\n",
    " 'nbarlowATI': 'Nick Barlow',\n",
    " 'thobson88': 'Timothy Hobson',\n",
    " 'miguelmorin': 'Miguel Morin',\n",
    " 'OscartGiles': 'Oscar Giles',\n",
    " 'AshwiniKV': 'Ashwini Venkatasubramaniam',\n",
    "}"
   ]
  },
  {
   "cell_type": "markdown",
   "metadata": {},
   "source": [
    "Find a team member's availability for a date range\n",
    "---"
   ]
  },
  {
   "cell_type": "code",
   "execution_count": 9,
   "metadata": {},
   "outputs": [],
   "source": [
    "def get_person_availability(name, start_date, end_date):\n",
    "    try:\n",
    "        person_id = fc.get_person_id(name)\n",
    "    except:\n",
    "        return 0.0\n",
    "    peopledf = 1 - fc.people_totals.resample('MS').mean()  # pandas df for team members availability\n",
    "    peopledf = peopledf[(peopledf.index >= start_date) & (peopledf.index <= end_date)]\n",
    "    availability_range = peopledf[person_id]\n",
    "    average_availability = statistics.mean(availability_range)\n",
    "    return round(average_availability, 2)"
   ]
  },
  {
   "cell_type": "code",
   "execution_count": 10,
   "metadata": {},
   "outputs": [
    {
     "data": {
      "text/plain": [
       "0.77"
      ]
     },
     "execution_count": 10,
     "metadata": {},
     "output_type": "execute_result"
    }
   ],
   "source": [
    "start_date = datetime(2019, 10, 1)\n",
    "end_date = datetime(2020, 10, 1)\n",
    "get_person_availability(\"Ed Chalstrey\", start_date, end_date)"
   ]
  },
  {
   "cell_type": "markdown",
   "metadata": {},
   "source": [
    "Create queries with GraphQL to get the emojis for each GitHub issue\n",
    "==="
   ]
  },
  {
   "cell_type": "code",
   "execution_count": 11,
   "metadata": {},
   "outputs": [],
   "source": [
    "issues = fc.projects[\"GitHub\"].dropna().values  # Get list of GitHub issues for projects"
   ]
  },
  {
   "cell_type": "code",
   "execution_count": 12,
   "metadata": {},
   "outputs": [],
   "source": [
    "query = \"\"\"\n",
    "{\n",
    "  repository(owner:\"alan-turing-institute\", name:\"Hut23\") {\n",
    "    issue(number:X) {\n",
    "          number\n",
    "          title\n",
    "          url\n",
    "\n",
    "          reactionGroups {\n",
    "            content\n",
    "            users(first:20) {\n",
    "                edges {\n",
    "                    node {\n",
    "                        login\n",
    "                        name\n",
    "                    }\n",
    "                }\n",
    "            }\n",
    "            }\n",
    "    }\n",
    "  }\n",
    "}\n",
    "\"\"\""
   ]
  },
  {
   "cell_type": "markdown",
   "metadata": {},
   "source": [
    "Check if a GitHub issue has emojis, based on the result of GraphQL query\n",
    "----"
   ]
  },
  {
   "cell_type": "code",
   "execution_count": 13,
   "metadata": {},
   "outputs": [],
   "source": [
    "def query_result_contains_emojis(query_result):\n",
    "    for reaction in query_result['data']['repository']['issue']['reactionGroups']:\n",
    "        if len(reaction['users']['edges']) > 0:\n",
    "            return True\n",
    "    return False"
   ]
  },
  {
   "cell_type": "markdown",
   "metadata": {},
   "source": [
    "Generate a HTML table displaying the results of emoji rating and availability of each team member for each project\n",
    "---"
   ]
  },
  {
   "cell_type": "code",
   "execution_count": 14,
   "metadata": {},
   "outputs": [],
   "source": [
    "def collate_emoji_data(data, query_result, names, start_date, end_date, requirement, project_name):\n",
    "    emojis_availability = [project_name]\n",
    "    for name in names:                 \n",
    "        person_availability = get_person_availability(name, start_date, end_date)\n",
    "#         if person_availability >= 0.1:\n",
    "        percentage_availability = round((person_availability / requirement) * 100, 2)\n",
    "        emoji_name = None\n",
    "        for reaction in query_result['data']['repository']['issue']['reactionGroups']:\n",
    "            for edge in reaction['users']['edges']:\n",
    "                if edge['node']['name'] == name:\n",
    "                    emoji_name = reaction['content']\n",
    "                    if not emoji_name:\n",
    "                        if gid_mapping[edge['node']['login']] == name:\n",
    "                            emoji_name = reaction['content']\n",
    "        if emoji_name:\n",
    "            emoji = emojis[emoji_name]\n",
    "        else:\n",
    "            emoji = \"❓\"\n",
    "        emojis_availability.append(emoji + \" \" + str(percentage_availability) + \"% (\" + str(person_availability) + \")\")  \n",
    "    data.append(emojis_availability)\n",
    "    return data\n",
    "\n",
    "def tabulate_emoji_data(data):\n",
    "    display(HTML(\n",
    "   '<table><tr>{}</tr></table>'.format(\n",
    "       '</tr><tr>'.join(\n",
    "           '<td>{}</td>'.format('</td><td>'.join(str(_) for _ in row)) for row in data)\n",
    "       )\n",
    "    ))"
   ]
  },
  {
   "cell_type": "markdown",
   "metadata": {},
   "source": [
    "Get the projects for which resources (team members) are required and display availability and preference for each team member who has with reacted with an emoji on the GitHub issue\n",
    "----"
   ]
  },
  {
   "cell_type": "code",
   "execution_count": 15,
   "metadata": {},
   "outputs": [],
   "source": [
    "resreqdf = fc.project_resourcereq.resample('MS').mean() # grouped by month and mean taken"
   ]
  },
  {
   "cell_type": "code",
   "execution_count": 16,
   "metadata": {},
   "outputs": [
    {
     "data": {
      "text/html": [
       "<table><tr><td>Person</td><td>Oliver Strickson</td><td>Angus Williams</td><td>David Beavan</td><td>Evelina Gabasova</td><td>James Geddes</td><td>James Hetherington</td><td>Louise Bowler</td><td>Martin O'Reilly</td><td>May Yong</td><td>Nick Barlow</td><td>Radka Jersakova</td><td>Timothy Hobson</td><td>Tomas Lazauskas</td><td>Camila Rangel Smith</td><td>Sarah Gibson</td><td>James Robinson</td><td>Eric Daub</td><td>Jim Madge</td><td>Amber Raza</td><td>Kasra Hosseini</td><td>Oscar Giles</td><td>Joel Dearden</td><td>Amaani Hoddoon</td><td>Jack Roberts</td><td>Oliver Forrest</td><td>Gabriel Hanganu</td><td>Ed Chalstrey</td><td>Ashwini Venkatasubramaniam</td><td>Roly Perera</td></tr><tr><td>96 Living With Machines: 2019-07-01 to 2022-03-31\n",
       "1.0 FTE</td><td>❓ 70.0% (0.7)</td><td>❓ 0.0% (0.0)</td><td>❓ 41.0% (0.41)</td><td>👍 41.0% (0.41)</td><td>❓ 0.0% (0.0)</td><td>❓ 10.0% (0.1)</td><td>👍 67.0% (0.67)</td><td>❓ 18.0% (0.18)</td><td>❓ 80.0% (0.8)</td><td>❓ 77.0% (0.77)</td><td>👍 89.0% (0.89)</td><td>❓ 41.0% (0.41)</td><td>❌ 74.0% (0.74)</td><td>👍 83.0% (0.83)</td><td>✅ 70.0% (0.7)</td><td>👍 70.0% (0.7)</td><td>❓ 70.0% (0.7)</td><td>❌ 79.0% (0.79)</td><td>❓ 100.0% (1.0)</td><td>✅ 59.0% (0.59)</td><td>❓ 91.0% (0.91)</td><td>❓ 0.0% (0.0)</td><td>❓ 100.0% (1.0)</td><td>✅ 67.0% (0.67)</td><td>❓ 100.0% (1.0)</td><td>❓ 100.0% (1.0)</td><td>❓ 39.0% (0.39)</td><td>❓ 41.0% (0.41)</td><td>❓ 30.0% (0.3)</td></tr><tr><td>311 AIDA-Lloyds: 2019-08-01 to 2019-12-31\n",
       "0.4 FTE</td><td>❓ 0.0% (0.0)</td><td>❓ 0.0% (0.0)</td><td>❓ 0.0% (0.0)</td><td>👍 0.0% (0.0)</td><td>❓ 0.0% (0.0)</td><td>❓ 25.0% (0.1)</td><td>👍 100.0% (0.4)</td><td>❓ 0.0% (0.0)</td><td>❓ 50.0% (0.2)</td><td>❓ 0.0% (0.0)</td><td>❓ 125.0% (0.5)</td><td>❓ 0.0% (0.0)</td><td>❌ 50.0% (0.2)</td><td>✅ 25.0% (0.1)</td><td>👍 0.0% (0.0)</td><td>👍 2.5% (0.01)</td><td>❓ 0.0% (0.0)</td><td>❓ 125.0% (0.5)</td><td>❓ 250.0% (1.0)</td><td>👍 50.0% (0.2)</td><td>❓ 127.5% (0.51)</td><td>❓ 0.0% (0.0)</td><td>❓ 250.0% (1.0)</td><td>❓ 125.0% (0.5)</td><td>❓ 250.0% (1.0)</td><td>❓ 250.0% (1.0)</td><td>❓ 250.0% (1.0)</td><td>❓ 150.0% (0.6)</td><td>❓ 250.0% (1.0)</td></tr><tr><td>183 Probabilistic FEM: 2019-07-01 to 2020-02-29\n",
       "0.5 FTE</td><td>❓ 24.0% (0.12)</td><td>❓ 0.0% (0.0)</td><td>❓ 24.0% (0.12)</td><td>❌ 24.0% (0.12)</td><td>❓ 0.0% (0.0)</td><td>✅ 20.0% (0.1)</td><td>❌ 88.0% (0.44)</td><td>❓ 0.0% (0.0)</td><td>❓ 50.0% (0.25)</td><td>❓ 24.0% (0.12)</td><td>❌ 112.0% (0.56)</td><td>❓ 24.0% (0.12)</td><td>❌ 62.0% (0.31)</td><td>❌ 62.0% (0.31)</td><td>❌ 24.0% (0.12)</td><td>❌ 26.0% (0.13)</td><td>❓ 24.0% (0.12)</td><td>👍 100.0% (0.5)</td><td>❓ 200.0% (1.0)</td><td>❌ 38.0% (0.19)</td><td>❓ 126.0% (0.63)</td><td>❓ 0.0% (0.0)</td><td>❓ 200.0% (1.0)</td><td>👍 100.0% (0.5)</td><td>❓ 200.0% (1.0)</td><td>❓ 200.0% (1.0)</td><td>❓ 200.0% (1.0)</td><td>❓ 138.0% (0.69)</td><td>❓ 200.0% (1.0)</td></tr><tr><td>190 Safe Haven: 2019-02-01 to 2021-03-31\n",
       "1.0 FTE</td><td>❓ 42.0% (0.42)</td><td>❓ 0.0% (0.0)</td><td>❓ 29.0% (0.29)</td><td>❓ 29.0% (0.29)</td><td>❓ 0.0% (0.0)</td><td>❓ 9.0% (0.09)</td><td>❓ 40.0% (0.4)</td><td>❓ 0.0% (0.0)</td><td>❓ 56.0% (0.56)</td><td>❓ 52.0% (0.52)</td><td>❓ 67.0% (0.67)</td><td>❓ 29.0% (0.29)</td><td>👍 54.0% (0.54)</td><td>❓ 60.0% (0.6)</td><td>❓ 42.0% (0.42)</td><td>❌ 42.0% (0.42)</td><td>❓ 42.0% (0.42)</td><td>❓ 56.0% (0.56)</td><td>❓ 100.0% (1.0)</td><td>❌ 31.0% (0.31)</td><td>❓ 75.0% (0.75)</td><td>❓ 0.0% (0.0)</td><td>❓ 100.0% (1.0)</td><td>❓ 42.0% (0.42)</td><td>❓ 100.0% (1.0)</td><td>❓ 100.0% (1.0)</td><td>❓ 52.0% (0.52)</td><td>❓ 56.0% (0.56)</td><td>❓ 42.0% (0.42)</td></tr><tr><td>231 UQM^3: 2019-07-01 to 2020-08-31\n",
       "0.5 FTE</td><td>👍 58.0% (0.29)</td><td>❓ 0.0% (0.0)</td><td>❓ 58.0% (0.29)</td><td>❌ 58.0% (0.29)</td><td>❓ 0.0% (0.0)</td><td>❓ 20.0% (0.1)</td><td>👍 92.0% (0.46)</td><td>❓ 0.0% (0.0)</td><td>❓ 106.0% (0.53)</td><td>❓ 92.0% (0.46)</td><td>❌ 150.0% (0.75)</td><td>❓ 58.0% (0.29)</td><td>✅ 78.0% (0.39)</td><td>👍 122.0% (0.61)</td><td>❌ 58.0% (0.29)</td><td>👍 58.0% (0.29)</td><td>❓ 58.0% (0.29)</td><td>👍 100.0% (0.5)</td><td>❓ 200.0% (1.0)</td><td>👍 58.0% (0.29)</td><td>❓ 158.0% (0.79)</td><td>❓ 0.0% (0.0)</td><td>❓ 200.0% (1.0)</td><td>❌ 100.0% (0.5)</td><td>❓ 200.0% (1.0)</td><td>❓ 200.0% (1.0)</td><td>❓ 186.0% (0.93)</td><td>❓ 164.0% (0.82)</td><td>❓ 142.0% (0.71)</td></tr><tr><td>230 Auto DL: 2019-07-01 to 2019-12-31\n",
       "0.5 FTE</td><td>❌ 0.0% (0.0)</td><td>❓ 0.0% (0.0)</td><td>❓ 0.0% (0.0)</td><td>👍 0.0% (0.0)</td><td>❓ 0.0% (0.0)</td><td>❓ 20.0% (0.1)</td><td>👍 84.0% (0.42)</td><td>❓ 0.0% (0.0)</td><td>❓ 32.0% (0.16)</td><td>❓ 0.0% (0.0)</td><td>👍 84.0% (0.42)</td><td>❓ 0.0% (0.0)</td><td>✅ 50.0% (0.25)</td><td>✅ 16.0% (0.08)</td><td>👍 0.0% (0.0)</td><td>✅ 2.0% (0.01)</td><td>❌ 0.0% (0.0)</td><td>👍 100.0% (0.5)</td><td>❓ 200.0% (1.0)</td><td>👍 50.0% (0.25)</td><td>❓ 102.0% (0.51)</td><td>❓ 0.0% (0.0)</td><td>❓ 200.0% (1.0)</td><td>👍 100.0% (0.5)</td><td>❓ 200.0% (1.0)</td><td>❓ 200.0% (1.0)</td><td>❌ 200.0% (1.0)</td><td>❓ 116.0% (0.58)</td><td>❌ 200.0% (1.0)</td></tr><tr><td>308 All in One Cancer imaging optimisation: 2019-09-01 to 2021-08-31\n",
       "1.0 FTE</td><td>❓ 67.0% (0.67)</td><td>❓ 0.0% (0.0)</td><td>❓ 42.0% (0.42)</td><td>👍 42.0% (0.42)</td><td>❓ 0.0% (0.0)</td><td>❓ 10.0% (0.1)</td><td>👍 58.0% (0.58)</td><td>❓ 10.0% (0.1)</td><td>❓ 81.0% (0.81)</td><td>❓ 77.0% (0.77)</td><td>👍 92.0% (0.92)</td><td>❓ 42.0% (0.42)</td><td>👍 69.0% (0.69)</td><td>👍 85.0% (0.85)</td><td>👍 67.0% (0.67)</td><td>❌ 67.0% (0.67)</td><td>❌ 67.0% (0.67)</td><td>❌ 75.0% (0.75)</td><td>❓ 100.0% (1.0)</td><td>👍 48.0% (0.48)</td><td>❓ 92.0% (0.92)</td><td>❓ 0.0% (0.0)</td><td>❓ 100.0% (1.0)</td><td>👍 58.0% (0.58)</td><td>❓ 100.0% (1.0)</td><td>❓ 100.0% (1.0)</td><td>✅ 46.0% (0.46)</td><td>❓ 52.0% (0.52)</td><td>❌ 33.0% (0.33)</td></tr><tr><td>317 Fusion modelling- IDEA: 2019-09-01 to 2021-08-31\n",
       "1.0 FTE</td><td>❓ 67.0% (0.67)</td><td>❓ 0.0% (0.0)</td><td>❓ 42.0% (0.42)</td><td>❌ 42.0% (0.42)</td><td>❓ 0.0% (0.0)</td><td>❓ 10.0% (0.1)</td><td>❓ 58.0% (0.58)</td><td>❓ 10.0% (0.1)</td><td>❓ 81.0% (0.81)</td><td>❓ 77.0% (0.77)</td><td>❓ 92.0% (0.92)</td><td>❓ 42.0% (0.42)</td><td>👍 69.0% (0.69)</td><td>❓ 85.0% (0.85)</td><td>👍 67.0% (0.67)</td><td>❓ 67.0% (0.67)</td><td>❓ 67.0% (0.67)</td><td>❌ 75.0% (0.75)</td><td>❓ 100.0% (1.0)</td><td>❌ 48.0% (0.48)</td><td>❓ 92.0% (0.92)</td><td>❓ 0.0% (0.0)</td><td>❓ 100.0% (1.0)</td><td>❓ 58.0% (0.58)</td><td>❓ 100.0% (1.0)</td><td>❓ 100.0% (1.0)</td><td>❓ 46.0% (0.46)</td><td>❓ 52.0% (0.52)</td><td>❓ 33.0% (0.33)</td></tr><tr><td>218 Uncertainty in Government Modelling: 2019-07-01 to 2020-03-31\n",
       "0.5 FTE</td><td>❓ 34.0% (0.17)</td><td>❓ 0.0% (0.0)</td><td>❓ 34.0% (0.17)</td><td>👍 34.0% (0.17)</td><td>❓ 0.0% (0.0)</td><td>❓ 20.0% (0.1)</td><td>❌ 88.0% (0.44)</td><td>❓ 0.0% (0.0)</td><td>❓ 56.0% (0.28)</td><td>❓ 34.0% (0.17)</td><td>👍 122.0% (0.61)</td><td>❓ 34.0% (0.17)</td><td>❌ 66.0% (0.33)</td><td>👍 78.0% (0.39)</td><td>❌ 34.0% (0.17)</td><td>👍 34.0% (0.17)</td><td>❓ 34.0% (0.17)</td><td>❓ 100.0% (0.5)</td><td>❓ 200.0% (1.0)</td><td>👍 34.0% (0.17)</td><td>❓ 134.0% (0.67)</td><td>❓ 0.0% (0.0)</td><td>❓ 200.0% (1.0)</td><td>❓ 100.0% (0.5)</td><td>❓ 200.0% (1.0)</td><td>❓ 200.0% (1.0)</td><td>❓ 200.0% (1.0)</td><td>❓ 144.0% (0.72)</td><td>❓ 200.0% (1.0)</td></tr><tr><td>234 Interpretable AI for health: 2019-10-01 to 2019-12-31\n",
       "1.0 FTE</td><td>❌ 0.0% (0.0)</td><td>❓ 0.0% (0.0)</td><td>❓ 0.0% (0.0)</td><td>👍 0.0% (0.0)</td><td>❓ 0.0% (0.0)</td><td>❓ 10.0% (0.1)</td><td>👍 33.0% (0.33)</td><td>❓ 0.0% (0.0)</td><td>❓ 33.0% (0.33)</td><td>❓ 0.0% (0.0)</td><td>👍 50.0% (0.5)</td><td>❓ 0.0% (0.0)</td><td>👍 17.0% (0.17)</td><td>👍 17.0% (0.17)</td><td>👍 0.0% (0.0)</td><td>👍 2.0% (0.02)</td><td>❌ 0.0% (0.0)</td><td>👍 50.0% (0.5)</td><td>❓ 100.0% (1.0)</td><td>👍 0.0% (0.0)</td><td>❓ 52.0% (0.52)</td><td>❓ 0.0% (0.0)</td><td>❓ 100.0% (1.0)</td><td>👍 50.0% (0.5)</td><td>❓ 100.0% (1.0)</td><td>❓ 100.0% (1.0)</td><td>👍 100.0% (1.0)</td><td>❓ 67.0% (0.67)</td><td>❌ 100.0% (1.0)</td></tr><tr><td>298 SPF Justice: 2019-05-01 to 2022-03-31\n",
       "1.0 FTE</td><td>❓ 66.0% (0.66)</td><td>❓ 0.0% (0.0)</td><td>❓ 39.0% (0.39)</td><td>❓ 39.0% (0.39)</td><td>❓ 0.0% (0.0)</td><td>❓ 10.0% (0.1)</td><td>❓ 64.0% (0.64)</td><td>❓ 17.0% (0.17)</td><td>❓ 76.0% (0.76)</td><td>❓ 73.0% (0.73)</td><td>❓ 84.0% (0.84)</td><td>❓ 39.0% (0.39)</td><td>❓ 73.0% (0.73)</td><td>❓ 79.0% (0.79)</td><td>❓ 66.0% (0.66)</td><td>❓ 66.0% (0.66)</td><td>❓ 66.0% (0.66)</td><td>❌ 76.0% (0.76)</td><td>❓ 100.0% (1.0)</td><td>✅ 57.0% (0.57)</td><td>❓ 89.0% (0.89)</td><td>❓ 0.0% (0.0)</td><td>❓ 100.0% (1.0)</td><td>✅ 64.0% (0.64)</td><td>❓ 100.0% (1.0)</td><td>❓ 100.0% (1.0)</td><td>❓ 39.0% (0.39)</td><td>❓ 41.0% (0.41)</td><td>❓ 31.0% (0.31)</td></tr><tr><td>229 Micro-location analytics: 2019-06-01 to 2019-09-30\n",
       "1.0 FTE</td><td>❌ 0.0% (0.0)</td><td>❓ 0.0% (0.0)</td><td>❓ 0.0% (0.0)</td><td>👍 0.0% (0.0)</td><td>❓ 0.0% (0.0)</td><td>❓ 10.0% (0.1)</td><td>👍 50.0% (0.5)</td><td>❓ 0.0% (0.0)</td><td>❓ 0.0% (0.0)</td><td>❓ 0.0% (0.0)</td><td>👍 25.0% (0.25)</td><td>❓ 0.0% (0.0)</td><td>👍 38.0% (0.38)</td><td>✅ 0.0% (0.0)</td><td>👍 0.0% (0.0)</td><td>👍 -3.0% (-0.03)</td><td>❌ 0.0% (0.0)</td><td>👍 50.0% (0.5)</td><td>❓ 100.0% (1.0)</td><td>❌ 50.0% (0.5)</td><td>❓ 50.0% (0.5)</td><td>❓ 0.0% (0.0)</td><td>❓ 100.0% (1.0)</td><td>👍 50.0% (0.5)</td><td>❓ 100.0% (1.0)</td><td>❓ 100.0% (1.0)</td><td>✅ 88.0% (0.88)</td><td>❓ 50.0% (0.5)</td><td>❌ 100.0% (1.0)</td></tr><tr><td>233 Machine learning for cancer: 2019-10-01 to 2020-04-30\n",
       "0.5 FTE</td><td>❌ 58.0% (0.29)</td><td>❓ 0.0% (0.0)</td><td>❓ 58.0% (0.29)</td><td>👍 58.0% (0.29)</td><td>❓ 0.0% (0.0)</td><td>❓ 20.0% (0.1)</td><td>👍 86.0% (0.43)</td><td>❓ 0.0% (0.0)</td><td>❓ 100.0% (0.5)</td><td>❓ 72.0% (0.36)</td><td>❌ 158.0% (0.79)</td><td>❓ 58.0% (0.29)</td><td>❌ 72.0% (0.36)</td><td>✅ 128.0% (0.64)</td><td>❌ 58.0% (0.29)</td><td>👍 58.0% (0.29)</td><td>❌ 58.0% (0.29)</td><td>❌ 100.0% (0.5)</td><td>❓ 200.0% (1.0)</td><td>👍 14.0% (0.07)</td><td>❓ 158.0% (0.79)</td><td>❓ 0.0% (0.0)</td><td>❓ 200.0% (1.0)</td><td>👍 100.0% (0.5)</td><td>❓ 200.0% (1.0)</td><td>❓ 200.0% (1.0)</td><td>✅ 200.0% (1.0)</td><td>❓ 172.0% (0.86)</td><td>❌ 200.0% (1.0)</td></tr><tr><td>237 Urban systems resilience: 2019-10-01 to 2019-12-31\n",
       "1.0 FTE</td><td>❌ 0.0% (0.0)</td><td>❓ 0.0% (0.0)</td><td>❓ 0.0% (0.0)</td><td>👍 0.0% (0.0)</td><td>❓ 0.0% (0.0)</td><td>❓ 10.0% (0.1)</td><td>👍 33.0% (0.33)</td><td>❓ 0.0% (0.0)</td><td>❓ 33.0% (0.33)</td><td>❓ 0.0% (0.0)</td><td>👍 50.0% (0.5)</td><td>❓ 0.0% (0.0)</td><td>👍 17.0% (0.17)</td><td>👍 17.0% (0.17)</td><td>👍 0.0% (0.0)</td><td>👍 2.0% (0.02)</td><td>👍 0.0% (0.0)</td><td>❌ 50.0% (0.5)</td><td>❓ 100.0% (1.0)</td><td>❌ 0.0% (0.0)</td><td>❓ 52.0% (0.52)</td><td>❓ 0.0% (0.0)</td><td>❓ 100.0% (1.0)</td><td>👍 50.0% (0.5)</td><td>❓ 100.0% (1.0)</td><td>❓ 100.0% (1.0)</td><td>❌ 100.0% (1.0)</td><td>❓ 67.0% (0.67)</td><td>❌ 100.0% (1.0)</td></tr><tr><td>382 NCSC: 2019-04-01 to 2020-03-31\n",
       "1.0 FTE</td><td>❓ 12.0% (0.12)</td><td>❓ 0.0% (0.0)</td><td>❓ 12.0% (0.12)</td><td>❓ 12.0% (0.12)</td><td>❓ 0.0% (0.0)</td><td>❓ 10.0% (0.1)</td><td>❓ 38.0% (0.38)</td><td>❓ 0.0% (0.0)</td><td>❓ 21.0% (0.21)</td><td>❓ 12.0% (0.12)</td><td>❓ 46.0% (0.46)</td><td>❓ 12.0% (0.12)</td><td>❓ 38.0% (0.38)</td><td>❓ 29.0% (0.29)</td><td>❓ 12.0% (0.12)</td><td>❓ 12.0% (0.12)</td><td>❓ 12.0% (0.12)</td><td>❓ 42.0% (0.42)</td><td>❓ 100.0% (1.0)</td><td>❓ 18.0% (0.18)</td><td>❓ 63.0% (0.63)</td><td>❓ 0.0% (0.0)</td><td>❓ 100.0% (1.0)</td><td>❓ 42.0% (0.42)</td><td>❓ 100.0% (1.0)</td><td>❓ 100.0% (1.0)</td><td>❓ 79.0% (0.79)</td><td>❓ 62.0% (0.62)</td><td>❓ 83.0% (0.83)</td></tr><tr><td>217 Visualisation: 2019-06-01 to 2019-11-30\n",
       "1.0 FTE</td><td>❌ 0.0% (0.0)</td><td>❓ 0.0% (0.0)</td><td>❓ 0.0% (0.0)</td><td>❌ 0.0% (0.0)</td><td>❓ 0.0% (0.0)</td><td>❓ 10.0% (0.1)</td><td>❌ 42.0% (0.42)</td><td>❓ 0.0% (0.0)</td><td>❓ 8.0% (0.08)</td><td>❓ 0.0% (0.0)</td><td>❌ 33.0% (0.33)</td><td>❓ 0.0% (0.0)</td><td>❌ 25.0% (0.25)</td><td>❓ 0.0% (0.0)</td><td>❌ 0.0% (0.0)</td><td>❌ -2.0% (-0.02)</td><td>❌ 0.0% (0.0)</td><td>❌ 50.0% (0.5)</td><td>❓ 100.0% (1.0)</td><td>❌ 33.0% (0.33)</td><td>❓ 50.0% (0.5)</td><td>❓ 0.0% (0.0)</td><td>❓ 100.0% (1.0)</td><td>❌ 50.0% (0.5)</td><td>❓ 100.0% (1.0)</td><td>❓ 100.0% (1.0)</td><td>❌ 92.0% (0.92)</td><td>❓ 50.0% (0.5)</td><td>❌ 100.0% (1.0)</td></tr><tr><td>299 SPF TPS 2019+: 2019-06-01 to 2022-03-31\n",
       "1.0 FTE</td><td>❓ 68.0% (0.68)</td><td>❓ 0.0% (0.0)</td><td>❓ 40.0% (0.4)</td><td>❓ 40.0% (0.4)</td><td>❓ 0.0% (0.0)</td><td>❓ 10.0% (0.1)</td><td>❓ 66.0% (0.66)</td><td>❓ 18.0% (0.18)</td><td>❓ 78.0% (0.78)</td><td>❓ 75.0% (0.75)</td><td>❓ 87.0% (0.87)</td><td>❓ 40.0% (0.4)</td><td>❓ 74.0% (0.74)</td><td>❓ 81.0% (0.81)</td><td>❓ 68.0% (0.68)</td><td>❓ 68.0% (0.68)</td><td>❓ 68.0% (0.68)</td><td>❓ 78.0% (0.78)</td><td>❓ 100.0% (1.0)</td><td>❓ 59.0% (0.59)</td><td>❓ 90.0% (0.9)</td><td>❓ 0.0% (0.0)</td><td>❓ 100.0% (1.0)</td><td>❓ 66.0% (0.66)</td><td>❓ 100.0% (1.0)</td><td>❓ 100.0% (1.0)</td><td>❓ 40.0% (0.4)</td><td>❓ 41.0% (0.41)</td><td>❓ 32.0% (0.32)</td></tr><tr><td>239 Logics for DS: 2019-06-01 to 2020-12-31\n",
       "0.25 FTE</td><td>❌ 168.0% (0.42)</td><td>❓ 0.0% (0.0)</td><td>❓ 128.0% (0.32)</td><td>👍 128.0% (0.32)</td><td>❓ 0.0% (0.0)</td><td>❓ 40.0% (0.1)</td><td>❌ 188.0% (0.47)</td><td>❓ 0.0% (0.0)</td><td>❓ 240.0% (0.6)</td><td>❓ 220.0% (0.55)</td><td>👍 304.0% (0.76)</td><td>❓ 128.0% (0.32)</td><td>❌ 212.0% (0.53)</td><td>👍 264.0% (0.66)</td><td>❌ 168.0% (0.42)</td><td>❌ 168.0% (0.42)</td><td>❌ 168.0% (0.42)</td><td>❌ 244.0% (0.61)</td><td>❓ 400.0% (1.0)</td><td>👍 136.0% (0.34)</td><td>❓ 328.0% (0.82)</td><td>❓ 0.0% (0.0)</td><td>❓ 400.0% (1.0)</td><td>❌ 200.0% (0.5)</td><td>❓ 400.0% (1.0)</td><td>❓ 400.0% (1.0)</td><td>❌ 284.0% (0.71)</td><td>❓ 296.0% (0.74)</td><td>👍 232.0% (0.58)</td></tr><tr><td>363 Medevac Decision Support: 2019-09-01 to 2020-02-29\n",
       "1.0 FTE</td><td>❓ 17.0% (0.17)</td><td>❓ 0.0% (0.0)</td><td>❓ 17.0% (0.17)</td><td>❓ 17.0% (0.17)</td><td>❓ 0.0% (0.0)</td><td>❓ 10.0% (0.1)</td><td>👍 42.0% (0.42)</td><td>❓ 0.0% (0.0)</td><td>❓ 33.0% (0.33)</td><td>❓ 17.0% (0.17)</td><td>❓ 67.0% (0.67)</td><td>❓ 17.0% (0.17)</td><td>❌ 25.0% (0.25)</td><td>❌ 42.0% (0.42)</td><td>❌ 17.0% (0.17)</td><td>👍 18.0% (0.18)</td><td>❓ 17.0% (0.17)</td><td>❌ 50.0% (0.5)</td><td>❓ 100.0% (1.0)</td><td>❓ 8.0% (0.08)</td><td>❓ 68.0% (0.68)</td><td>❓ 0.0% (0.0)</td><td>❓ 100.0% (1.0)</td><td>✅ 50.0% (0.5)</td><td>❓ 100.0% (1.0)</td><td>❓ 100.0% (1.0)</td><td>❌ 100.0% (1.0)</td><td>❓ 75.0% (0.75)</td><td>❓ 100.0% (1.0)</td></tr><tr><td>360 NHS Medication Safety: 2019-07-01 to 2019-11-30\n",
       "0.5 FTE</td><td>❓ 0.0% (0.0)</td><td>❓ 0.0% (0.0)</td><td>❓ 0.0% (0.0)</td><td>👍 0.0% (0.0)</td><td>👍 0.0% (0.0)</td><td>❓ 20.0% (0.1)</td><td>✅ 80.0% (0.4)</td><td>❓ 0.0% (0.0)</td><td>❓ 20.0% (0.1)</td><td>❓ 0.0% (0.0)</td><td>👍 80.0% (0.4)</td><td>❓ 0.0% (0.0)</td><td>❌ 40.0% (0.2)</td><td>✅ 0.0% (0.0)</td><td>👍 0.0% (0.0)</td><td>👍 0.0% (0.0)</td><td>❌ 0.0% (0.0)</td><td>❌ 100.0% (0.5)</td><td>❓ 200.0% (1.0)</td><td>❌ 60.0% (0.3)</td><td>❓ 100.0% (0.5)</td><td>❓ 0.0% (0.0)</td><td>❓ 200.0% (1.0)</td><td>✅ 100.0% (0.5)</td><td>❓ 200.0% (1.0)</td><td>❓ 200.0% (1.0)</td><td>👍 200.0% (1.0)</td><td>❓ 100.0% (0.5)</td><td>❌ 200.0% (1.0)</td></tr><tr><td>210 UCLH Cancer Waiting Times: 2019-09-01 to 2020-02-29\n",
       "1.0 FTE</td><td>❓ 17.0% (0.17)</td><td>❓ 0.0% (0.0)</td><td>❓ 17.0% (0.17)</td><td>❓ 17.0% (0.17)</td><td>❓ 0.0% (0.0)</td><td>❓ 10.0% (0.1)</td><td>❓ 42.0% (0.42)</td><td>❓ 0.0% (0.0)</td><td>❓ 33.0% (0.33)</td><td>❓ 17.0% (0.17)</td><td>❓ 67.0% (0.67)</td><td>❓ 17.0% (0.17)</td><td>❓ 25.0% (0.25)</td><td>❓ 42.0% (0.42)</td><td>❓ 17.0% (0.17)</td><td>❓ 18.0% (0.18)</td><td>❓ 17.0% (0.17)</td><td>❓ 50.0% (0.5)</td><td>❓ 100.0% (1.0)</td><td>❓ 8.0% (0.08)</td><td>❓ 68.0% (0.68)</td><td>❓ 0.0% (0.0)</td><td>❓ 100.0% (1.0)</td><td>❓ 50.0% (0.5)</td><td>❓ 100.0% (1.0)</td><td>❓ 100.0% (1.0)</td><td>❓ 100.0% (1.0)</td><td>❓ 75.0% (0.75)</td><td>❓ 100.0% (1.0)</td></tr><tr><td>359 NHS Scotland Cancer Waiting Times: 2020-01-01 to 2020-06-30\n",
       "1.0 FTE</td><td>❓ 50.0% (0.5)</td><td>❓ 0.0% (0.0)</td><td>❓ 50.0% (0.5)</td><td>❓ 50.0% (0.5)</td><td>❓ 0.0% (0.0)</td><td>❓ 10.0% (0.1)</td><td>❓ 50.0% (0.5)</td><td>❓ 0.0% (0.0)</td><td>❓ 75.0% (0.75)</td><td>❓ 75.0% (0.75)</td><td>❓ 100.0% (1.0)</td><td>❓ 50.0% (0.5)</td><td>❓ 50.0% (0.5)</td><td>❓ 100.0% (1.0)</td><td>❓ 50.0% (0.5)</td><td>❓ 50.0% (0.5)</td><td>❓ 50.0% (0.5)</td><td>❓ 50.0% (0.5)</td><td>❓ 100.0% (1.0)</td><td>❓ 25.0% (0.25)</td><td>❓ 100.0% (1.0)</td><td>❓ 0.0% (0.0)</td><td>❓ 100.0% (1.0)</td><td>❓ 50.0% (0.5)</td><td>❓ 100.0% (1.0)</td><td>❓ 100.0% (1.0)</td><td>❓ 100.0% (1.0)</td><td>❓ 100.0% (1.0)</td><td>❓ 67.0% (0.67)</td></tr><tr><td>379 DFTG Commons scoping: 2019-09-01 to 2019-12-31\n",
       "1.0 FTE</td><td>❓ 0.0% (0.0)</td><td>❓ 0.0% (0.0)</td><td>❓ 0.0% (0.0)</td><td>❌ 0.0% (0.0)</td><td>❓ 0.0% (0.0)</td><td>❓ 10.0% (0.1)</td><td>❌ 38.0% (0.38)</td><td>❓ 0.0% (0.0)</td><td>❓ 24.0% (0.24)</td><td>❓ 0.0% (0.0)</td><td>❌ 50.0% (0.5)</td><td>❓ 0.0% (0.0)</td><td>❌ 12.0% (0.12)</td><td>❌ 12.0% (0.12)</td><td>❓ 0.0% (0.0)</td><td>❌ 1.0% (0.01)</td><td>👍 0.0% (0.0)</td><td>❌ 50.0% (0.5)</td><td>❓ 100.0% (1.0)</td><td>❌ 12.0% (0.12)</td><td>❓ 51.0% (0.51)</td><td>❓ 0.0% (0.0)</td><td>❓ 100.0% (1.0)</td><td>❌ 50.0% (0.5)</td><td>❓ 100.0% (1.0)</td><td>❓ 100.0% (1.0)</td><td>👍 100.0% (1.0)</td><td>❓ 62.0% (0.62)</td><td>❌ 100.0% (1.0)</td></tr><tr><td>381 DFTG Commons WP 3.4/3.5: 2020-04-01 to 2021-03-31\n",
       "2.0 FTE</td><td>❓ 39.5% (0.79)</td><td>❓ 0.0% (0.0)</td><td>❓ 25.0% (0.5)</td><td>❌ 25.0% (0.5)</td><td>❓ 0.0% (0.0)</td><td>❓ 5.0% (0.1)</td><td>❌ 25.0% (0.5)</td><td>❓ 0.0% (0.0)</td><td>❓ 50.0% (1.0)</td><td>❓ 50.0% (1.0)</td><td>❌ 50.0% (1.0)</td><td>❓ 25.0% (0.5)</td><td>❌ 39.5% (0.79)</td><td>❌ 50.0% (1.0)</td><td>❓ 39.5% (0.79)</td><td>❌ 39.5% (0.79)</td><td>👍 39.5% (0.79)</td><td>❌ 39.5% (0.79)</td><td>❓ 50.0% (1.0)</td><td>❌ 25.0% (0.5)</td><td>❓ 50.0% (1.0)</td><td>❓ 0.0% (0.0)</td><td>❓ 50.0% (1.0)</td><td>❌ 25.0% (0.5)</td><td>❓ 50.0% (1.0)</td><td>❓ 50.0% (1.0)</td><td>❓ 16.5% (0.33)</td><td>❓ 29.0% (0.58)</td><td>❌ 4.0% (0.08)</td></tr><tr><td>34 CHANCE: 2019-06-01 to 2020-05-31\n",
       "0.5 FTE</td><td>❓ 42.0% (0.21)</td><td>❓ 0.0% (0.0)</td><td>❓ 42.0% (0.21)</td><td>👍 42.0% (0.21)</td><td>❓ 0.0% (0.0)</td><td>❓ 20.0% (0.1)</td><td>👍 92.0% (0.46)</td><td>❓ 0.0% (0.0)</td><td>❓ 74.0% (0.37)</td><td>❓ 58.0% (0.29)</td><td>👍 124.0% (0.62)</td><td>❓ 42.0% (0.21)</td><td>❓ 76.0% (0.38)</td><td>❓ 92.0% (0.46)</td><td>👍 42.0% (0.21)</td><td>👍 40.0% (0.2)</td><td>👍 42.0% (0.21)</td><td>👍 100.0% (0.5)</td><td>❓ 200.0% (1.0)</td><td>❌ 50.0% (0.25)</td><td>❓ 142.0% (0.71)</td><td>❓ 0.0% (0.0)</td><td>❓ 200.0% (1.0)</td><td>👍 100.0% (0.5)</td><td>❓ 200.0% (1.0)</td><td>❓ 200.0% (1.0)</td><td>✅ 192.0% (0.96)</td><td>❓ 150.0% (0.75)</td><td>❌ 184.0% (0.92)</td></tr><tr><td>332 Scaleable Monte Carlo: 2020-10-01 to 2021-09-30\n",
       "1.0 FTE</td><td>❓ 100.0% (1.0)</td><td>❓ 0.0% (0.0)</td><td>❓ 50.0% (0.5)</td><td>❌ 50.0% (0.5)</td><td>👍 0.0% (0.0)</td><td>❓ 10.0% (0.1)</td><td>👍 75.0% (0.75)</td><td>❓ 25.0% (0.25)</td><td>❓ 100.0% (1.0)</td><td>❓ 100.0% (1.0)</td><td>❌ 100.0% (1.0)</td><td>❓ 50.0% (0.5)</td><td>👍 100.0% (1.0)</td><td>❌ 100.0% (1.0)</td><td>❌ 100.0% (1.0)</td><td>✅ 100.0% (1.0)</td><td>👍 100.0% (1.0)</td><td>👍 100.0% (1.0)</td><td>❓ 100.0% (1.0)</td><td>❌ 75.0% (0.75)</td><td>❓ 100.0% (1.0)</td><td>❓ 0.0% (0.0)</td><td>❓ 100.0% (1.0)</td><td>❓ 71.0% (0.71)</td><td>❓ 100.0% (1.0)</td><td>❓ 100.0% (1.0)</td><td>👍 0.0% (0.0)</td><td>❓ 8.0% (0.08)</td><td>❌ 0.0% (0.0)</td></tr><tr><td>293 Wrattler 2019-2020: 2019-07-01 to 2020-03-31\n",
       "1.0 FTE</td><td>❓ 17.0% (0.17)</td><td>❓ 0.0% (0.0)</td><td>❓ 17.0% (0.17)</td><td>❓ 17.0% (0.17)</td><td>❓ 0.0% (0.0)</td><td>❓ 10.0% (0.1)</td><td>❓ 44.0% (0.44)</td><td>❓ 0.0% (0.0)</td><td>❓ 28.0% (0.28)</td><td>❓ 17.0% (0.17)</td><td>❓ 61.0% (0.61)</td><td>❓ 17.0% (0.17)</td><td>❓ 33.0% (0.33)</td><td>❓ 39.0% (0.39)</td><td>✅ 17.0% (0.17)</td><td>❓ 17.0% (0.17)</td><td>❓ 17.0% (0.17)</td><td>❓ 50.0% (0.5)</td><td>❓ 100.0% (1.0)</td><td>❓ 17.0% (0.17)</td><td>❓ 67.0% (0.67)</td><td>❓ 0.0% (0.0)</td><td>❓ 100.0% (1.0)</td><td>❓ 50.0% (0.5)</td><td>❓ 100.0% (1.0)</td><td>❓ 100.0% (1.0)</td><td>❓ 100.0% (1.0)</td><td>❓ 72.0% (0.72)</td><td>❓ 100.0% (1.0)</td></tr></table>"
      ],
      "text/plain": [
       "<IPython.core.display.HTML object>"
      ]
     },
     "metadata": {},
     "output_type": "display_data"
    }
   ],
   "source": [
    "names_copy = names.copy()\n",
    "names_copy.insert(0, \"Person\")\n",
    "data = [\n",
    "        names_copy\n",
    "    ]\n",
    "for project_id in resreqdf:\n",
    "    for resreq in resreqdf[project_id]:\n",
    "        if resreq > 0:  # if at least one month in the dataframe has a resource requirement of more than 0 FTE\n",
    "            issue_num = fc.projects.loc[project_id, \"GitHub\"]\n",
    "            if issue_num in issues:\n",
    "                first_resreq_date = resreqdf.index[resreqdf[project_id] != 0][0].strftime(\"%Y-%m-%d\")\n",
    "                project_title = str(issue_num) + \" \" + fc.projects.loc[project_id, \"name\"] + \": \" + first_resreq_date + \" to \" + fc.projects.loc[project_id, \"end_date\"] + \"\\n\" + str(round(resreq, 3)) + \" FTE\"\n",
    "                modified_query = query.replace(\"X\", str(issue_num))\n",
    "                result = run_query(modified_query)  # Execute the query\n",
    "                data = collate_emoji_data(data, result, names, first_resreq_date, fc.projects.loc[project_id, \"end_date\"], resreq, project_title)\n",
    "            break\n",
    "tabulate_emoji_data(data)"
   ]
  }
 ],
 "metadata": {
  "kernelspec": {
   "display_name": "Python 3",
   "language": "python",
   "name": "python3"
  },
  "language_info": {
   "codemirror_mode": {
    "name": "ipython",
    "version": 3
   },
   "file_extension": ".py",
   "mimetype": "text/x-python",
   "name": "python",
   "nbconvert_exporter": "python",
   "pygments_lexer": "ipython3",
   "version": "3.6.8"
  }
 },
 "nbformat": 4,
 "nbformat_minor": 2
}
