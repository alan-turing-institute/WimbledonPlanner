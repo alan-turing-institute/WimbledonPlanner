{
 "cells": [
  {
   "cell_type": "code",
   "execution_count": 118,
   "metadata": {},
   "outputs": [],
   "source": [
    "import requests\n",
    "import json\n",
    "import pandas as pd\n",
    "from datetime import datetime\n",
    "import statistics\n",
    "from IPython.display import HTML, display\n",
    "from wimbledon.vis.Visualise import DataHandlers"
   ]
  },
  {
   "cell_type": "code",
   "execution_count": 2,
   "metadata": {},
   "outputs": [],
   "source": [
    "with open('github.token', 'r') as f:\n",
    "    token = f.read().strip()\n",
    "\n",
    "headers = {\"Authorization\": \"Bearer \" + token}\n",
    "\n",
    "\n",
    "def run_query(query):  # A simple function to use requests.post to make the API call. Note the json= section.\n",
    "    request = requests.post('https://api.github.com/graphql', json={'query': query}, headers=headers)\n",
    "    if request.status_code == 200:\n",
    "        return request.json()\n",
    "    else:\n",
    "        raise Exception(\"Query failed to run by returning code of {}. {}\".format(request.status_code, query))\n"
   ]
  },
  {
   "cell_type": "code",
   "execution_count": 3,
   "metadata": {},
   "outputs": [],
   "source": [
    "emojis = {'CONFUSED': '😕',\n",
    "          'EYES': '👀',\n",
    "          'HEART': '❤️',\n",
    "          'HOORAY': '🎉',    \n",
    "          'ROCKET': '🚀',\n",
    "          'THUMBS_DOWN': '❌',\n",
    "          'THUMBS_UP': '✔️',\n",
    "          'LAUGH': '✅'}"
   ]
  },
  {
   "cell_type": "code",
   "execution_count": 4,
   "metadata": {},
   "outputs": [
    {
     "name": "stdout",
     "output_type": "stream",
     "text": [
      "Enpoint: whoami | Time: 0.5059723990125349 \n",
      "Enpoint: people/475627 | Time: 0.48271679900062736 \n",
      "\n",
      "AUTHENTICATED USER:\n",
      "Ed Chalstrey echalstrey@turing.ac.uk\n",
      "\n",
      "CLIENTS\n",
      "Enpoint: clients | Time: 0.5350835980061674 \n",
      "PROJECTS\n",
      "Enpoint: projects | Time: 0.7616336270002648 \n",
      "ROLES\n",
      "Enpoint: roles | Time: 0.6055478719936218 \n",
      "PEOPLE\n",
      "Enpoint: people | Time: 0.5945824310038006 \n",
      "PLACEHOLDERS\n",
      "Enpoint: placeholders | Time: 0.48869862699939404 \n",
      "MILESTONES\n",
      "Enpoint: milestones | Time: 0.4685551090078661 \n",
      "ASSIGNMENTS\n",
      "Enpoint: assignments | Time: 0.7180030739982612 \n",
      "==================================================\n",
      "DONE! (5.2s)\n"
     ]
    }
   ],
   "source": [
    "fc = DataHandlers.Forecast()"
   ]
  },
  {
   "cell_type": "code",
   "execution_count": 127,
   "metadata": {},
   "outputs": [
    {
     "data": {
      "text/plain": [
       "['Oliver Strickson',\n",
       " 'Angus Williams',\n",
       " 'David Beavan',\n",
       " 'Evelina Gabasova',\n",
       " 'Giovanni Colavizza',\n",
       " 'James Geddes',\n",
       " 'James Hetherington',\n",
       " 'Louise Bowler',\n",
       " \"Martin O'Reilly\",\n",
       " 'May Yong',\n",
       " 'Nick Barlow',\n",
       " 'Radka Jersakova',\n",
       " 'Timothy Hobson',\n",
       " 'Tomas Lazauskas',\n",
       " 'Camila Rangel Smith',\n",
       " 'Sarah Gibson',\n",
       " 'James Robinson',\n",
       " 'Miguel Morin',\n",
       " 'Eric Daub',\n",
       " 'Jim Madge',\n",
       " 'Amber Raza',\n",
       " 'Kasra Hosseini',\n",
       " 'Oscar Giles',\n",
       " 'Joel Dearden',\n",
       " 'Amaani Hoddoon',\n",
       " 'Jack Roberts',\n",
       " 'Oliver Forrest',\n",
       " 'Gabriel Hanganu',\n",
       " 'Ed Chalstrey',\n",
       " 'Ashwini Venkatasubramaniam',\n",
       " 'Roly Perera',\n",
       " 'Mohammed Ali Al-Badri']"
      ]
     },
     "execution_count": 127,
     "metadata": {},
     "output_type": "execute_result"
    }
   ],
   "source": [
    "names = list(fc.people.full_name)\n",
    "names"
   ]
  },
  {
   "cell_type": "code",
   "execution_count": 82,
   "metadata": {},
   "outputs": [],
   "source": [
    "gid_mapping = {  # People without their full names on github\n",
    " 'myyong': 'May Yong',\n",
    " 'nbarlowATI': 'Nick Barlow',\n",
    " 'thobson88': 'Timothy Hobson',\n",
    " 'miguelmorin': 'Miguel Morin',\n",
    " 'OscartGiles': 'Oscar Giles',\n",
    " 'AshwiniKV': 'Ashwini Venkatasubramaniam',\n",
    "}"
   ]
  },
  {
   "cell_type": "markdown",
   "metadata": {},
   "source": [
    "Take an individuals average availability for the duration of a project and if >= project req green, if < req but > 0 Amber, if 0 red. You may have to use a Python date package like Pendulum for interpreting the dates so we can compare for a range."
   ]
  },
  {
   "cell_type": "code",
   "execution_count": 137,
   "metadata": {},
   "outputs": [
    {
     "data": {
      "text/plain": [
       "0.39"
      ]
     },
     "execution_count": 137,
     "metadata": {},
     "output_type": "execute_result"
    }
   ],
   "source": [
    "peopledf = fc.people_totals.resample('MS').mean()  # numbers are already assigned\n",
    "\n",
    "def get_person_availability(name, peopledf, start_date, end_date):\n",
    "    try:\n",
    "        person_id = fc.get_person_id(name)\n",
    "    except:\n",
    "        return None\n",
    "    for index, row in peopledf.iterrows():\n",
    "        if index.timestamp() < start_date or index.timestamp() > end_date:\n",
    "            peopledf = peopledf.drop(index, axis=0)\n",
    "    availability_range = peopledf[person_id]\n",
    "    average_availability = statistics.mean(availability_range)\n",
    "    return round(average_availability, 2)\n",
    "        \n",
    "start_date = 1567296000.0\n",
    "end_date = 1612137600.0\n",
    "\n",
    "get_person_availability(\"Ed Chalstrey\", peopledf, start_date, end_date)"
   ]
  },
  {
   "cell_type": "code",
   "execution_count": 70,
   "metadata": {},
   "outputs": [],
   "source": [
    "resreqdf = fc.project_resourcereq.resample('MS').mean() # grouped by month and mean taken\n",
    "# resreqdf"
   ]
  },
  {
   "cell_type": "code",
   "execution_count": 129,
   "metadata": {},
   "outputs": [
    {
     "data": {
      "text/plain": [
       "'126'"
      ]
     },
     "execution_count": 129,
     "metadata": {},
     "output_type": "execute_result"
    }
   ],
   "source": [
    "fc.get_person_name(399979)\n",
    "fc.get_person_id(\"Ed Chalstrey\")\n",
    "fc.projects.loc[1684539, \"name\"] # issue name\n",
    "fc.projects.loc[1684539, \"GitHub\"] # issue num"
   ]
  },
  {
   "cell_type": "code",
   "execution_count": 42,
   "metadata": {},
   "outputs": [
    {
     "data": {
      "text/plain": [
       "array(['126', '122', '189', '153', '25', '158', '205', '270', '291', '306',\n",
       "       '96', '76', '118', '174', '311', '286', '199', '31', '115', '64',\n",
       "       '132', '46', '27', '106', '183', '50', '98', '190', '93', '243',\n",
       "       '266', '295', '231', '240', '244', '175', '232', '238', '289',\n",
       "       '230', '309', '308', '122', '317', '218', '234', '298', '238',\n",
       "       '297', '229', '233', '302', '265', '237', '59', '176', '301', '149',\n",
       "       '58', '134', '382', '217', '299', '239', '363', '360', '210', '359',\n",
       "       '379', '381', '34', '332', '293', '28', '378', '377', '383'], dtype=object)"
      ]
     },
     "execution_count": 42,
     "metadata": {},
     "output_type": "execute_result"
    }
   ],
   "source": [
    "issues = fc.projects[\"GitHub\"].dropna().values\n",
    "issues"
   ]
  },
  {
   "cell_type": "code",
   "execution_count": 43,
   "metadata": {},
   "outputs": [],
   "source": [
    "query = \"\"\"\n",
    "{\n",
    "  repository(owner:\"alan-turing-institute\", name:\"Hut23\") {\n",
    "    issue(number:X) {\n",
    "          number\n",
    "          title\n",
    "          url\n",
    "\n",
    "          reactionGroups {\n",
    "            content\n",
    "            users(first:20) {\n",
    "                edges {\n",
    "                    node {\n",
    "                        login\n",
    "                        name\n",
    "                    }\n",
    "                }\n",
    "            }\n",
    "            }\n",
    "    }\n",
    "  }\n",
    "}\n",
    "\"\"\""
   ]
  },
  {
   "cell_type": "code",
   "execution_count": 139,
   "metadata": {},
   "outputs": [],
   "source": [
    "def tabulate_emojis(query_result, names, gid_mapping):\n",
    "    data = [\n",
    "        [\"Person\"],\n",
    "        [\"Rating\"],\n",
    "        [\"Availability\"]\n",
    "    ]\n",
    "    def add_to_data(laugh=False):\n",
    "        for reaction in query_result['data']['repository']['issue']['reactionGroups']:\n",
    "            if (reaction['content'] == 'LAUGH' and laugh) or (reaction['content'] != 'LAUGH' and not laugh):\n",
    "                for edge in reaction['users']['edges']:\n",
    "                    if edge['node']['name'] in names:\n",
    "                        name = edge['node']['name']\n",
    "                    elif edge['node']['login'] in gid_mapping:\n",
    "                        name = gid_mapping[edge['node']['login']]\n",
    "                    else:\n",
    "                        name = edge['node']['login']\n",
    "                        \n",
    "                    data[0].append(name)\n",
    "\n",
    "                    data[1].append(emojis[reaction['content']])\n",
    "                    \n",
    "                    data[2].append(get_person_availability(name, peopledf, start_date, end_date))\n",
    "                \n",
    "    add_to_data(laugh=True)\n",
    "    add_to_data(laugh=False)\n",
    "\n",
    "    display(HTML(\n",
    "   '<table><tr>{}</tr></table>'.format(\n",
    "       '</tr><tr>'.join(\n",
    "           '<td>{}</td>'.format('</td><td>'.join(str(_) for _ in row)) for row in data)\n",
    "       )\n",
    "    ))\n"
   ]
  },
  {
   "cell_type": "code",
   "execution_count": 45,
   "metadata": {},
   "outputs": [],
   "source": [
    "def query_result_contains_emojis(query_result):\n",
    "    for reaction in query_result['data']['repository']['issue']['reactionGroups']:\n",
    "        if len(reaction['users']['edges']) > 0:\n",
    "            return True\n",
    "    return False"
   ]
  },
  {
   "cell_type": "code",
   "execution_count": 140,
   "metadata": {},
   "outputs": [
    {
     "name": "stdout",
     "output_type": "stream",
     "text": [
      "96 Living With Machines Start: 2018-06-01 End: 2022-03-31 1.0 FTE\n"
     ]
    },
    {
     "data": {
      "text/html": [
       "<table><tr><td>Person</td><td>Giovanni Colavizza</td><td>Miguel Morin</td><td>Jack Roberts</td><td>Sarah Gibson</td><td>Kasra Hosseini</td><td>Nick Barlow</td><td>Camila Rangel Smith</td><td>Evelina Gabasova</td><td>Timothy Hobson</td><td>Radka Jersakova</td><td>James Robinson</td><td>Louise Bowler</td><td>Oscar Giles</td><td>Tomas Lazauskas</td><td>May Yong</td><td>Jim Madge</td></tr><tr><td>Rating</td><td>✅</td><td>✅</td><td>✅</td><td>✅</td><td>✅</td><td>✔️</td><td>✔️</td><td>✔️</td><td>✔️</td><td>✔️</td><td>✔️</td><td>✔️</td><td>✔️</td><td>❌</td><td>❌</td><td>❌</td></tr><tr><td>Availability</td><td>1.0</td><td>1.0</td><td>0.5</td><td>0.44</td><td>0.67</td><td>0.31</td><td>0.19</td><td>0.61</td><td>0.61</td><td>0.11</td><td>0.44</td><td>0.53</td><td>0.11</td><td>0.42</td><td>0.25</td><td>0.33</td></tr></table>"
      ],
      "text/plain": [
       "<IPython.core.display.HTML object>"
      ]
     },
     "metadata": {},
     "output_type": "display_data"
    },
    {
     "name": "stdout",
     "output_type": "stream",
     "text": [
      "311 AIDA-Lloyds Start: 2017-04-01 End: 2019-12-31 0.4 FTE\n"
     ]
    },
    {
     "data": {
      "text/html": [
       "<table><tr><td>Person</td><td>Camila Rangel Smith</td><td>Evelina Gabasova</td><td>Sarah Gibson</td><td>Louise Bowler</td><td>Timothy Hobson</td><td>Giovanni Colavizza</td><td>James Robinson</td><td>Miguel Morin</td><td>Kasra Hosseini</td><td>Tomas Lazauskas</td><td>May Yong</td></tr><tr><td>Rating</td><td>✅</td><td>✔️</td><td>✔️</td><td>✔️</td><td>✔️</td><td>✔️</td><td>✔️</td><td>✔️</td><td>✔️</td><td>❌</td><td>❌</td></tr><tr><td>Availability</td><td>0.19</td><td>0.61</td><td>0.44</td><td>0.53</td><td>0.61</td><td>1.0</td><td>0.44</td><td>1.0</td><td>0.67</td><td>0.42</td><td>0.25</td></tr></table>"
      ],
      "text/plain": [
       "<IPython.core.display.HTML object>"
      ]
     },
     "metadata": {},
     "output_type": "display_data"
    },
    {
     "name": "stdout",
     "output_type": "stream",
     "text": [
      "183 Probabilistic FEM Start: 2018-12-03 End: 2020-02-29 0.5 FTE\n"
     ]
    },
    {
     "data": {
      "text/html": [
       "<table><tr><td>Person</td><td>James Hetherington</td><td>Timothy Hobson</td><td>Nick Barlow</td><td>Miguel Morin</td><td>Jack Roberts</td><td>Jim Madge</td><td>masonlr</td><td>May Yong</td><td>Evelina Gabasova</td><td>Camila Rangel Smith</td><td>Sarah Gibson</td><td>James Robinson</td><td>Tomas Lazauskas</td><td>Radka Jersakova</td><td>Louise Bowler</td><td>Oscar Giles</td><td>Kasra Hosseini</td></tr><tr><td>Rating</td><td>✅</td><td>✔️</td><td>✔️</td><td>✔️</td><td>✔️</td><td>✔️</td><td>✔️</td><td>❌</td><td>❌</td><td>❌</td><td>❌</td><td>❌</td><td>❌</td><td>❌</td><td>❌</td><td>❌</td><td>❌</td></tr><tr><td>Availability</td><td>0.9</td><td>0.61</td><td>0.31</td><td>1.0</td><td>0.5</td><td>0.33</td><td>None</td><td>0.25</td><td>0.61</td><td>0.19</td><td>0.44</td><td>0.44</td><td>0.42</td><td>0.11</td><td>0.53</td><td>0.11</td><td>0.67</td></tr></table>"
      ],
      "text/plain": [
       "<IPython.core.display.HTML object>"
      ]
     },
     "metadata": {},
     "output_type": "display_data"
    },
    {
     "name": "stdout",
     "output_type": "stream",
     "text": [
      "190 Safe Haven Start: 2018-11-01 End: 2021-03-31 1.0 FTE\n"
     ]
    },
    {
     "data": {
      "text/html": [
       "<table><tr><td>Person</td><td>Tomas Lazauskas</td><td>James Robinson</td><td>Kasra Hosseini</td></tr><tr><td>Rating</td><td>✔️</td><td>❌</td><td>❌</td></tr><tr><td>Availability</td><td>0.42</td><td>0.44</td><td>0.67</td></tr></table>"
      ],
      "text/plain": [
       "<IPython.core.display.HTML object>"
      ]
     },
     "metadata": {},
     "output_type": "display_data"
    },
    {
     "name": "stdout",
     "output_type": "stream",
     "text": [
      "231 UQM^3 Start: 2018-11-01 End: 2020-08-31 0.5 FTE\n"
     ]
    },
    {
     "data": {
      "text/html": [
       "<table><tr><td>Person</td><td>Tomas Lazauskas</td><td>Nick Barlow</td><td>Timothy Hobson</td><td>Oliver Strickson</td><td>Louise Bowler</td><td>Camila Rangel Smith</td><td>James Robinson</td><td>Jim Madge</td><td>Kasra Hosseini</td><td>May Yong</td><td>Evelina Gabasova</td><td>Radka Jersakova</td><td>Miguel Morin</td><td>Sarah Gibson</td><td>Giovanni Colavizza</td><td>Jack Roberts</td><td>Oscar Giles</td></tr><tr><td>Rating</td><td>✅</td><td>✅</td><td>✔️</td><td>✔️</td><td>✔️</td><td>✔️</td><td>✔️</td><td>✔️</td><td>✔️</td><td>❌</td><td>❌</td><td>❌</td><td>❌</td><td>❌</td><td>❌</td><td>❌</td><td>❌</td></tr><tr><td>Availability</td><td>0.42</td><td>0.31</td><td>0.61</td><td>0.44</td><td>0.53</td><td>0.19</td><td>0.44</td><td>0.33</td><td>0.67</td><td>0.25</td><td>0.61</td><td>0.11</td><td>1.0</td><td>0.44</td><td>1.0</td><td>0.5</td><td>0.11</td></tr></table>"
      ],
      "text/plain": [
       "<IPython.core.display.HTML object>"
      ]
     },
     "metadata": {},
     "output_type": "display_data"
    },
    {
     "name": "stdout",
     "output_type": "stream",
     "text": [
      "230 Auto DL Start: 2019-03-19 End: 2019-12-31 0.5 FTE\n"
     ]
    },
    {
     "data": {
      "text/html": [
       "<table><tr><td>Person</td><td>Tomas Lazauskas</td><td>Miguel Morin</td><td>James Robinson</td><td>Camila Rangel Smith</td><td>Giovanni Colavizza</td><td>Evelina Gabasova</td><td>Louise Bowler</td><td>Timothy Hobson</td><td>Radka Jersakova</td><td>Nick Barlow</td><td>Sarah Gibson</td><td>Jim Madge</td><td>Jack Roberts</td><td>Kasra Hosseini</td><td>Oscar Giles</td><td>Oliver Strickson</td><td>Roly Perera</td><td>May Yong</td><td>Eric Daub</td><td>Ed Chalstrey</td><td>Ashwini Venkatasubramaniam</td></tr><tr><td>Rating</td><td>✅</td><td>✅</td><td>✅</td><td>✅</td><td>✔️</td><td>✔️</td><td>✔️</td><td>✔️</td><td>✔️</td><td>✔️</td><td>✔️</td><td>✔️</td><td>✔️</td><td>✔️</td><td>✔️</td><td>❌</td><td>❌</td><td>❌</td><td>❌</td><td>❌</td><td>❌</td></tr><tr><td>Availability</td><td>0.42</td><td>1.0</td><td>0.44</td><td>0.19</td><td>1.0</td><td>0.61</td><td>0.53</td><td>0.61</td><td>0.11</td><td>0.31</td><td>0.44</td><td>0.33</td><td>0.5</td><td>0.67</td><td>0.11</td><td>0.44</td><td>0.56</td><td>0.25</td><td>0.44</td><td>0.39</td><td>0.31</td></tr></table>"
      ],
      "text/plain": [
       "<IPython.core.display.HTML object>"
      ]
     },
     "metadata": {},
     "output_type": "display_data"
    },
    {
     "name": "stdout",
     "output_type": "stream",
     "text": [
      "308 All in One Cancer imaging optimisation Start: 2019-09-01 End: 2021-08-31 1.0 FTE\n"
     ]
    },
    {
     "data": {
      "text/html": [
       "<table><tr><td>Person</td><td>Miguel Morin</td><td>Ed Chalstrey</td><td>May Yong</td><td>Oscar Giles</td><td>Camila Rangel Smith</td><td>Louise Bowler</td><td>Kasra Hosseini</td><td>Ashwini Venkatasubramaniam</td><td>Timothy Hobson</td><td>Sarah Gibson</td><td>Jack Roberts</td><td>Nick Barlow</td><td>Evelina Gabasova</td><td>Radka Jersakova</td><td>Tomas Lazauskas</td><td>Jim Madge</td><td>James Robinson</td><td>Roly Perera</td><td>Eric Daub</td></tr><tr><td>Rating</td><td>✅</td><td>✅</td><td>✅</td><td>✅</td><td>✔️</td><td>✔️</td><td>✔️</td><td>✔️</td><td>✔️</td><td>✔️</td><td>✔️</td><td>✔️</td><td>✔️</td><td>✔️</td><td>✔️</td><td>❌</td><td>❌</td><td>❌</td><td>❌</td></tr><tr><td>Availability</td><td>1.0</td><td>0.39</td><td>0.25</td><td>0.11</td><td>0.19</td><td>0.53</td><td>0.67</td><td>0.31</td><td>0.61</td><td>0.44</td><td>0.5</td><td>0.31</td><td>0.61</td><td>0.11</td><td>0.42</td><td>0.33</td><td>0.44</td><td>0.56</td><td>0.44</td></tr></table>"
      ],
      "text/plain": [
       "<IPython.core.display.HTML object>"
      ]
     },
     "metadata": {},
     "output_type": "display_data"
    },
    {
     "name": "stdout",
     "output_type": "stream",
     "text": [
      "317 Fusion modelling- IDEA Start: 2019-04-01 End: 2021-08-31 1.0 FTE\n"
     ]
    },
    {
     "data": {
      "text/html": [
       "<table><tr><td>Person</td><td>Nick Barlow</td><td>Tomas Lazauskas</td><td>Sarah Gibson</td><td>Evelina Gabasova</td><td>Giovanni Colavizza</td><td>Jim Madge</td><td>Oscar Giles</td><td>Kasra Hosseini</td></tr><tr><td>Rating</td><td>✔️</td><td>✔️</td><td>✔️</td><td>❌</td><td>❌</td><td>❌</td><td>❌</td><td>❌</td></tr><tr><td>Availability</td><td>0.31</td><td>0.42</td><td>0.44</td><td>0.61</td><td>1.0</td><td>0.33</td><td>0.11</td><td>0.67</td></tr></table>"
      ],
      "text/plain": [
       "<IPython.core.display.HTML object>"
      ]
     },
     "metadata": {},
     "output_type": "display_data"
    },
    {
     "name": "stdout",
     "output_type": "stream",
     "text": [
      "218 Uncertainty in Government Modelling Start: 2019-04-01 End: 2020-03-31 0.5 FTE\n"
     ]
    },
    {
     "data": {
      "text/html": [
       "<table><tr><td>Person</td><td>May Yong</td><td>Evelina Gabasova</td><td>Radka Jersakova</td><td>Camila Rangel Smith</td><td>James Robinson</td><td>Kasra Hosseini</td><td>Tomas Lazauskas</td><td>Timothy Hobson</td><td>Louise Bowler</td><td>Nick Barlow</td><td>Miguel Morin</td><td>Sarah Gibson</td><td>Giovanni Colavizza</td></tr><tr><td>Rating</td><td>✔️</td><td>✔️</td><td>✔️</td><td>✔️</td><td>✔️</td><td>✔️</td><td>❌</td><td>❌</td><td>❌</td><td>❌</td><td>❌</td><td>❌</td><td>❌</td></tr><tr><td>Availability</td><td>0.25</td><td>0.61</td><td>0.11</td><td>0.19</td><td>0.44</td><td>0.67</td><td>0.42</td><td>0.61</td><td>0.53</td><td>0.31</td><td>1.0</td><td>0.44</td><td>1.0</td></tr></table>"
      ],
      "text/plain": [
       "<IPython.core.display.HTML object>"
      ]
     },
     "metadata": {},
     "output_type": "display_data"
    },
    {
     "name": "stdout",
     "output_type": "stream",
     "text": [
      "234 Interpretable AI for health Start: 2019-10-01 End: 2019-12-31 1.0 FTE\n"
     ]
    },
    {
     "data": {
      "text/html": [
       "<table><tr><td>Person</td><td>May Yong</td><td>Ashwini Venkatasubramaniam</td><td>Oscar Giles</td><td>Evelina Gabasova</td><td>Louise Bowler</td><td>Radka Jersakova</td><td>Nick Barlow</td><td>Camila Rangel Smith</td><td>Sarah Gibson</td><td>James Robinson</td><td>Jim Madge</td><td>Ed Chalstrey</td><td>Jack Roberts</td><td>Kasra Hosseini</td><td>Tomas Lazauskas</td><td>Timothy Hobson</td><td>Oliver Strickson</td><td>Miguel Morin</td><td>Giovanni Colavizza</td><td>Roly Perera</td><td>Eric Daub</td></tr><tr><td>Rating</td><td>✅</td><td>✅</td><td>✅</td><td>✔️</td><td>✔️</td><td>✔️</td><td>✔️</td><td>✔️</td><td>✔️</td><td>✔️</td><td>✔️</td><td>✔️</td><td>✔️</td><td>✔️</td><td>✔️</td><td>❌</td><td>❌</td><td>❌</td><td>❌</td><td>❌</td><td>❌</td></tr><tr><td>Availability</td><td>0.25</td><td>0.31</td><td>0.11</td><td>0.61</td><td>0.53</td><td>0.11</td><td>0.31</td><td>0.19</td><td>0.44</td><td>0.44</td><td>0.33</td><td>0.39</td><td>0.5</td><td>0.67</td><td>0.42</td><td>0.61</td><td>0.44</td><td>1.0</td><td>1.0</td><td>0.56</td><td>0.44</td></tr></table>"
      ],
      "text/plain": [
       "<IPython.core.display.HTML object>"
      ]
     },
     "metadata": {},
     "output_type": "display_data"
    },
    {
     "name": "stdout",
     "output_type": "stream",
     "text": [
      "298 SPF Justice Start: 2019-04-01 End: 2022-03-31 1.0 FTE\n"
     ]
    },
    {
     "data": {
      "text/html": [
       "<table><tr><td>Person</td><td>Jack Roberts</td><td>Oscar Giles</td><td>Kasra Hosseini</td><td>Jim Madge</td></tr><tr><td>Rating</td><td>✅</td><td>✅</td><td>✅</td><td>❌</td></tr><tr><td>Availability</td><td>0.5</td><td>0.11</td><td>0.67</td><td>0.33</td></tr></table>"
      ],
      "text/plain": [
       "<IPython.core.display.HTML object>"
      ]
     },
     "metadata": {},
     "output_type": "display_data"
    },
    {
     "name": "stdout",
     "output_type": "stream",
     "text": [
      "229 Micro-location analytics Start: 2019-04-01 End: 2019-09-30 1.0 FTE\n"
     ]
    },
    {
     "data": {
      "text/html": [
       "<table><tr><td>Person</td><td>Camila Rangel Smith</td><td>Ed Chalstrey</td><td>Evelina Gabasova</td><td>Radka Jersakova</td><td>Nick Barlow</td><td>Sarah Gibson</td><td>James Robinson</td><td>Louise Bowler</td><td>Jack Roberts</td><td>Jim Madge</td><td>Oscar Giles</td><td>Ashwini Venkatasubramaniam</td><td>Tomas Lazauskas</td><td>May Yong</td><td>Timothy Hobson</td><td>Oliver Strickson</td><td>Miguel Morin</td><td>Giovanni Colavizza</td><td>Kasra Hosseini</td><td>Roly Perera</td><td>Eric Daub</td></tr><tr><td>Rating</td><td>✅</td><td>✅</td><td>✔️</td><td>✔️</td><td>✔️</td><td>✔️</td><td>✔️</td><td>✔️</td><td>✔️</td><td>✔️</td><td>✔️</td><td>✔️</td><td>✔️</td><td>❌</td><td>❌</td><td>❌</td><td>❌</td><td>❌</td><td>❌</td><td>❌</td><td>❌</td></tr><tr><td>Availability</td><td>0.19</td><td>0.39</td><td>0.61</td><td>0.11</td><td>0.31</td><td>0.44</td><td>0.44</td><td>0.53</td><td>0.5</td><td>0.33</td><td>0.11</td><td>0.31</td><td>0.42</td><td>0.25</td><td>0.61</td><td>0.44</td><td>1.0</td><td>1.0</td><td>0.67</td><td>0.56</td><td>0.44</td></tr></table>"
      ],
      "text/plain": [
       "<IPython.core.display.HTML object>"
      ]
     },
     "metadata": {},
     "output_type": "display_data"
    },
    {
     "name": "stdout",
     "output_type": "stream",
     "text": [
      "233 Machine learning for cancer Start: 2019-10-01 End: 2020-04-30 0.5 FTE\n"
     ]
    },
    {
     "data": {
      "text/html": [
       "<table><tr><td>Person</td><td>May Yong</td><td>Camila Rangel Smith</td><td>Ed Chalstrey</td><td>Ashwini Venkatasubramaniam</td><td>Louise Bowler</td><td>James Robinson</td><td>Jack Roberts</td><td>Nick Barlow</td><td>Evelina Gabasova</td><td>Kasra Hosseini</td><td>Oscar Giles</td><td>Timothy Hobson</td><td>Radka Jersakova</td><td>Oliver Strickson</td><td>Miguel Morin</td><td>Sarah Gibson</td><td>Giovanni Colavizza</td><td>Roly Perera</td><td>Jim Madge</td><td>Eric Daub</td><td>Ashwini Venkatasubramaniam</td><td>Tomas Lazauskas</td></tr><tr><td>Rating</td><td>✅</td><td>✅</td><td>✅</td><td>✅</td><td>✔️</td><td>✔️</td><td>✔️</td><td>✔️</td><td>✔️</td><td>✔️</td><td>✔️</td><td>❌</td><td>❌</td><td>❌</td><td>❌</td><td>❌</td><td>❌</td><td>❌</td><td>❌</td><td>❌</td><td>❌</td><td>❌</td></tr><tr><td>Availability</td><td>0.25</td><td>0.19</td><td>0.39</td><td>0.31</td><td>0.53</td><td>0.44</td><td>0.5</td><td>0.31</td><td>0.61</td><td>0.67</td><td>0.11</td><td>0.61</td><td>0.11</td><td>0.44</td><td>1.0</td><td>0.44</td><td>1.0</td><td>0.56</td><td>0.33</td><td>0.44</td><td>0.31</td><td>0.42</td></tr></table>"
      ],
      "text/plain": [
       "<IPython.core.display.HTML object>"
      ]
     },
     "metadata": {},
     "output_type": "display_data"
    },
    {
     "name": "stdout",
     "output_type": "stream",
     "text": [
      "237 Urban systems resilience Start: 2019-10-01 End: 2019-12-31 1.0 FTE\n"
     ]
    },
    {
     "data": {
      "text/html": [
       "<table><tr><td>Person</td><td>Nick Barlow</td><td>Evelina Gabasova</td><td>Louise Bowler</td><td>Timothy Hobson</td><td>Radka Jersakova</td><td>Camila Rangel Smith</td><td>Sarah Gibson</td><td>James Robinson</td><td>Eric Daub</td><td>Jack Roberts</td><td>Oscar Giles</td><td>Tomas Lazauskas</td><td>May Yong</td><td>Oliver Strickson</td><td>Miguel Morin</td><td>Giovanni Colavizza</td><td>Roly Perera</td><td>Jim Madge</td><td>Ed Chalstrey</td><td>Kasra Hosseini</td></tr><tr><td>Rating</td><td>✅</td><td>✔️</td><td>✔️</td><td>✔️</td><td>✔️</td><td>✔️</td><td>✔️</td><td>✔️</td><td>✔️</td><td>✔️</td><td>✔️</td><td>✔️</td><td>❌</td><td>❌</td><td>❌</td><td>❌</td><td>❌</td><td>❌</td><td>❌</td><td>❌</td></tr><tr><td>Availability</td><td>0.31</td><td>0.61</td><td>0.53</td><td>0.61</td><td>0.11</td><td>0.19</td><td>0.44</td><td>0.44</td><td>0.44</td><td>0.5</td><td>0.11</td><td>0.42</td><td>0.25</td><td>0.44</td><td>1.0</td><td>1.0</td><td>0.56</td><td>0.33</td><td>0.39</td><td>0.67</td></tr></table>"
      ],
      "text/plain": [
       "<IPython.core.display.HTML object>"
      ]
     },
     "metadata": {},
     "output_type": "display_data"
    },
    {
     "name": "stdout",
     "output_type": "stream",
     "text": [
      "382 NCSC Start: 2018-01-01 End: 2020-03-31 1.0 FTE\n",
      "NO EMOJIS FOUND\n",
      "217 Visualisation Start: 2019-06-01 End: 2019-11-30 1.0 FTE\n"
     ]
    },
    {
     "data": {
      "text/html": [
       "<table><tr><td>Person</td><td>May Yong</td><td>Oscar Giles</td><td>Evelina Gabasova</td><td>Louise Bowler</td><td>Radka Jersakova</td><td>Oliver Strickson</td><td>Nick Barlow</td><td>Miguel Morin</td><td>Sarah Gibson</td><td>James Robinson</td><td>Giovanni Colavizza</td><td>Kasra Hosseini</td><td>Roly Perera</td><td>Jim Madge</td><td>May Yong</td><td>Ed Chalstrey</td><td>Eric Daub</td><td>Jack Roberts</td><td>Ashwini Venkatasubramaniam</td><td>Tomas Lazauskas</td><td>Timothy Hobson</td></tr><tr><td>Rating</td><td>✔️</td><td>✔️</td><td>❌</td><td>❌</td><td>❌</td><td>❌</td><td>❌</td><td>❌</td><td>❌</td><td>❌</td><td>❌</td><td>❌</td><td>❌</td><td>❌</td><td>❌</td><td>❌</td><td>❌</td><td>❌</td><td>❌</td><td>❌</td><td>❌</td></tr><tr><td>Availability</td><td>0.25</td><td>0.11</td><td>0.61</td><td>0.53</td><td>0.11</td><td>0.44</td><td>0.31</td><td>1.0</td><td>0.44</td><td>0.44</td><td>1.0</td><td>0.67</td><td>0.56</td><td>0.33</td><td>0.25</td><td>0.39</td><td>0.44</td><td>0.5</td><td>0.31</td><td>0.42</td><td>0.61</td></tr></table>"
      ],
      "text/plain": [
       "<IPython.core.display.HTML object>"
      ]
     },
     "metadata": {},
     "output_type": "display_data"
    },
    {
     "name": "stdout",
     "output_type": "stream",
     "text": [
      "299 SPF TPS 2019+ Start: 2019-06-01 End: 2022-03-31 1.0 FTE\n",
      "NO EMOJIS FOUND\n",
      "239 Logics for DS Start: 2019-04-01 End: 2020-12-31 0.25 FTE\n"
     ]
    },
    {
     "data": {
      "text/html": [
       "<table><tr><td>Person</td><td>Evelina Gabasova</td><td>Radka Jersakova</td><td>Camila Rangel Smith</td><td>Giovanni Colavizza</td><td>Oscar Giles</td><td>Kasra Hosseini</td><td>Roly Perera</td><td>Tomas Lazauskas</td><td>Nick Barlow</td><td>Louise Bowler</td><td>Timothy Hobson</td><td>Oliver Strickson</td><td>Miguel Morin</td><td>Sarah Gibson</td><td>Jim Madge</td><td>James Robinson</td><td>May Yong</td><td>Ed Chalstrey</td><td>Eric Daub</td><td>Jack Roberts</td><td>Ashwini Venkatasubramaniam</td><td>Oscar Giles</td></tr><tr><td>Rating</td><td>✔️</td><td>✔️</td><td>✔️</td><td>✔️</td><td>✔️</td><td>✔️</td><td>✔️</td><td>❌</td><td>❌</td><td>❌</td><td>❌</td><td>❌</td><td>❌</td><td>❌</td><td>❌</td><td>❌</td><td>❌</td><td>❌</td><td>❌</td><td>❌</td><td>❌</td><td>❌</td></tr><tr><td>Availability</td><td>0.61</td><td>0.11</td><td>0.19</td><td>1.0</td><td>0.11</td><td>0.67</td><td>0.56</td><td>0.42</td><td>0.31</td><td>0.53</td><td>0.61</td><td>0.44</td><td>1.0</td><td>0.44</td><td>0.33</td><td>0.44</td><td>0.25</td><td>0.39</td><td>0.44</td><td>0.5</td><td>0.31</td><td>0.11</td></tr></table>"
      ],
      "text/plain": [
       "<IPython.core.display.HTML object>"
      ]
     },
     "metadata": {},
     "output_type": "display_data"
    },
    {
     "name": "stdout",
     "output_type": "stream",
     "text": [
      "363 Medevac Decision Support Start: 2019-09-01 End: 2020-02-29 1.0 FTE\n"
     ]
    },
    {
     "data": {
      "text/html": [
       "<table><tr><td>Person</td><td>Jack Roberts</td><td>Louise Bowler</td><td>James Robinson</td><td>Ashwini Venkatasubramaniam</td><td>Miguel Morin</td><td>Jim Madge</td><td>Camila Rangel Smith</td><td>Timothy Hobson</td><td>Ed Chalstrey</td><td>Tomas Lazauskas</td><td>Sarah Gibson</td></tr><tr><td>Rating</td><td>✅</td><td>✔️</td><td>✔️</td><td>✔️</td><td>✔️</td><td>❌</td><td>❌</td><td>❌</td><td>❌</td><td>❌</td><td>❌</td></tr><tr><td>Availability</td><td>0.5</td><td>0.53</td><td>0.44</td><td>0.31</td><td>1.0</td><td>0.33</td><td>0.19</td><td>0.61</td><td>0.39</td><td>0.42</td><td>0.44</td></tr></table>"
      ],
      "text/plain": [
       "<IPython.core.display.HTML object>"
      ]
     },
     "metadata": {},
     "output_type": "display_data"
    },
    {
     "name": "stdout",
     "output_type": "stream",
     "text": [
      "360 NHS Medication Safety Start: 2019-05-01 End: 2019-11-30 0.5 FTE\n"
     ]
    },
    {
     "data": {
      "text/html": [
       "<table><tr><td>Person</td><td>Louise Bowler</td><td>Jack Roberts</td><td>Camila Rangel Smith</td><td>Ashwini Venkatasubramaniam</td><td>Miguel Morin</td><td>Oscar Giles</td><td>Timothy Hobson</td><td>James Robinson</td><td>Ed Chalstrey</td><td>Sarah Gibson</td><td>Evelina Gabasova</td><td>James Geddes</td><td>Radka Jersakova</td><td>Jim Madge</td><td>Tomas Lazauskas</td><td>Roly Perera</td><td>Eric Daub</td><td>Nick Barlow</td><td>Kasra Hosseini</td></tr><tr><td>Rating</td><td>✅</td><td>✅</td><td>✅</td><td>✅</td><td>✅</td><td>✅</td><td>✔️</td><td>✔️</td><td>✔️</td><td>✔️</td><td>✔️</td><td>✔️</td><td>✔️</td><td>❌</td><td>❌</td><td>❌</td><td>❌</td><td>❌</td><td>❌</td></tr><tr><td>Availability</td><td>0.53</td><td>0.5</td><td>0.19</td><td>0.31</td><td>1.0</td><td>0.11</td><td>0.61</td><td>0.44</td><td>0.39</td><td>0.44</td><td>0.61</td><td>1.0</td><td>0.11</td><td>0.33</td><td>0.42</td><td>0.56</td><td>0.44</td><td>0.31</td><td>0.67</td></tr></table>"
      ],
      "text/plain": [
       "<IPython.core.display.HTML object>"
      ]
     },
     "metadata": {},
     "output_type": "display_data"
    },
    {
     "name": "stdout",
     "output_type": "stream",
     "text": [
      "210 UCLH Cancer Waiting Times Start: 2019-09-01 End: 2020-02-29 1.0 FTE\n",
      "NO EMOJIS FOUND\n",
      "359 NHS Scotland Cancer Waiting Times Start: 2020-01-01 End: 2020-06-30 1.0 FTE\n",
      "NO EMOJIS FOUND\n",
      "379 DFTG Commons scoping Start: 2019-09-01 End: 2019-12-31 1.0 FTE\n"
     ]
    },
    {
     "data": {
      "text/html": [
       "<table><tr><td>Person</td><td>Ed Chalstrey</td><td>Eric Daub</td><td>Timothy Hobson</td><td>James Robinson</td><td>Louise Bowler</td><td>Roly Perera</td><td>Jim Madge</td><td>Camila Rangel Smith</td><td>May Yong</td><td>Jack Roberts</td><td>Nick Barlow</td><td>Evelina Gabasova</td><td>Ashwini Venkatasubramaniam</td><td>Kasra Hosseini</td><td>Oscar Giles</td><td>Tomas Lazauskas</td><td>Miguel Morin</td><td>Radka Jersakova</td></tr><tr><td>Rating</td><td>✔️</td><td>✔️</td><td>✔️</td><td>❌</td><td>❌</td><td>❌</td><td>❌</td><td>❌</td><td>❌</td><td>❌</td><td>❌</td><td>❌</td><td>❌</td><td>❌</td><td>❌</td><td>❌</td><td>❌</td><td>❌</td></tr><tr><td>Availability</td><td>0.39</td><td>0.44</td><td>0.61</td><td>0.44</td><td>0.53</td><td>0.56</td><td>0.33</td><td>0.19</td><td>0.25</td><td>0.5</td><td>0.31</td><td>0.61</td><td>0.31</td><td>0.67</td><td>0.11</td><td>0.42</td><td>1.0</td><td>0.11</td></tr></table>"
      ],
      "text/plain": [
       "<IPython.core.display.HTML object>"
      ]
     },
     "metadata": {},
     "output_type": "display_data"
    },
    {
     "name": "stdout",
     "output_type": "stream",
     "text": [
      "381 DFTG Commons WP 3.4/3.5 Start: 2020-04-01 End: 2021-03-31 2.0 FTE\n"
     ]
    },
    {
     "data": {
      "text/html": [
       "<table><tr><td>Person</td><td>Eric Daub</td><td>Timothy Hobson</td><td>James Robinson</td><td>Louise Bowler</td><td>Roly Perera</td><td>Camila Rangel Smith</td><td>Jim Madge</td><td>May Yong</td><td>Jack Roberts</td><td>Nick Barlow</td><td>Evelina Gabasova</td><td>Ashwini Venkatasubramaniam</td><td>Kasra Hosseini</td><td>Oscar Giles</td><td>Tomas Lazauskas</td><td>Miguel Morin</td><td>Radka Jersakova</td></tr><tr><td>Rating</td><td>✔️</td><td>✔️</td><td>❌</td><td>❌</td><td>❌</td><td>❌</td><td>❌</td><td>❌</td><td>❌</td><td>❌</td><td>❌</td><td>❌</td><td>❌</td><td>❌</td><td>❌</td><td>❌</td><td>❌</td></tr><tr><td>Availability</td><td>0.44</td><td>0.61</td><td>0.44</td><td>0.53</td><td>0.56</td><td>0.19</td><td>0.33</td><td>0.25</td><td>0.5</td><td>0.31</td><td>0.61</td><td>0.31</td><td>0.67</td><td>0.11</td><td>0.42</td><td>1.0</td><td>0.11</td></tr></table>"
      ],
      "text/plain": [
       "<IPython.core.display.HTML object>"
      ]
     },
     "metadata": {},
     "output_type": "display_data"
    },
    {
     "name": "stdout",
     "output_type": "stream",
     "text": [
      "34 CHANCE Start: 2019-06-01 End: 2020-05-31 0.5 FTE\n"
     ]
    },
    {
     "data": {
      "text/html": [
       "<table><tr><td>Person</td><td>Ed Chalstrey</td><td>Sarah Gibson</td><td>James Robinson</td><td>Louise Bowler</td><td>Jim Madge</td><td>Eric Daub</td><td>Jack Roberts</td><td>Nick Barlow</td><td>Evelina Gabasova</td><td>Oscar Giles</td><td>Radka Jersakova</td><td>Roly Perera</td><td>May Yong</td><td>Ashwini Venkatasubramaniam</td><td>Kasra Hosseini</td><td>Miguel Morin</td><td>Timothy Hobson</td></tr><tr><td>Rating</td><td>✅</td><td>✔️</td><td>✔️</td><td>✔️</td><td>✔️</td><td>✔️</td><td>✔️</td><td>✔️</td><td>✔️</td><td>✔️</td><td>✔️</td><td>❌</td><td>❌</td><td>❌</td><td>❌</td><td>❌</td><td>❌</td></tr><tr><td>Availability</td><td>0.39</td><td>0.44</td><td>0.44</td><td>0.53</td><td>0.33</td><td>0.44</td><td>0.5</td><td>0.31</td><td>0.61</td><td>0.11</td><td>0.11</td><td>0.56</td><td>0.25</td><td>0.31</td><td>0.67</td><td>1.0</td><td>0.61</td></tr></table>"
      ],
      "text/plain": [
       "<IPython.core.display.HTML object>"
      ]
     },
     "metadata": {},
     "output_type": "display_data"
    },
    {
     "name": "stdout",
     "output_type": "stream",
     "text": [
      "332 Scaleable Monte Carlo Start: 2020-10-01 End: 2021-09-30 1.0 FTE\n"
     ]
    },
    {
     "data": {
      "text/html": [
       "<table><tr><td>Person</td><td>James Robinson</td><td>Nick Barlow</td><td>Louise Bowler</td><td>Jim Madge</td><td>Eric Daub</td><td>Ed Chalstrey</td><td>James Geddes</td><td>Oscar Giles</td><td>Miguel Morin</td><td>Tomas Lazauskas</td><td>Timothy Hobson</td><td>May Yong</td><td>Sarah Gibson</td><td>Roly Perera</td><td>Camila Rangel Smith</td><td>Evelina Gabasova</td><td>Kasra Hosseini</td><td>Ashwini Venkatasubramaniam</td><td>Radka Jersakova</td></tr><tr><td>Rating</td><td>✅</td><td>✅</td><td>✔️</td><td>✔️</td><td>✔️</td><td>✔️</td><td>✔️</td><td>✔️</td><td>✔️</td><td>✔️</td><td>✔️</td><td>❌</td><td>❌</td><td>❌</td><td>❌</td><td>❌</td><td>❌</td><td>❌</td><td>❌</td></tr><tr><td>Availability</td><td>0.44</td><td>0.31</td><td>0.53</td><td>0.33</td><td>0.44</td><td>0.39</td><td>1.0</td><td>0.11</td><td>1.0</td><td>0.42</td><td>0.61</td><td>0.25</td><td>0.44</td><td>0.56</td><td>0.19</td><td>0.61</td><td>0.67</td><td>0.31</td><td>0.11</td></tr></table>"
      ],
      "text/plain": [
       "<IPython.core.display.HTML object>"
      ]
     },
     "metadata": {},
     "output_type": "display_data"
    },
    {
     "name": "stdout",
     "output_type": "stream",
     "text": [
      "293 Wrattler 2019-2020 Start: 2019-04-01 End: 2020-03-31 1.0 FTE\n"
     ]
    },
    {
     "data": {
      "text/html": [
       "<table><tr><td>Person</td><td>Sarah Gibson</td></tr><tr><td>Rating</td><td>✅</td></tr><tr><td>Availability</td><td>0.44</td></tr></table>"
      ],
      "text/plain": [
       "<IPython.core.display.HTML object>"
      ]
     },
     "metadata": {},
     "output_type": "display_data"
    }
   ],
   "source": [
    "issues_with_resreq = []\n",
    "for project_id in resreqdf:\n",
    "    for resreq in resreqdf[project_id]:\n",
    "        if resreq > 0:  # if at least one month in the dataframe has a resource requirement of more than 0 FTE\n",
    "            issue_num = fc.projects.loc[project_id, \"GitHub\"]\n",
    "            if issue_num in issues:\n",
    "                issues_with_resreq.append(issue_num)\n",
    "                print(issue_num, fc.projects.loc[project_id, \"name\"],\n",
    "                      \"Start:\", fc.projects.loc[project_id, \"start_date\"],\n",
    "                      \"End:\", fc.projects.loc[project_id, \"end_date\"], \n",
    "                      round(resreq, 3), \"FTE\")\n",
    "                \n",
    "                modified_query = query.replace(\"X\", str(issue_num))\n",
    "                result = run_query(modified_query)  # Execute the query\n",
    "                if query_result_contains_emojis(result):  # Currently only displaying those with at least 1 emoji\n",
    "                    tabulate_emojis(result, names, gid_mapping)\n",
    "                else:\n",
    "                    print(\"NO EMOJIS FOUND\")\n",
    "            break"
   ]
  }
 ],
 "metadata": {
  "kernelspec": {
   "display_name": "Python 3",
   "language": "python",
   "name": "python3"
  },
  "language_info": {
   "codemirror_mode": {
    "name": "ipython",
    "version": 3
   },
   "file_extension": ".py",
   "mimetype": "text/x-python",
   "name": "python",
   "nbconvert_exporter": "python",
   "pygments_lexer": "ipython3",
   "version": "3.6.8"
  }
 },
 "nbformat": 4,
 "nbformat_minor": 2
}
