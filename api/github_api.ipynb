{
 "cells": [
  {
   "cell_type": "code",
   "execution_count": 110,
   "metadata": {},
   "outputs": [],
   "source": [
    "import requests\n",
    "import json\n",
    "from IPython.display import HTML, display"
   ]
  },
  {
   "cell_type": "code",
   "execution_count": 111,
   "metadata": {},
   "outputs": [],
   "source": [
    "with open('github.token', 'r') as f:\n",
    "    token = f.read().strip()\n",
    "\n",
    "headers = {\"Authorization\": \"Bearer \" + token}\n",
    "\n",
    "\n",
    "def run_query(query):  # A simple function to use requests.post to make the API call. Note the json= section.\n",
    "    request = requests.post('https://api.github.com/graphql', json={'query': query}, headers=headers)\n",
    "    if request.status_code == 200:\n",
    "        return request.json()\n",
    "    else:\n",
    "        raise Exception(\"Query failed to run by returning code of {}. {}\".format(request.status_code, query))\n"
   ]
  },
  {
   "cell_type": "code",
   "execution_count": 112,
   "metadata": {},
   "outputs": [],
   "source": [
    "emojis = {'CONFUSED': '😕',\n",
    "          'EYES': '👀',\n",
    "          'HEART': '❤️',\n",
    "          'HOORAY': '🎉',    \n",
    "          'ROCKET': '🚀',\n",
    "          'THUMBS_DOWN': '👎',\n",
    "          'THUMBS_UP': '👍',\n",
    "          'LAUGH': '😄'}"
   ]
  },
  {
   "cell_type": "code",
   "execution_count": 113,
   "metadata": {},
   "outputs": [],
   "source": [
    "issues = [126, 122, 189, 153, 25, 158, 205, 270, 291,\n",
    "      306, 96, 76, 118, 174, 311, 286, 199, 31, 115,\n",
    "      64, 132, 46, 27, 106, 183, 50, 98, 190, 93,\n",
    "      243, 266, 295, 231, 240, 244, 175, 232, 238,\n",
    "      289, 230, 309, 308, 317, 218, 234, 298, 297,\n",
    "      229, 233, 302, 265, 237, 59, 176, 301, 149, 58,\n",
    "      134, 382, 217, 299, 239, 363, 360, 210, 359,\n",
    "      379, 381, 34, 332, 293, 28, 378, 377, 383]"
   ]
  },
  {
   "cell_type": "code",
   "execution_count": 114,
   "metadata": {},
   "outputs": [],
   "source": [
    "query = \"\"\"\n",
    "{\n",
    "  repository(owner:\"alan-turing-institute\", name:\"Hut23\") {\n",
    "    issue(number:X) {\n",
    "          number\n",
    "          title\n",
    "          url\n",
    "\n",
    "          reactionGroups {\n",
    "            content\n",
    "            users(first:20) {\n",
    "                edges {\n",
    "                    node {\n",
    "                        login\n",
    "                        name\n",
    "                    }\n",
    "                }\n",
    "            }\n",
    "            }\n",
    "    }\n",
    "  }\n",
    "}\n",
    "\"\"\""
   ]
  },
  {
   "cell_type": "code",
   "execution_count": 117,
   "metadata": {},
   "outputs": [
    {
     "data": {
      "text/plain": [
       "'Clean air project (Theo Damoulas)'"
      ]
     },
     "execution_count": 117,
     "metadata": {},
     "output_type": "execute_result"
    }
   ],
   "source": [
    "result = run_query(query.replace(\"X\", \"174\"))\n",
    "result['data']['repository']['issue']['title']"
   ]
  },
  {
   "cell_type": "code",
   "execution_count": 121,
   "metadata": {},
   "outputs": [],
   "source": [
    "def format_emoji_data(query_result):\n",
    "    df = dict()\n",
    "    for reaction in result['data']['repository']['issue']['reactionGroups']:\n",
    "        df[emojis[reaction['content']]] = [x['node']['login'] for x in reaction['users']['edges']]\n",
    "    data = [\n",
    "        [\"Person\"],\n",
    "        [\"Rating\"]]\n",
    "    for emoji, github_ids in df.items():\n",
    "        for gid in github_ids:\n",
    "            data[0].append(gid)\n",
    "            data[1].append(emoji)\n",
    "    return {\"title\": result['data']['repository']['issue']['title'], \"data\": data}\n",
    "\n",
    "def tabulate_emojis(query_result):\n",
    "    data = format_emoji_data(query_result)\n",
    "    print(data[\"title\"])\n",
    "    display(HTML(\n",
    "   '<table><tr>{}</tr></table>'.format(\n",
    "       '</tr><tr>'.join(\n",
    "           '<td>{}</td>'.format('</td><td>'.join(str(_) for _ in row)) for row in data[\"data\"])\n",
    "       )\n",
    "    ))\n"
   ]
  },
  {
   "cell_type": "markdown",
   "metadata": {},
   "source": [
    "**TODO**\n",
    "1. Have queries that work for the other issues not currently working for\n",
    "2. Save the real names preferably rather than github id\n",
    "2. Think of best ways to save the output, this simple table? csv? Eventually will go in main Wimbledon planner\n",
    "3. Incorporate the issues list from github directly\n",
    "4. Think about how to filter by availability"
   ]
  },
  {
   "cell_type": "code",
   "execution_count": 122,
   "metadata": {},
   "outputs": [
    {
     "name": "stdout",
     "output_type": "stream",
     "text": [
      "SARGASSO - Intel graph analytics\n"
     ]
    },
    {
     "data": {
      "text/html": [
       "<table><tr><td>Person</td></tr><tr><td>Rating</td></tr></table>"
      ],
      "text/plain": [
       "<IPython.core.display.HTML object>"
      ]
     },
     "metadata": {},
     "output_type": "display_data"
    },
    {
     "name": "stdout",
     "output_type": "stream",
     "text": [
      "CT screen dead pixel detection seed project (Wilfrid Kendall)\n"
     ]
    },
    {
     "data": {
      "text/html": [
       "<table><tr><td>Person</td></tr><tr><td>Rating</td></tr></table>"
      ],
      "text/plain": [
       "<IPython.core.display.HTML object>"
      ]
     },
     "metadata": {},
     "output_type": "display_data"
    },
    {
     "name": "stdout",
     "output_type": "stream",
     "text": [
      "Ganna Pogrebna - economic data science\n"
     ]
    },
    {
     "data": {
      "text/html": [
       "<table><tr><td>Person</td></tr><tr><td>Rating</td></tr></table>"
      ],
      "text/plain": [
       "<IPython.core.display.HTML object>"
      ]
     },
     "metadata": {},
     "output_type": "display_data"
    },
    {
     "name": "stdout",
     "output_type": "stream",
     "text": [
      "Toyota Mobility Foundation: AI for city planning\n"
     ]
    },
    {
     "data": {
      "text/html": [
       "<table><tr><td>Person</td></tr><tr><td>Rating</td></tr></table>"
      ],
      "text/plain": [
       "<IPython.core.display.HTML object>"
      ]
     },
     "metadata": {},
     "output_type": "display_data"
    },
    {
     "name": "stdout",
     "output_type": "stream",
     "text": [
      "Reproducible Research (Kirstie Whitaker)\n"
     ]
    },
    {
     "data": {
      "text/html": [
       "<table><tr><td>Person</td></tr><tr><td>Rating</td></tr></table>"
      ],
      "text/plain": [
       "<IPython.core.display.HTML object>"
      ]
     },
     "metadata": {},
     "output_type": "display_data"
    },
    {
     "name": "stdout",
     "output_type": "stream",
     "text": [
      "PDQ GUI (Efi Tsamoura)\n"
     ]
    },
    {
     "data": {
      "text/html": [
       "<table><tr><td>Person</td></tr><tr><td>Rating</td></tr></table>"
      ],
      "text/plain": [
       "<IPython.core.display.HTML object>"
      ]
     },
     "metadata": {},
     "output_type": "display_data"
    },
    {
     "name": "stdout",
     "output_type": "stream",
     "text": [
      "Crypto-Friendly Models for Faster Encrypted Prediction - Adria Gascon\n"
     ]
    },
    {
     "data": {
      "text/html": [
       "<table><tr><td>Person</td><td>cathiest</td></tr><tr><td>Rating</td><td>👍</td></tr></table>"
      ],
      "text/plain": [
       "<IPython.core.display.HTML object>"
      ]
     },
     "metadata": {},
     "output_type": "display_data"
    },
    {
     "name": "stdout",
     "output_type": "stream",
     "text": [
      "The Turing Way - reproducible research practice guide - Phase 1\n"
     ]
    },
    {
     "data": {
      "text/html": [
       "<table><tr><td>Person</td><td>Giovanni1085</td><td>crangelsmith</td><td>radka-j</td><td>sgibson91</td><td>myyong</td><td>ots22</td><td>tomaslaz</td><td>nbarlowATI</td><td>thobson88</td><td>miguelmorin</td><td>jemrobinson</td><td>kasra-hosseini</td><td>LouiseABowler</td><td>evelinag</td></tr><tr><td>Rating</td><td>👍</td><td>👍</td><td>👍</td><td>👍</td><td>👎</td><td>👎</td><td>👎</td><td>👎</td><td>👎</td><td>👎</td><td>👎</td><td>👎</td><td>😄</td><td>😄</td></tr></table>"
      ],
      "text/plain": [
       "<IPython.core.display.HTML object>"
      ]
     },
     "metadata": {},
     "output_type": "display_data"
    },
    {
     "name": "stdout",
     "output_type": "stream",
     "text": [
      "Biobank algorithm - Classify Fitbit data with parallel TensorFlow \n"
     ]
    },
    {
     "data": {
      "text/html": [
       "<table><tr><td>Person</td><td>tomaslaz</td><td>crangelsmith</td><td>nbarlowATI</td><td>sgibson91</td><td>miguelmorin</td><td>evelinag</td><td>radka-j</td><td>thobson88</td><td>LouiseABowler</td><td>Giovanni1085</td><td>jemrobinson</td><td>kasra-hosseini</td></tr><tr><td>Rating</td><td>👍</td><td>👍</td><td>👍</td><td>👍</td><td>👍</td><td>👍</td><td>👎</td><td>👎</td><td>👎</td><td>👎</td><td>👎</td><td>👎</td></tr></table>"
      ],
      "text/plain": [
       "<IPython.core.display.HTML object>"
      ]
     },
     "metadata": {},
     "output_type": "display_data"
    },
    {
     "name": "stdout",
     "output_type": "stream",
     "text": [
      "Posterior Bootstrap - Scaleable approach to Bayesian non parametric learning\n"
     ]
    },
    {
     "data": {
      "text/html": [
       "<table><tr><td>Person</td><td>thobson88</td><td>evelinag</td><td>sgibson91</td><td>miguelmorin</td><td>radka-j</td><td>tomaslaz</td><td>crangelsmith</td><td>LouiseABowler</td><td>nbarlowATI</td><td>Giovanni1085</td><td>jemrobinson</td><td>kasra-hosseini</td></tr><tr><td>Rating</td><td>👍</td><td>👍</td><td>👍</td><td>👍</td><td>👎</td><td>👎</td><td>👎</td><td>👎</td><td>👎</td><td>👎</td><td>👎</td><td>👎</td></tr></table>"
      ],
      "text/plain": [
       "<IPython.core.display.HTML object>"
      ]
     },
     "metadata": {},
     "output_type": "display_data"
    },
    {
     "name": "stdout",
     "output_type": "stream",
     "text": [
      "Living with Machines - BL project\n"
     ]
    },
    {
     "data": {
      "text/html": [
       "<table><tr><td>Person</td><td>nbarlowATI</td><td>crangelsmith</td><td>evelinag</td><td>thobson88</td><td>radka-j</td><td>jemrobinson</td><td>LouiseABowler</td><td>OscartGiles</td><td>tomaslaz</td><td>myyong</td><td>JimMadge</td><td>Giovanni1085</td><td>miguelmorin</td><td>jack89roberts</td><td>sgibson91</td><td>kasra-hosseini</td></tr><tr><td>Rating</td><td>👍</td><td>👍</td><td>👍</td><td>👍</td><td>👍</td><td>👍</td><td>👍</td><td>👍</td><td>👎</td><td>👎</td><td>👎</td><td>😄</td><td>😄</td><td>😄</td><td>😄</td><td>😄</td></tr></table>"
      ],
      "text/plain": [
       "<IPython.core.display.HTML object>"
      ]
     },
     "metadata": {},
     "output_type": "display_data"
    },
    {
     "name": "stdout",
     "output_type": "stream",
     "text": [
      "British Airways (commercial, not TIL)\n"
     ]
    },
    {
     "data": {
      "text/html": [
       "<table><tr><td>Person</td></tr><tr><td>Rating</td></tr></table>"
      ],
      "text/plain": [
       "<IPython.core.display.HTML object>"
      ]
     },
     "metadata": {},
     "output_type": "display_data"
    },
    {
     "name": "stdout",
     "output_type": "stream",
     "text": [
      "GUARD: Global Urban Analytics for Resilient Defence\n"
     ]
    },
    {
     "data": {
      "text/html": [
       "<table><tr><td>Person</td><td>nbarlowATI</td><td>Giovanni1085</td><td>radka-j</td><td>sgibson91</td><td>jemrobinson</td><td>thobson88</td><td>myyong</td><td>tomaslaz</td><td>miguelmorin</td><td>evelinag</td><td>crangelsmith</td><td>kasra-hosseini</td></tr><tr><td>Rating</td><td>👍</td><td>👍</td><td>👍</td><td>👍</td><td>👍</td><td>👍</td><td>👎</td><td>👎</td><td>👎</td><td>😄</td><td>😄</td><td>😄</td></tr></table>"
      ],
      "text/plain": [
       "<IPython.core.display.HTML object>"
      ]
     },
     "metadata": {},
     "output_type": "display_data"
    },
    {
     "name": "stdout",
     "output_type": "stream",
     "text": [
      "Clean air project (Theo Damoulas)\n"
     ]
    },
    {
     "data": {
      "text/html": [
       "<table><tr><td>Person</td><td>tomaslaz</td><td>thobson88</td><td>nbarlowATI</td><td>JimMadge</td><td>sgibson91</td><td>Giovanni1085</td><td>myyong</td><td>jemrobinson</td><td>evelinag</td><td>LouiseABowler</td><td>crangelsmith</td><td>miguelmorin</td><td>jack89roberts</td><td>OscartGiles</td><td>kasra-hosseini</td></tr><tr><td>Rating</td><td>👍</td><td>👍</td><td>👍</td><td>👍</td><td>👍</td><td>👎</td><td>👎</td><td>😄</td><td>😄</td><td>😄</td><td>😄</td><td>😄</td><td>😄</td><td>😄</td><td>😄</td></tr></table>"
      ],
      "text/plain": [
       "<IPython.core.display.HTML object>"
      ]
     },
     "metadata": {},
     "output_type": "display_data"
    },
    {
     "name": "stdout",
     "output_type": "stream",
     "text": [
      "AIDA/Lloyds\n"
     ]
    },
    {
     "data": {
      "text/html": [
       "<table><tr><td>Person</td><td>evelinag</td><td>sgibson91</td><td>LouiseABowler</td><td>thobson88</td><td>Giovanni1085</td><td>jemrobinson</td><td>miguelmorin</td><td>kasra-hosseini</td><td>tomaslaz</td><td>myyong</td><td>crangelsmith</td></tr><tr><td>Rating</td><td>👍</td><td>👍</td><td>👍</td><td>👍</td><td>👍</td><td>👍</td><td>👍</td><td>👍</td><td>👎</td><td>👎</td><td>😄</td></tr></table>"
      ],
      "text/plain": [
       "<IPython.core.display.HTML object>"
      ]
     },
     "metadata": {},
     "output_type": "display_data"
    },
    {
     "name": "stdout",
     "output_type": "stream",
     "text": [
      "Benchmarking Framework for Data Science algorithms - Anthony Lee\n"
     ]
    },
    {
     "data": {
      "text/html": [
       "<table><tr><td>Person</td><td>thobson88</td><td>sgibson91</td><td>jemrobinson</td><td>myyong</td><td>radka-j</td><td>LouiseABowler</td><td>miguelmorin</td><td>evelinag</td><td>crangelsmith</td><td>OscartGiles</td><td>tomaslaz</td></tr><tr><td>Rating</td><td>👍</td><td>👍</td><td>👍</td><td>👎</td><td>👎</td><td>👎</td><td>👎</td><td>👎</td><td>👎</td><td>👎</td><td>😄</td></tr></table>"
      ],
      "text/plain": [
       "<IPython.core.display.HTML object>"
      ]
     },
     "metadata": {},
     "output_type": "display_data"
    },
    {
     "name": "stdout",
     "output_type": "stream",
     "text": [
      " Performance Tuning with Structured Bayesian Optimisation and Reinforcement Learning (Eiko Yoneki seed project)\n"
     ]
    },
    {
     "data": {
      "text/html": [
       "<table><tr><td>Person</td><td>miguelmorin</td><td>jemrobinson</td><td>myyong</td><td>radka-j</td><td>ots22</td><td>nbarlowATI</td><td>crangelsmith</td><td>LouiseABowler</td><td>evelinag</td><td>thobson88</td><td>tomaslaz</td></tr><tr><td>Rating</td><td>👍</td><td>👍</td><td>👎</td><td>👎</td><td>👎</td><td>👎</td><td>👎</td><td>👎</td><td>👎</td><td>👎</td><td>😄</td></tr></table>"
      ],
      "text/plain": [
       "<IPython.core.display.HTML object>"
      ]
     },
     "metadata": {},
     "output_type": "display_data"
    },
    {
     "name": "stdout",
     "output_type": "stream",
     "text": [
      "Maru\n"
     ]
    },
    {
     "data": {
      "text/html": [
       "<table><tr><td>Person</td></tr><tr><td>Rating</td></tr></table>"
      ],
      "text/plain": [
       "<IPython.core.display.HTML object>"
      ]
     },
     "metadata": {},
     "output_type": "display_data"
    },
    {
     "name": "stdout",
     "output_type": "stream",
     "text": [
      "NATS - Air Traffic Control \n"
     ]
    },
    {
     "data": {
      "text/html": [
       "<table><tr><td>Person</td><td>tomaslaz</td><td>nbarlowATI</td><td>crangelsmith</td><td>miguelmorin</td><td>myyong</td><td>ots22</td><td>LouiseABowler</td><td>evelinag</td><td>thobson88</td><td>radka-j</td><td>jemrobinson</td><td>kasra-hosseini</td></tr><tr><td>Rating</td><td>👍</td><td>👍</td><td>👍</td><td>👍</td><td>👎</td><td>👎</td><td>😄</td><td>😄</td><td>😄</td><td>😄</td><td>😄</td><td>😄</td></tr></table>"
      ],
      "text/plain": [
       "<IPython.core.display.HTML object>"
      ]
     },
     "metadata": {},
     "output_type": "display_data"
    },
    {
     "name": "stdout",
     "output_type": "stream",
     "text": [
      "Parallel TDA - Jared Tanner and Vidit Nanda\n"
     ]
    },
    {
     "data": {
      "text/html": [
       "<table><tr><td>Person</td></tr><tr><td>Rating</td></tr></table>"
      ],
      "text/plain": [
       "<IPython.core.display.HTML object>"
      ]
     },
     "metadata": {},
     "output_type": "display_data"
    },
    {
     "name": "stdout",
     "output_type": "stream",
     "text": [
      "Probabilistic soliton prediction (ARC Hub)\n"
     ]
    },
    {
     "data": {
      "text/html": [
       "<table><tr><td>Person</td></tr><tr><td>Rating</td></tr></table>"
      ],
      "text/plain": [
       "<IPython.core.display.HTML object>"
      ]
     },
     "metadata": {},
     "output_type": "display_data"
    },
    {
     "name": "stdout",
     "output_type": "stream",
     "text": [
      "Imperial Code Blue\n"
     ]
    },
    {
     "data": {
      "text/html": [
       "<table><tr><td>Person</td></tr><tr><td>Rating</td></tr></table>"
      ],
      "text/plain": [
       "<IPython.core.display.HTML object>"
      ]
     },
     "metadata": {},
     "output_type": "display_data"
    },
    {
     "name": "stdout",
     "output_type": "stream",
     "text": [
      "Network Comparison R-package (Gesine Reinert)\n"
     ]
    },
    {
     "data": {
      "text/html": [
       "<table><tr><td>Person</td></tr><tr><td>Rating</td></tr></table>"
      ],
      "text/plain": [
       "<IPython.core.display.HTML object>"
      ]
     },
     "metadata": {},
     "output_type": "display_data"
    },
    {
     "name": "stdout",
     "output_type": "stream",
     "text": [
      "GPU for Serge Guillas\n"
     ]
    },
    {
     "data": {
      "text/html": [
       "<table><tr><td>Person</td></tr><tr><td>Rating</td></tr></table>"
      ],
      "text/plain": [
       "<IPython.core.display.HTML object>"
      ]
     },
     "metadata": {},
     "output_type": "display_data"
    },
    {
     "name": "stdout",
     "output_type": "stream",
     "text": [
      "Probabilistic FEM - Mark Girolami\n"
     ]
    },
    {
     "data": {
      "text/html": [
       "<table><tr><td>Person</td><td>thobson88</td><td>nbarlowATI</td><td>miguelmorin</td><td>jack89roberts</td><td>JimMadge</td><td>masonlr</td><td>myyong</td><td>evelinag</td><td>crangelsmith</td><td>sgibson91</td><td>jemrobinson</td><td>tomaslaz</td><td>radka-j</td><td>LouiseABowler</td><td>OscartGiles</td><td>kasra-hosseini</td><td>jamespjh</td></tr><tr><td>Rating</td><td>👍</td><td>👍</td><td>👍</td><td>👍</td><td>👍</td><td>👍</td><td>👎</td><td>👎</td><td>👎</td><td>👎</td><td>👎</td><td>👎</td><td>👎</td><td>👎</td><td>👎</td><td>👎</td><td>😄</td></tr></table>"
      ],
      "text/plain": [
       "<IPython.core.display.HTML object>"
      ]
     },
     "metadata": {},
     "output_type": "display_data"
    },
    {
     "name": "stdout",
     "output_type": "stream",
     "text": [
      "Coram / Nuffield\n"
     ]
    },
    {
     "data": {
      "text/html": [
       "<table><tr><td>Person</td></tr><tr><td>Rating</td></tr></table>"
      ],
      "text/plain": [
       "<IPython.core.display.HTML object>"
      ]
     },
     "metadata": {},
     "output_type": "display_data"
    },
    {
     "name": "stdout",
     "output_type": "stream",
     "text": [
      "Samsung - game recommendation system\n"
     ]
    },
    {
     "data": {
      "text/html": [
       "<table><tr><td>Person</td></tr><tr><td>Rating</td></tr></table>"
      ],
      "text/plain": [
       "<IPython.core.display.HTML object>"
      ]
     },
     "metadata": {},
     "output_type": "display_data"
    },
    {
     "name": "stdout",
     "output_type": "stream",
     "text": [
      "Azure Safe Haven - Phase 1\n"
     ]
    },
    {
     "data": {
      "text/html": [
       "<table><tr><td>Person</td><td>tomaslaz</td><td>jemrobinson</td><td>kasra-hosseini</td></tr><tr><td>Rating</td><td>👍</td><td>👎</td><td>👎</td></tr></table>"
      ],
      "text/plain": [
       "<IPython.core.display.HTML object>"
      ]
     },
     "metadata": {},
     "output_type": "display_data"
    },
    {
     "name": "stdout",
     "output_type": "stream",
     "text": [
      "NCSC Domain Discovery\n"
     ]
    },
    {
     "data": {
      "text/html": [
       "<table><tr><td>Person</td></tr><tr><td>Rating</td></tr></table>"
      ],
      "text/plain": [
       "<IPython.core.display.HTML object>"
      ]
     },
     "metadata": {},
     "output_type": "display_data"
    },
    {
     "name": "stdout",
     "output_type": "stream",
     "text": [
      "Chronotopic Cartographies\n"
     ]
    },
    {
     "data": {
      "text/html": [
       "<table><tr><td>Person</td></tr><tr><td>Rating</td></tr></table>"
      ],
      "text/plain": [
       "<IPython.core.display.HTML object>"
      ]
     },
     "metadata": {},
     "output_type": "display_data"
    },
    {
     "name": "stdout",
     "output_type": "stream",
     "text": [
      "NoCell\n"
     ]
    },
    {
     "data": {
      "text/html": [
       "<table><tr><td>Person</td><td>nbarlowATI</td><td>evelinag</td><td>thobson88</td><td>sgibson91</td><td>myyong</td><td>LouiseABowler</td><td>tomaslaz</td><td>crangelsmith</td><td>radka-j</td><td>jemrobinson</td><td>kasra-hosseini</td><td>ots22</td><td>miguelmorin</td></tr><tr><td>Rating</td><td>👍</td><td>👍</td><td>👍</td><td>👍</td><td>👎</td><td>👎</td><td>👎</td><td>👎</td><td>👎</td><td>👎</td><td>👎</td><td>😄</td><td>😄</td></tr></table>"
      ],
      "text/plain": [
       "<IPython.core.display.HTML object>"
      ]
     },
     "metadata": {},
     "output_type": "display_data"
    },
    {
     "name": "stdout",
     "output_type": "stream",
     "text": [
      "ALogit Python\n"
     ]
    },
    {
     "data": {
      "text/html": [
       "<table><tr><td>Person</td><td>nbarlowATI</td><td>jemrobinson</td><td>thobson88</td><td>tomaslaz</td><td>evelinag</td><td>sgibson91</td><td>crangelsmith</td><td>Giovanni1085</td><td>myyong</td><td>radka-j</td><td>LouiseABowler</td><td>miguelmorin</td></tr><tr><td>Rating</td><td>👍</td><td>👍</td><td>👍</td><td>👎</td><td>👎</td><td>👎</td><td>👎</td><td>👎</td><td>👎</td><td>👎</td><td>👎</td><td>😄</td></tr></table>"
      ],
      "text/plain": [
       "<IPython.core.display.HTML object>"
      ]
     },
     "metadata": {},
     "output_type": "display_data"
    },
    {
     "name": "stdout",
     "output_type": "stream",
     "text": [
      "UQM^3 - Uncertainty in multi-scale, multi-physics models - Serge Guillas - UCL TF Project\n"
     ]
    },
    {
     "data": {
      "text/html": [
       "<table><tr><td>Person</td><td>thobson88</td><td>ots22</td><td>LouiseABowler</td><td>crangelsmith</td><td>jemrobinson</td><td>JimMadge</td><td>kasra-hosseini</td><td>myyong</td><td>evelinag</td><td>radka-j</td><td>miguelmorin</td><td>sgibson91</td><td>Giovanni1085</td><td>jack89roberts</td><td>OscartGiles</td><td>tomaslaz</td><td>nbarlowATI</td></tr><tr><td>Rating</td><td>👍</td><td>👍</td><td>👍</td><td>👍</td><td>👍</td><td>👍</td><td>👍</td><td>👎</td><td>👎</td><td>👎</td><td>👎</td><td>👎</td><td>👎</td><td>👎</td><td>👎</td><td>😄</td><td>😄</td></tr></table>"
      ],
      "text/plain": [
       "<IPython.core.display.HTML object>"
      ]
     },
     "metadata": {},
     "output_type": "display_data"
    },
    {
     "name": "stdout",
     "output_type": "stream",
     "text": [
      "DS for sustainable development - Gavin Shaddick - Exeter TF project proposal\n"
     ]
    },
    {
     "data": {
      "text/html": [
       "<table><tr><td>Person</td><td>myyong</td><td>evelinag</td><td>radka-j</td><td>LouiseABowler</td><td>sgibson91</td><td>jemrobinson</td><td>tomaslaz</td><td>thobson88</td><td>ots22</td><td>miguelmorin</td><td>Giovanni1085</td><td>crangelsmith</td><td>nbarlowATI</td></tr><tr><td>Rating</td><td>👍</td><td>👍</td><td>👍</td><td>👍</td><td>👍</td><td>👍</td><td>👎</td><td>👎</td><td>👎</td><td>👎</td><td>👎</td><td>😄</td><td>😄</td></tr></table>"
      ],
      "text/plain": [
       "<IPython.core.display.HTML object>"
      ]
     },
     "metadata": {},
     "output_type": "display_data"
    },
    {
     "name": "stdout",
     "output_type": "stream",
     "text": [
      "Urban observatory spatial sampling - Rachel Franklin Newcastle TF project proposal\n"
     ]
    },
    {
     "data": {
      "text/html": [
       "<table><tr><td>Person</td><td>nbarlowATI</td><td>crangelsmith</td><td>LouiseABowler</td><td>jack89roberts</td><td>kasra-hosseini</td><td>JimMadge</td><td>edwardchalstrey1</td><td>edaub</td><td>AshwiniKV</td><td>OscartGiles</td><td>tomaslaz</td><td>evelinag</td><td>radka-j</td><td>ots22</td><td>miguelmorin</td><td>sgibson91</td><td>jemrobinson</td><td>Giovanni1085</td><td>rolyp</td><td>myyong</td><td>thobson88</td></tr><tr><td>Rating</td><td>👍</td><td>👍</td><td>👍</td><td>👍</td><td>👍</td><td>👍</td><td>👍</td><td>👍</td><td>👍</td><td>👍</td><td>👎</td><td>👎</td><td>👎</td><td>👎</td><td>👎</td><td>👎</td><td>👎</td><td>👎</td><td>👎</td><td>👎</td><td>👎</td></tr></table>"
      ],
      "text/plain": [
       "<IPython.core.display.HTML object>"
      ]
     },
     "metadata": {},
     "output_type": "display_data"
    },
    {
     "name": "stdout",
     "output_type": "stream",
     "text": [
      "Knowledge Flows - Neave O'Clery - HSBC/ONS\n"
     ]
    },
    {
     "data": {
      "text/html": [
       "<table><tr><td>Person</td><td>radka-j</td><td>nbarlowATI</td><td>LouiseABowler</td><td>thobson88</td><td>jemrobinson</td><td>tomaslaz</td><td>myyong</td><td>ots22</td><td>miguelmorin</td><td>crangelsmith</td><td>evelinag</td></tr><tr><td>Rating</td><td>👍</td><td>👍</td><td>👍</td><td>👍</td><td>👍</td><td>👎</td><td>👎</td><td>👎</td><td>👎</td><td>😄</td><td>😄</td></tr></table>"
      ],
      "text/plain": [
       "<IPython.core.display.HTML object>"
      ]
     },
     "metadata": {},
     "output_type": "display_data"
    },
    {
     "name": "stdout",
     "output_type": "stream",
     "text": [
      "Uncertainty quantification for black box models - Peter Challenor - Exeter TF project\n"
     ]
    },
    {
     "data": {
      "text/html": [
       "<table><tr><td>Person</td><td>myyong</td><td>tomaslaz</td><td>thobson88</td><td>evelinag</td><td>radka-j</td><td>ots22</td><td>LouiseABowler</td><td>nbarlowATI</td><td>crangelsmith</td><td>miguelmorin</td><td>sgibson91</td><td>jemrobinson</td><td>Giovanni1085</td><td>jack89roberts</td><td>JimMadge</td><td>OscartGiles</td><td>kasra-hosseini</td></tr><tr><td>Rating</td><td>👍</td><td>👍</td><td>👍</td><td>👎</td><td>👎</td><td>👎</td><td>👎</td><td>👎</td><td>👎</td><td>👎</td><td>👎</td><td>👎</td><td>👎</td><td>👎</td><td>👎</td><td>👎</td><td>👎</td></tr></table>"
      ],
      "text/plain": [
       "<IPython.core.display.HTML object>"
      ]
     },
     "metadata": {},
     "output_type": "display_data"
    },
    {
     "name": "stdout",
     "output_type": "stream",
     "text": [
      "Lomax, Heppenstall and Malleson: Leeds TF projects.\n"
     ]
    },
    {
     "data": {
      "text/html": [
       "<table><tr><td>Person</td><td>evelinag</td><td>nbarlowATI</td><td>thobson88</td><td>radka-j</td><td>jemrobinson</td><td>OscartGiles</td><td>myyong</td><td>tomaslaz</td><td>ots22</td><td>miguelmorin</td><td>sgibson91</td><td>Giovanni1085</td><td>JimMadge</td><td>LouiseABowler</td><td>crangelsmith</td><td>kasra-hosseini</td></tr><tr><td>Rating</td><td>👍</td><td>👍</td><td>👍</td><td>👍</td><td>👍</td><td>👍</td><td>👎</td><td>👎</td><td>👎</td><td>👎</td><td>👎</td><td>👎</td><td>👎</td><td>😄</td><td>😄</td><td>😄</td></tr></table>"
      ],
      "text/plain": [
       "<IPython.core.display.HTML object>"
      ]
     },
     "metadata": {},
     "output_type": "display_data"
    },
    {
     "name": "stdout",
     "output_type": "stream",
     "text": [
      "Language models for quantitative science studies (CWTS, Leiden University)\n"
     ]
    },
    {
     "data": {
      "text/html": [
       "<table><tr><td>Person</td></tr><tr><td>Rating</td></tr></table>"
      ],
      "text/plain": [
       "<IPython.core.display.HTML object>"
      ]
     },
     "metadata": {},
     "output_type": "display_data"
    },
    {
     "name": "stdout",
     "output_type": "stream",
     "text": [
      "Auto generation of deep learning networks - Stephen McGough - Newcastle\n"
     ]
    },
    {
     "data": {
      "text/html": [
       "<table><tr><td>Person</td><td>Giovanni1085</td><td>evelinag</td><td>LouiseABowler</td><td>thobson88</td><td>radka-j</td><td>nbarlowATI</td><td>sgibson91</td><td>JimMadge</td><td>jack89roberts</td><td>kasra-hosseini</td><td>OscartGiles</td><td>ots22</td><td>rolyp</td><td>myyong</td><td>edaub</td><td>edwardchalstrey1</td><td>AshwiniKV</td><td>tomaslaz</td><td>miguelmorin</td><td>jemrobinson</td><td>crangelsmith</td></tr><tr><td>Rating</td><td>👍</td><td>👍</td><td>👍</td><td>👍</td><td>👍</td><td>👍</td><td>👍</td><td>👍</td><td>👍</td><td>👍</td><td>👍</td><td>👎</td><td>👎</td><td>👎</td><td>👎</td><td>👎</td><td>👎</td><td>😄</td><td>😄</td><td>😄</td><td>😄</td></tr></table>"
      ],
      "text/plain": [
       "<IPython.core.display.HTML object>"
      ]
     },
     "metadata": {},
     "output_type": "display_data"
    },
    {
     "name": "stdout",
     "output_type": "stream",
     "text": [
      "AI assisted diagnosis of children\n"
     ]
    },
    {
     "data": {
      "text/html": [
       "<table><tr><td>Person</td></tr><tr><td>Rating</td></tr></table>"
      ],
      "text/plain": [
       "<IPython.core.display.HTML object>"
      ]
     },
     "metadata": {},
     "output_type": "display_data"
    },
    {
     "name": "stdout",
     "output_type": "stream",
     "text": [
      "All in One Cancer imaging optimisation\n"
     ]
    },
    {
     "data": {
      "text/html": [
       "<table><tr><td>Person</td><td>crangelsmith</td><td>LouiseABowler</td><td>kasra-hosseini</td><td>AshwiniKV</td><td>thobson88</td><td>sgibson91</td><td>jack89roberts</td><td>nbarlowATI</td><td>evelinag</td><td>radka-j</td><td>tomaslaz</td><td>JimMadge</td><td>jemrobinson</td><td>rolyp</td><td>edaub</td><td>miguelmorin</td><td>edwardchalstrey1</td><td>myyong</td><td>OscartGiles</td></tr><tr><td>Rating</td><td>👍</td><td>👍</td><td>👍</td><td>👍</td><td>👍</td><td>👍</td><td>👍</td><td>👍</td><td>👍</td><td>👍</td><td>👍</td><td>👎</td><td>👎</td><td>👎</td><td>👎</td><td>😄</td><td>😄</td><td>😄</td><td>😄</td></tr></table>"
      ],
      "text/plain": [
       "<IPython.core.display.HTML object>"
      ]
     },
     "metadata": {},
     "output_type": "display_data"
    },
    {
     "name": "stdout",
     "output_type": "stream",
     "text": [
      "Fusion modelling - IDEA\n"
     ]
    },
    {
     "data": {
      "text/html": [
       "<table><tr><td>Person</td><td>nbarlowATI</td><td>tomaslaz</td><td>sgibson91</td><td>evelinag</td><td>Giovanni1085</td><td>JimMadge</td><td>OscartGiles</td><td>kasra-hosseini</td></tr><tr><td>Rating</td><td>👍</td><td>👍</td><td>👍</td><td>👎</td><td>👎</td><td>👎</td><td>👎</td><td>👎</td></tr></table>"
      ],
      "text/plain": [
       "<IPython.core.display.HTML object>"
      ]
     },
     "metadata": {},
     "output_type": "display_data"
    },
    {
     "name": "stdout",
     "output_type": "stream",
     "text": [
      "MUGM - Modelling Uncertainty in Government Modelling - Chris Dent\n"
     ]
    },
    {
     "data": {
      "text/html": [
       "<table><tr><td>Person</td><td>myyong</td><td>evelinag</td><td>radka-j</td><td>crangelsmith</td><td>jemrobinson</td><td>kasra-hosseini</td><td>tomaslaz</td><td>thobson88</td><td>LouiseABowler</td><td>nbarlowATI</td><td>miguelmorin</td><td>sgibson91</td><td>Giovanni1085</td></tr><tr><td>Rating</td><td>👍</td><td>👍</td><td>👍</td><td>👍</td><td>👍</td><td>👍</td><td>👎</td><td>👎</td><td>👎</td><td>👎</td><td>👎</td><td>👎</td><td>👎</td></tr></table>"
      ],
      "text/plain": [
       "<IPython.core.display.HTML object>"
      ]
     },
     "metadata": {},
     "output_type": "display_data"
    },
    {
     "name": "stdout",
     "output_type": "stream",
     "text": [
      "Interpretable AI for health - Murco Murcolesi\n"
     ]
    },
    {
     "data": {
      "text/html": [
       "<table><tr><td>Person</td><td>evelinag</td><td>LouiseABowler</td><td>radka-j</td><td>nbarlowATI</td><td>crangelsmith</td><td>sgibson91</td><td>jemrobinson</td><td>JimMadge</td><td>edwardchalstrey1</td><td>jack89roberts</td><td>kasra-hosseini</td><td>tomaslaz</td><td>thobson88</td><td>ots22</td><td>miguelmorin</td><td>Giovanni1085</td><td>rolyp</td><td>edaub</td><td>myyong</td><td>AshwiniKV</td><td>OscartGiles</td></tr><tr><td>Rating</td><td>👍</td><td>👍</td><td>👍</td><td>👍</td><td>👍</td><td>👍</td><td>👍</td><td>👍</td><td>👍</td><td>👍</td><td>👍</td><td>👍</td><td>👎</td><td>👎</td><td>👎</td><td>👎</td><td>👎</td><td>👎</td><td>😄</td><td>😄</td><td>😄</td></tr></table>"
      ],
      "text/plain": [
       "<IPython.core.display.HTML object>"
      ]
     },
     "metadata": {},
     "output_type": "display_data"
    },
    {
     "name": "stdout",
     "output_type": "stream",
     "text": [
      "SPF Justice theme placeholder\n"
     ]
    },
    {
     "data": {
      "text/html": [
       "<table><tr><td>Person</td><td>JimMadge</td><td>jack89roberts</td><td>OscartGiles</td><td>kasra-hosseini</td></tr><tr><td>Rating</td><td>👎</td><td>😄</td><td>😄</td><td>😄</td></tr></table>"
      ],
      "text/plain": [
       "<IPython.core.display.HTML object>"
      ]
     },
     "metadata": {},
     "output_type": "display_data"
    },
    {
     "name": "stdout",
     "output_type": "stream",
     "text": [
      "Algorithms for longitudinal time series\n"
     ]
    },
    {
     "data": {
      "text/html": [
       "<table><tr><td>Person</td><td>kasra-hosseini</td><td>LouiseABowler</td><td>JimMadge</td><td>thobson88</td><td>tomaslaz</td><td>sgibson91</td><td>crangelsmith</td><td>jemrobinson</td><td>edwardchalstrey1</td><td>miguelmorin</td><td>AshwiniKV</td></tr><tr><td>Rating</td><td>👍</td><td>👍</td><td>👍</td><td>👍</td><td>👍</td><td>👍</td><td>👎</td><td>👎</td><td>👎</td><td>👎</td><td>😄</td></tr></table>"
      ],
      "text/plain": [
       "<IPython.core.display.HTML object>"
      ]
     },
     "metadata": {},
     "output_type": "display_data"
    },
    {
     "name": "stdout",
     "output_type": "stream",
     "text": [
      "Micro-location analytics - Leeds TF - Susan Grant Muller\n"
     ]
    },
    {
     "data": {
      "text/html": [
       "<table><tr><td>Person</td><td>evelinag</td><td>radka-j</td><td>nbarlowATI</td><td>sgibson91</td><td>jemrobinson</td><td>LouiseABowler</td><td>jack89roberts</td><td>JimMadge</td><td>OscartGiles</td><td>AshwiniKV</td><td>tomaslaz</td><td>myyong</td><td>thobson88</td><td>ots22</td><td>miguelmorin</td><td>Giovanni1085</td><td>kasra-hosseini</td><td>rolyp</td><td>edaub</td><td>crangelsmith</td><td>edwardchalstrey1</td></tr><tr><td>Rating</td><td>👍</td><td>👍</td><td>👍</td><td>👍</td><td>👍</td><td>👍</td><td>👍</td><td>👍</td><td>👍</td><td>👍</td><td>👍</td><td>👎</td><td>👎</td><td>👎</td><td>👎</td><td>👎</td><td>👎</td><td>👎</td><td>👎</td><td>😄</td><td>😄</td></tr></table>"
      ],
      "text/plain": [
       "<IPython.core.display.HTML object>"
      ]
     },
     "metadata": {},
     "output_type": "display_data"
    },
    {
     "name": "stdout",
     "output_type": "stream",
     "text": [
      "ML for Cancer - Christopher Yau\n"
     ]
    },
    {
     "data": {
      "text/html": [
       "<table><tr><td>Person</td><td>LouiseABowler</td><td>jemrobinson</td><td>jack89roberts</td><td>nbarlowATI</td><td>evelinag</td><td>kasra-hosseini</td><td>OscartGiles</td><td>thobson88</td><td>radka-j</td><td>ots22</td><td>miguelmorin</td><td>sgibson91</td><td>Giovanni1085</td><td>rolyp</td><td>JimMadge</td><td>edaub</td><td>AshwiniKV</td><td>tomaslaz</td><td>myyong</td><td>crangelsmith</td><td>edwardchalstrey1</td><td>AshwiniKV</td></tr><tr><td>Rating</td><td>👍</td><td>👍</td><td>👍</td><td>👍</td><td>👍</td><td>👍</td><td>👍</td><td>👎</td><td>👎</td><td>👎</td><td>👎</td><td>👎</td><td>👎</td><td>👎</td><td>👎</td><td>👎</td><td>👎</td><td>👎</td><td>😄</td><td>😄</td><td>😄</td><td>😄</td></tr></table>"
      ],
      "text/plain": [
       "<IPython.core.display.HTML object>"
      ]
     },
     "metadata": {},
     "output_type": "display_data"
    },
    {
     "name": "stdout",
     "output_type": "stream",
     "text": [
      "Retinopathy\n"
     ]
    },
    {
     "data": {
      "text/html": [
       "<table><tr><td>Person</td></tr><tr><td>Rating</td></tr></table>"
      ],
      "text/plain": [
       "<IPython.core.display.HTML object>"
      ]
     },
     "metadata": {},
     "output_type": "display_data"
    },
    {
     "name": "stdout",
     "output_type": "stream",
     "text": [
      "Turing ML Toolbox\n"
     ]
    },
    {
     "data": {
      "text/html": [
       "<table><tr><td>Person</td><td>LouiseABowler</td><td>crangelsmith</td><td>thobson88</td><td>miguelmorin</td><td>sgibson91</td><td>jemrobinson</td><td>ots22</td><td>tomaslaz</td><td>nbarlowATI</td><td>myyong</td><td>evelinag</td></tr><tr><td>Rating</td><td>👍</td><td>👍</td><td>👍</td><td>👍</td><td>👍</td><td>👍</td><td>👎</td><td>👎</td><td>👎</td><td>😄</td><td>😄</td></tr></table>"
      ],
      "text/plain": [
       "<IPython.core.display.HTML object>"
      ]
     },
     "metadata": {},
     "output_type": "display_data"
    },
    {
     "name": "stdout",
     "output_type": "stream",
     "text": [
      "Urban systems resilience - Ed Manley\n"
     ]
    },
    {
     "data": {
      "text/html": [
       "<table><tr><td>Person</td><td>evelinag</td><td>LouiseABowler</td><td>thobson88</td><td>radka-j</td><td>crangelsmith</td><td>sgibson91</td><td>jemrobinson</td><td>edaub</td><td>jack89roberts</td><td>OscartGiles</td><td>tomaslaz</td><td>myyong</td><td>ots22</td><td>miguelmorin</td><td>Giovanni1085</td><td>rolyp</td><td>JimMadge</td><td>edwardchalstrey1</td><td>kasra-hosseini</td><td>nbarlowATI</td></tr><tr><td>Rating</td><td>👍</td><td>👍</td><td>👍</td><td>👍</td><td>👍</td><td>👍</td><td>👍</td><td>👍</td><td>👍</td><td>👍</td><td>👍</td><td>👎</td><td>👎</td><td>👎</td><td>👎</td><td>👎</td><td>👎</td><td>👎</td><td>👎</td><td>😄</td></tr></table>"
      ],
      "text/plain": [
       "<IPython.core.display.HTML object>"
      ]
     },
     "metadata": {},
     "output_type": "display_data"
    },
    {
     "name": "stdout",
     "output_type": "stream",
     "text": [
      "Lemkuhler - Seed funding.\n"
     ]
    },
    {
     "data": {
      "text/html": [
       "<table><tr><td>Person</td></tr><tr><td>Rating</td></tr></table>"
      ],
      "text/plain": [
       "<IPython.core.display.HTML object>"
      ]
     },
     "metadata": {},
     "output_type": "display_data"
    },
    {
     "name": "stdout",
     "output_type": "stream",
     "text": [
      "[Not funded] Vizer-Gamma integration seed project (Tomas Petricek)\n"
     ]
    },
    {
     "data": {
      "text/html": [
       "<table><tr><td>Person</td></tr><tr><td>Rating</td></tr></table>"
      ],
      "text/plain": [
       "<IPython.core.display.HTML object>"
      ]
     },
     "metadata": {},
     "output_type": "display_data"
    },
    {
     "name": "stdout",
     "output_type": "stream",
     "text": [
      "Urban analytics 2019-20 placeholder - SPF\n"
     ]
    },
    {
     "data": {
      "text/html": [
       "<table><tr><td>Person</td></tr><tr><td>Rating</td></tr></table>"
      ],
      "text/plain": [
       "<IPython.core.display.HTML object>"
      ]
     },
     "metadata": {},
     "output_type": "display_data"
    },
    {
     "name": "stdout",
     "output_type": "stream",
     "text": [
      "Scoping for Disinformation project (Dong Nguyen)\n"
     ]
    },
    {
     "data": {
      "text/html": [
       "<table><tr><td>Person</td></tr><tr><td>Rating</td></tr></table>"
      ],
      "text/plain": [
       "<IPython.core.display.HTML object>"
      ]
     },
     "metadata": {},
     "output_type": "display_data"
    },
    {
     "name": "stdout",
     "output_type": "stream",
     "text": [
      "Steven Hansen packaging work\n"
     ]
    },
    {
     "data": {
      "text/html": [
       "<table><tr><td>Person</td></tr><tr><td>Rating</td></tr></table>"
      ],
      "text/plain": [
       "<IPython.core.display.HTML object>"
      ]
     },
     "metadata": {},
     "output_type": "display_data"
    },
    {
     "name": "stdout",
     "output_type": "stream",
     "text": [
      "Identifying misinformation in the news seed project (Dong Nguyen)\n"
     ]
    },
    {
     "data": {
      "text/html": [
       "<table><tr><td>Person</td><td>nbarlowATI</td><td>miguelmorin</td><td>kasra-hosseini</td><td>tomaslaz</td><td>LouiseABowler</td><td>radka-j</td><td>ots22</td><td>thobson88</td><td>myyong</td><td>crangelsmith</td><td>evelinag</td><td>jemrobinson</td></tr><tr><td>Rating</td><td>👍</td><td>👍</td><td>👍</td><td>👎</td><td>👎</td><td>👎</td><td>👎</td><td>👎</td><td>😄</td><td>😄</td><td>😄</td><td>😄</td></tr></table>"
      ],
      "text/plain": [
       "<IPython.core.display.HTML object>"
      ]
     },
     "metadata": {},
     "output_type": "display_data"
    },
    {
     "name": "stdout",
     "output_type": "stream",
     "text": [
      "NCSC Domain Discovery (phase 3)\n"
     ]
    },
    {
     "data": {
      "text/html": [
       "<table><tr><td>Person</td></tr><tr><td>Rating</td></tr></table>"
      ],
      "text/plain": [
       "<IPython.core.display.HTML object>"
      ]
     },
     "metadata": {},
     "output_type": "display_data"
    },
    {
     "name": "stdout",
     "output_type": "stream",
     "text": [
      "Roy Ruddle-New visualization methods for profiling datasets and analysis pipelines\n"
     ]
    },
    {
     "data": {
      "text/html": [
       "<table><tr><td>Person</td><td>myyong</td><td>OscartGiles</td><td>evelinag</td><td>LouiseABowler</td><td>radka-j</td><td>ots22</td><td>nbarlowATI</td><td>miguelmorin</td><td>sgibson91</td><td>jemrobinson</td><td>Giovanni1085</td><td>kasra-hosseini</td><td>rolyp</td><td>JimMadge</td><td>myyong</td><td>edwardchalstrey1</td><td>edaub</td><td>jack89roberts</td><td>AshwiniKV</td><td>tomaslaz</td><td>thobson88</td></tr><tr><td>Rating</td><td>👍</td><td>👍</td><td>👎</td><td>👎</td><td>👎</td><td>👎</td><td>👎</td><td>👎</td><td>👎</td><td>👎</td><td>👎</td><td>👎</td><td>👎</td><td>👎</td><td>👎</td><td>👎</td><td>👎</td><td>👎</td><td>👎</td><td>👎</td><td>👎</td></tr></table>"
      ],
      "text/plain": [
       "<IPython.core.display.HTML object>"
      ]
     },
     "metadata": {},
     "output_type": "display_data"
    },
    {
     "name": "stdout",
     "output_type": "stream",
     "text": [
      "SPF TPS Theme 2019-20 placeholder\n"
     ]
    },
    {
     "data": {
      "text/html": [
       "<table><tr><td>Person</td></tr><tr><td>Rating</td></tr></table>"
      ],
      "text/plain": [
       "<IPython.core.display.HTML object>"
      ]
     },
     "metadata": {},
     "output_type": "display_data"
    },
    {
     "name": "stdout",
     "output_type": "stream",
     "text": [
      "Logics for DS - David Pym\n"
     ]
    },
    {
     "data": {
      "text/html": [
       "<table><tr><td>Person</td><td>evelinag</td><td>radka-j</td><td>crangelsmith</td><td>Giovanni1085</td><td>OscartGiles</td><td>kasra-hosseini</td><td>rolyp</td><td>tomaslaz</td><td>nbarlowATI</td><td>LouiseABowler</td><td>thobson88</td><td>ots22</td><td>miguelmorin</td><td>sgibson91</td><td>JimMadge</td><td>jemrobinson</td><td>myyong</td><td>edwardchalstrey1</td><td>edaub</td><td>jack89roberts</td><td>AshwiniKV</td><td>OscartGiles</td></tr><tr><td>Rating</td><td>👍</td><td>👍</td><td>👍</td><td>👍</td><td>👍</td><td>👍</td><td>👍</td><td>👎</td><td>👎</td><td>👎</td><td>👎</td><td>👎</td><td>👎</td><td>👎</td><td>👎</td><td>👎</td><td>👎</td><td>👎</td><td>👎</td><td>👎</td><td>👎</td><td>👎</td></tr></table>"
      ],
      "text/plain": [
       "<IPython.core.display.HTML object>"
      ]
     },
     "metadata": {},
     "output_type": "display_data"
    },
    {
     "name": "stdout",
     "output_type": "stream",
     "text": [
      "Decision support tools for military medical emergencies (medevac)\n"
     ]
    },
    {
     "data": {
      "text/html": [
       "<table><tr><td>Person</td><td>LouiseABowler</td><td>jemrobinson</td><td>AshwiniKV</td><td>miguelmorin</td><td>JimMadge</td><td>crangelsmith</td><td>thobson88</td><td>edwardchalstrey1</td><td>tomaslaz</td><td>sgibson91</td><td>jack89roberts</td></tr><tr><td>Rating</td><td>👍</td><td>👍</td><td>👍</td><td>👍</td><td>👎</td><td>👎</td><td>👎</td><td>👎</td><td>👎</td><td>👎</td><td>😄</td></tr></table>"
      ],
      "text/plain": [
       "<IPython.core.display.HTML object>"
      ]
     },
     "metadata": {},
     "output_type": "display_data"
    },
    {
     "name": "stdout",
     "output_type": "stream",
     "text": [
      "Medication Safety\n"
     ]
    },
    {
     "data": {
      "text/html": [
       "<table><tr><td>Person</td><td>thobson88</td><td>jemrobinson</td><td>edwardchalstrey1</td><td>sgibson91</td><td>evelinag</td><td>triangle-man</td><td>radka-j</td><td>JimMadge</td><td>tomaslaz</td><td>rolyp</td><td>edaub</td><td>nbarlowATI</td><td>kasra-hosseini</td><td>LouiseABowler</td><td>jack89roberts</td><td>crangelsmith</td><td>AshwiniKV</td><td>miguelmorin</td><td>OscartGiles</td></tr><tr><td>Rating</td><td>👍</td><td>👍</td><td>👍</td><td>👍</td><td>👍</td><td>👍</td><td>👍</td><td>👎</td><td>👎</td><td>👎</td><td>👎</td><td>👎</td><td>👎</td><td>😄</td><td>😄</td><td>😄</td><td>😄</td><td>😄</td><td>😄</td></tr></table>"
      ],
      "text/plain": [
       "<IPython.core.display.HTML object>"
      ]
     },
     "metadata": {},
     "output_type": "display_data"
    },
    {
     "name": "stdout",
     "output_type": "stream",
     "text": [
      "UCLH: Cancer waiting times\n"
     ]
    },
    {
     "data": {
      "text/html": [
       "<table><tr><td>Person</td></tr><tr><td>Rating</td></tr></table>"
      ],
      "text/plain": [
       "<IPython.core.display.HTML object>"
      ]
     },
     "metadata": {},
     "output_type": "display_data"
    },
    {
     "name": "stdout",
     "output_type": "stream",
     "text": [
      "NHS-Scotland: Cancer waiting times\n"
     ]
    },
    {
     "data": {
      "text/html": [
       "<table><tr><td>Person</td></tr><tr><td>Rating</td></tr></table>"
      ],
      "text/plain": [
       "<IPython.core.display.HTML object>"
      ]
     },
     "metadata": {},
     "output_type": "display_data"
    },
    {
     "name": "stdout",
     "output_type": "stream",
     "text": [
      "DFTG Commons: scoping\n"
     ]
    },
    {
     "data": {
      "text/html": [
       "<table><tr><td>Person</td><td>edwardchalstrey1</td><td>edaub</td><td>thobson88</td><td>jemrobinson</td><td>LouiseABowler</td><td>rolyp</td><td>JimMadge</td><td>crangelsmith</td><td>myyong</td><td>jack89roberts</td><td>nbarlowATI</td><td>evelinag</td><td>AshwiniKV</td><td>kasra-hosseini</td><td>OscartGiles</td><td>tomaslaz</td><td>miguelmorin</td><td>radka-j</td></tr><tr><td>Rating</td><td>👍</td><td>👍</td><td>👍</td><td>👎</td><td>👎</td><td>👎</td><td>👎</td><td>👎</td><td>👎</td><td>👎</td><td>👎</td><td>👎</td><td>👎</td><td>👎</td><td>👎</td><td>👎</td><td>👎</td><td>👎</td></tr></table>"
      ],
      "text/plain": [
       "<IPython.core.display.HTML object>"
      ]
     },
     "metadata": {},
     "output_type": "display_data"
    },
    {
     "name": "stdout",
     "output_type": "stream",
     "text": [
      "DFTG Commons: Work packages 3.4 & 3.5\n"
     ]
    },
    {
     "data": {
      "text/html": [
       "<table><tr><td>Person</td><td>edaub</td><td>thobson88</td><td>jemrobinson</td><td>LouiseABowler</td><td>rolyp</td><td>crangelsmith</td><td>JimMadge</td><td>myyong</td><td>jack89roberts</td><td>nbarlowATI</td><td>evelinag</td><td>AshwiniKV</td><td>kasra-hosseini</td><td>OscartGiles</td><td>tomaslaz</td><td>miguelmorin</td><td>radka-j</td></tr><tr><td>Rating</td><td>👍</td><td>👍</td><td>👎</td><td>👎</td><td>👎</td><td>👎</td><td>👎</td><td>👎</td><td>👎</td><td>👎</td><td>👎</td><td>👎</td><td>👎</td><td>👎</td><td>👎</td><td>👎</td><td>👎</td></tr></table>"
      ],
      "text/plain": [
       "<IPython.core.display.HTML object>"
      ]
     },
     "metadata": {},
     "output_type": "display_data"
    },
    {
     "name": "stdout",
     "output_type": "stream",
     "text": [
      "CHANCE project - (Weisi Guo)\n"
     ]
    },
    {
     "data": {
      "text/html": [
       "<table><tr><td>Person</td><td>sgibson91</td><td>jemrobinson</td><td>LouiseABowler</td><td>JimMadge</td><td>edaub</td><td>jack89roberts</td><td>nbarlowATI</td><td>evelinag</td><td>OscartGiles</td><td>radka-j</td><td>rolyp</td><td>myyong</td><td>AshwiniKV</td><td>kasra-hosseini</td><td>miguelmorin</td><td>thobson88</td><td>edwardchalstrey1</td></tr><tr><td>Rating</td><td>👍</td><td>👍</td><td>👍</td><td>👍</td><td>👍</td><td>👍</td><td>👍</td><td>👍</td><td>👍</td><td>👍</td><td>👎</td><td>👎</td><td>👎</td><td>👎</td><td>👎</td><td>👎</td><td>😄</td></tr></table>"
      ],
      "text/plain": [
       "<IPython.core.display.HTML object>"
      ]
     },
     "metadata": {},
     "output_type": "display_data"
    },
    {
     "name": "stdout",
     "output_type": "stream",
     "text": [
      "Robust, Scalable Sequential Monte Carlo (Adam Johansen & Theo Damoulas)\n"
     ]
    },
    {
     "data": {
      "text/html": [
       "<table><tr><td>Person</td><td>LouiseABowler</td><td>JimMadge</td><td>edaub</td><td>edwardchalstrey1</td><td>triangle-man</td><td>OscartGiles</td><td>miguelmorin</td><td>tomaslaz</td><td>thobson88</td><td>myyong</td><td>sgibson91</td><td>rolyp</td><td>crangelsmith</td><td>evelinag</td><td>kasra-hosseini</td><td>AshwiniKV</td><td>radka-j</td><td>jemrobinson</td><td>nbarlowATI</td></tr><tr><td>Rating</td><td>👍</td><td>👍</td><td>👍</td><td>👍</td><td>👍</td><td>👍</td><td>👍</td><td>👍</td><td>👍</td><td>👎</td><td>👎</td><td>👎</td><td>👎</td><td>👎</td><td>👎</td><td>👎</td><td>👎</td><td>😄</td><td>😄</td></tr></table>"
      ],
      "text/plain": [
       "<IPython.core.display.HTML object>"
      ]
     },
     "metadata": {},
     "output_type": "display_data"
    },
    {
     "name": "stdout",
     "output_type": "stream",
     "text": [
      "Wrattler 2019-20 - Tomas Petricek\n"
     ]
    },
    {
     "data": {
      "text/html": [
       "<table><tr><td>Person</td><td>sgibson91</td></tr><tr><td>Rating</td><td>😄</td></tr></table>"
      ],
      "text/plain": [
       "<IPython.core.display.HTML object>"
      ]
     },
     "metadata": {},
     "output_type": "display_data"
    },
    {
     "name": "stdout",
     "output_type": "stream",
     "text": [
      "PDMP Julia package (Thibaut Lienart + Sebastian Vollmer)\n"
     ]
    },
    {
     "data": {
      "text/html": [
       "<table><tr><td>Person</td></tr><tr><td>Rating</td></tr></table>"
      ],
      "text/plain": [
       "<IPython.core.display.HTML object>"
      ]
     },
     "metadata": {},
     "output_type": "display_data"
    },
    {
     "name": "stdout",
     "output_type": "stream",
     "text": [
      "Urban Agriculture - data pipeline (Ruchi Choudhary)\n"
     ]
    },
    {
     "data": {
      "text/html": [
       "<table><tr><td>Person</td></tr><tr><td>Rating</td></tr></table>"
      ],
      "text/plain": [
       "<IPython.core.display.HTML object>"
      ]
     },
     "metadata": {},
     "output_type": "display_data"
    },
    {
     "name": "stdout",
     "output_type": "stream",
     "text": [
      "Interpretable Models (Indranil Pan, Andrew Duncan)\n"
     ]
    },
    {
     "data": {
      "text/html": [
       "<table><tr><td>Person</td></tr><tr><td>Rating</td></tr></table>"
      ],
      "text/plain": [
       "<IPython.core.display.HTML object>"
      ]
     },
     "metadata": {},
     "output_type": "display_data"
    },
    {
     "name": "stdout",
     "output_type": "stream",
     "text": [
      "Modularizing, containerizing and benchmarking large data science workflows\n"
     ]
    },
    {
     "data": {
      "text/html": [
       "<table><tr><td>Person</td></tr><tr><td>Rating</td></tr></table>"
      ],
      "text/plain": [
       "<IPython.core.display.HTML object>"
      ]
     },
     "metadata": {},
     "output_type": "display_data"
    }
   ],
   "source": [
    "for issue_num in issues:\n",
    "    modified_query = query.replace(\"X\", str(issue_num))\n",
    "    result = run_query(modified_query)  # Execute the query\n",
    "    tabulate_emojis(result)"
   ]
  }
 ],
 "metadata": {
  "kernelspec": {
   "display_name": "Python 3",
   "language": "python",
   "name": "python3"
  },
  "language_info": {
   "codemirror_mode": {
    "name": "ipython",
    "version": 3
   },
   "file_extension": ".py",
   "mimetype": "text/x-python",
   "name": "python",
   "nbconvert_exporter": "python",
   "pygments_lexer": "ipython3",
   "version": "3.6.8"
  }
 },
 "nbformat": 4,
 "nbformat_minor": 2
}
