{
 "cells": [
  {
   "cell_type": "code",
   "execution_count": 4,
   "metadata": {},
   "outputs": [
    {
     "name": "stderr",
     "output_type": "stream",
     "text": [
      "/anaconda3/lib/python3.7/site-packages/IPython/core/display.py:689: UserWarning:\n",
      "\n",
      "Consider using IPython.display.IFrame instead\n",
      "\n"
     ]
    },
    {
     "data": {
      "text/html": [
       "<iframe id=\"igraph\" scrolling=\"no\" style=\"border:none;\" seamless=\"seamless\" src=\"https://plot.ly/~jack89roberts/16.embed\" height=\"600px\" width=\"900px\"></iframe>"
      ],
      "text/plain": [
       "<plotly.tools.PlotlyDisplay object>"
      ]
     },
     "execution_count": 4,
     "metadata": {},
     "output_type": "execute_result"
    }
   ],
   "source": [
    "import plotly.plotly as py\n",
    "import plotly.figure_factory as ff\n",
    "\n",
    "df = [dict(Task=\"Job A\", Start='2009-01-01', Finish='2009-02-28'),\n",
    "      dict(Task=\"Job B\", Start='2009-03-05', Finish='2009-04-15'),\n",
    "      dict(Task=\"Job C\", Start='2009-02-20', Finish='2009-05-30')]\n",
    "\n",
    "fig = ff.create_gantt(df)\n",
    "py.iplot(fig, filename='gantt-simple-gantt-chart', world_readable=True)"
   ]
  },
  {
   "cell_type": "code",
   "execution_count": 5,
   "metadata": {},
   "outputs": [
    {
     "data": {
      "text/html": [
       "<iframe id=\"igraph\" scrolling=\"no\" style=\"border:none;\" seamless=\"seamless\" src=\"https://plot.ly/~jack89roberts/18.embed\" height=\"600px\" width=\"900px\"></iframe>"
      ],
      "text/plain": [
       "<plotly.tools.PlotlyDisplay object>"
      ]
     },
     "execution_count": 5,
     "metadata": {},
     "output_type": "execute_result"
    }
   ],
   "source": [
    "df = [dict(Task=\"Job A\", Start='2009-01-01', Finish='2009-02-28', Complete=10),\n",
    "      dict(Task=\"Job B\", Start='2008-12-05', Finish='2009-04-15', Complete=60),\n",
    "      dict(Task=\"Job C\", Start='2009-02-20', Finish='2009-05-30', Complete=95)]\n",
    "\n",
    "fig = ff.create_gantt(df, colors='Viridis', index_col='Complete', show_colorbar=True)\n",
    "py.iplot(fig, filename='gantt-numeric-variable', world_readable=True)"
   ]
  },
  {
   "cell_type": "code",
   "execution_count": 6,
   "metadata": {},
   "outputs": [
    {
     "data": {
      "text/html": [
       "<iframe id=\"igraph\" scrolling=\"no\" style=\"border:none;\" seamless=\"seamless\" src=\"https://plot.ly/~jack89roberts/20.embed\" height=\"600px\" width=\"900px\"></iframe>"
      ],
      "text/plain": [
       "<plotly.tools.PlotlyDisplay object>"
      ]
     },
     "execution_count": 6,
     "metadata": {},
     "output_type": "execute_result"
    }
   ],
   "source": [
    "df = [dict(Task=\"Job A\", Start='2009-01-01', Finish='2009-02-01', Resource='Apple'),\n",
    "      dict(Task=\"Job B\", Start='2009-03-05', Finish='2009-04-15', Resource='Grape'),\n",
    "      dict(Task=\"Job C\", Start='2009-04-20', Finish='2009-09-30', Resource='Banana')]\n",
    "\n",
    "colors = ['#7a0504', (0.2, 0.7, 0.3), 'rgb(210, 60, 180)']\n",
    "\n",
    "fig = ff.create_gantt(df, colors=colors, index_col='Resource', reverse_colors=True, show_colorbar=True)\n",
    "py.iplot(fig, filename='gantt-string-variable', world_readable=True)"
   ]
  },
  {
   "cell_type": "code",
   "execution_count": 7,
   "metadata": {},
   "outputs": [
    {
     "data": {
      "text/html": [
       "<iframe id=\"igraph\" scrolling=\"no\" style=\"border:none;\" seamless=\"seamless\" src=\"https://plot.ly/~jack89roberts/22.embed\" height=\"600px\" width=\"900px\"></iframe>"
      ],
      "text/plain": [
       "<plotly.tools.PlotlyDisplay object>"
      ]
     },
     "execution_count": 7,
     "metadata": {},
     "output_type": "execute_result"
    }
   ],
   "source": [
    "import pandas as pd\n",
    "\n",
    "df = pd.read_csv('https://raw.githubusercontent.com/plotly/datasets/master/gantt_example.csv')\n",
    "\n",
    "fig = ff.create_gantt(df, colors=['#333F44', '#93e4c1'], index_col='Complete', show_colorbar=True,\n",
    "                      bar_width=0.2, showgrid_x=True, showgrid_y=True)\n",
    "py.iplot(fig, filename='gantt-use-a-pandas-dataframe', world_readable=True)"
   ]
  },
  {
   "cell_type": "code",
   "execution_count": 8,
   "metadata": {},
   "outputs": [
    {
     "data": {
      "text/html": [
       "<iframe id=\"igraph\" scrolling=\"no\" style=\"border:none;\" seamless=\"seamless\" src=\"https://plot.ly/~jack89roberts/24.embed\" height=\"600px\" width=\"900px\"></iframe>"
      ],
      "text/plain": [
       "<plotly.tools.PlotlyDisplay object>"
      ]
     },
     "execution_count": 8,
     "metadata": {},
     "output_type": "execute_result"
    }
   ],
   "source": [
    "df = [\n",
    "    dict(Task='Morning Sleep', Start='2016-01-01', Finish='2016-01-01 6:00:00', Resource='Sleep'),\n",
    "    dict(Task='Breakfast', Start='2016-01-01 7:00:00', Finish='2016-01-01 7:30:00', Resource='Food'),\n",
    "    dict(Task='Work', Start='2016-01-01 9:00:00', Finish='2016-01-01 11:25:00', Resource='Brain'),\n",
    "    dict(Task='Break', Start='2016-01-01 11:30:00', Finish='2016-01-01 12:00:00', Resource='Rest'),\n",
    "    dict(Task='Lunch', Start='2016-01-01 12:00:00', Finish='2016-01-01 13:00:00', Resource='Food'),\n",
    "    dict(Task='Work', Start='2016-01-01 13:00:00', Finish='2016-01-01 17:00:00', Resource='Brain'),\n",
    "    dict(Task='Exercise', Start='2016-01-01 17:30:00', Finish='2016-01-01 18:30:00', Resource='Cardio'), \n",
    "    dict(Task='Post Workout Rest', Start='2016-01-01 18:30:00', Finish='2016-01-01 19:00:00', Resource='Rest'),\n",
    "    dict(Task='Dinner', Start='2016-01-01 19:00:00', Finish='2016-01-01 20:00:00', Resource='Food'),\n",
    "    dict(Task='Evening Sleep', Start='2016-01-01 21:00:00', Finish='2016-01-01 23:59:00', Resource='Sleep')\n",
    "]\n",
    "\n",
    "colors = dict(Cardio = 'rgb(46, 137, 205)',\n",
    "              Food = 'rgb(114, 44, 121)',\n",
    "              Sleep = 'rgb(198, 47, 105)',\n",
    "              Brain = 'rgb(58, 149, 136)',\n",
    "              Rest = 'rgb(107, 127, 135)')\n",
    "\n",
    "fig = ff.create_gantt(df, colors=colors, index_col='Resource', title='Daily Schedule',\n",
    "                      show_colorbar=True, bar_width=0.8, showgrid_x=True, showgrid_y=True)\n",
    "py.iplot(fig, filename='gantt-hours-minutes', world_readable=True)"
   ]
  },
  {
   "cell_type": "code",
   "execution_count": 21,
   "metadata": {},
   "outputs": [
    {
     "name": "stderr",
     "output_type": "stream",
     "text": [
      "/anaconda3/lib/python3.7/site-packages/IPython/core/display.py:689: UserWarning:\n",
      "\n",
      "Consider using IPython.display.IFrame instead\n",
      "\n"
     ]
    },
    {
     "data": {
      "text/html": [
       "<iframe id=\"igraph\" scrolling=\"no\" style=\"border:none;\" seamless=\"seamless\" src=\"https://plot.ly/~jack89roberts/26.embed\" height=\"600px\" width=\"900px\"></iframe>"
      ],
      "text/plain": [
       "<plotly.tools.PlotlyDisplay object>"
      ]
     },
     "execution_count": 21,
     "metadata": {},
     "output_type": "execute_result"
    }
   ],
   "source": [
    "df = [dict(Task=\"Job-1\", Start='2017-01-01', Finish='2017-02-02', Resource='Complete'),\n",
    "      dict(Task=\"Job-1\", Start='2017-02-15', Finish='2017-03-15', Resource='Incomplete'),\n",
    "      dict(Task=\"Job-2\", Start='2017-01-17', Finish='2017-02-17', Resource='Not Started'),\n",
    "      dict(Task=\"Job-2\", Start='2017-01-17', Finish='2017-02-17', Resource='Complete'),\n",
    "      dict(Task=\"Job-3\", Start='2017-03-10', Finish='2017-03-20', Resource='Not Started'),\n",
    "      dict(Task=\"Job-3\", Start='2017-04-01', Finish='2017-04-20', Resource='Not Started'),\n",
    "      dict(Task=\"Job-3\", Start='2017-05-18', Finish='2017-06-18', Resource='Not Started'),\n",
    "      dict(Task=\"Job-4\", Start='2017-01-14', Finish='2017-03-14', Resource='Complete')]\n",
    "\n",
    "colors = {'Not Started': 'rgb(220, 0, 0)',\n",
    "          'Incomplete': (1, 0.9, 0.16),\n",
    "          'Complete': 'rgb(0, 255, 100)'}\n",
    "\n",
    "fig = ff.create_gantt(df, colors=colors, index_col='Resource', show_colorbar=True, group_tasks=True)\n",
    "py.iplot(fig, filename='gantt-group-tasks-together', world_readable=True)"
   ]
  },
  {
   "cell_type": "code",
   "execution_count": 11,
   "metadata": {},
   "outputs": [
    {
     "data": {
      "text/html": [
       "<div>\n",
       "<style scoped>\n",
       "    .dataframe tbody tr th:only-of-type {\n",
       "        vertical-align: middle;\n",
       "    }\n",
       "\n",
       "    .dataframe tbody tr th {\n",
       "        vertical-align: top;\n",
       "    }\n",
       "\n",
       "    .dataframe thead th {\n",
       "        text-align: right;\n",
       "    }\n",
       "</style>\n",
       "<table border=\"1\" class=\"dataframe\">\n",
       "  <thead>\n",
       "    <tr style=\"text-align: right;\">\n",
       "      <th></th>\n",
       "      <th>Task</th>\n",
       "      <th>Start</th>\n",
       "      <th>Finish</th>\n",
       "      <th>Complete</th>\n",
       "      <th>Resource</th>\n",
       "    </tr>\n",
       "  </thead>\n",
       "  <tbody>\n",
       "    <tr>\n",
       "      <th>0</th>\n",
       "      <td>Job A</td>\n",
       "      <td>2009-01-01</td>\n",
       "      <td>2009-02-26</td>\n",
       "      <td>23</td>\n",
       "      <td>A</td>\n",
       "    </tr>\n",
       "    <tr>\n",
       "      <th>1</th>\n",
       "      <td>Job B</td>\n",
       "      <td>2009-03-05</td>\n",
       "      <td>2009-04-15</td>\n",
       "      <td>55</td>\n",
       "      <td>A</td>\n",
       "    </tr>\n",
       "    <tr>\n",
       "      <th>2</th>\n",
       "      <td>Job C</td>\n",
       "      <td>2009-02-20 12:40:00</td>\n",
       "      <td>2009-05-30 15:12:44</td>\n",
       "      <td>97</td>\n",
       "      <td>C</td>\n",
       "    </tr>\n",
       "    <tr>\n",
       "      <th>3</th>\n",
       "      <td>Job D</td>\n",
       "      <td>2009-03-10</td>\n",
       "      <td>2009-04-30</td>\n",
       "      <td>11</td>\n",
       "      <td>B</td>\n",
       "    </tr>\n",
       "    <tr>\n",
       "      <th>4</th>\n",
       "      <td>Job E</td>\n",
       "      <td>2009-02-25</td>\n",
       "      <td>2009-06-30</td>\n",
       "      <td>14</td>\n",
       "      <td>A</td>\n",
       "    </tr>\n",
       "  </tbody>\n",
       "</table>\n",
       "</div>"
      ],
      "text/plain": [
       "    Task                Start               Finish  Complete Resource\n",
       "0  Job A           2009-01-01           2009-02-26        23        A\n",
       "1  Job B           2009-03-05           2009-04-15        55        A\n",
       "2  Job C  2009-02-20 12:40:00  2009-05-30 15:12:44        97        C\n",
       "3  Job D           2009-03-10           2009-04-30        11        B\n",
       "4  Job E           2009-02-25           2009-06-30        14        A"
      ]
     },
     "execution_count": 11,
     "metadata": {},
     "output_type": "execute_result"
    }
   ],
   "source": [
    "pd.read_csv('https://raw.githubusercontent.com/plotly/datasets/master/gantt_example.csv')"
   ]
  },
  {
   "cell_type": "code",
   "execution_count": 31,
   "metadata": {},
   "outputs": [
    {
     "data": {
      "text/html": [
       "<iframe id=\"igraph\" scrolling=\"no\" style=\"border:none;\" seamless=\"seamless\" src=\"https://plot.ly/~jack89roberts/22.embed\" height=\"600px\" width=\"900px\"></iframe>"
      ],
      "text/plain": [
       "<plotly.tools.PlotlyDisplay object>"
      ]
     },
     "execution_count": 31,
     "metadata": {},
     "output_type": "execute_result"
    }
   ],
   "source": [
    "import pandas as pd\n",
    "\n",
    "df = pd.read_csv('data/forecast/projects.csv')\n",
    "\n",
    "df = df[['name','start_date','end_date']].rename(columns={'name':'Task','start_date':'Start','end_date':'Finish'})\n",
    "\n",
    "fig = ff.create_gantt(df.dropna().reset_index(), colors=['#333F44', '#93e4c1'],\n",
    "                      bar_width=0.2, showgrid_x=True, showgrid_y=True)\n",
    "py.iplot(fig, filename='gantt-use-a-pandas-dataframe')\n"
   ]
  },
  {
   "cell_type": "code",
   "execution_count": 22,
   "metadata": {},
   "outputs": [],
   "source": [
    "df = pd.read_csv('data/forecast/projects.csv')\n"
   ]
  },
  {
   "cell_type": "code",
   "execution_count": 29,
   "metadata": {},
   "outputs": [
    {
     "data": {
      "text/html": [
       "<div>\n",
       "<style scoped>\n",
       "    .dataframe tbody tr th:only-of-type {\n",
       "        vertical-align: middle;\n",
       "    }\n",
       "\n",
       "    .dataframe tbody tr th {\n",
       "        vertical-align: top;\n",
       "    }\n",
       "\n",
       "    .dataframe thead th {\n",
       "        text-align: right;\n",
       "    }\n",
       "</style>\n",
       "<table border=\"1\" class=\"dataframe\">\n",
       "  <thead>\n",
       "    <tr style=\"text-align: right;\">\n",
       "      <th></th>\n",
       "      <th>Task</th>\n",
       "      <th>Start</th>\n",
       "      <th>Finish</th>\n",
       "    </tr>\n",
       "  </thead>\n",
       "  <tbody>\n",
       "    <tr>\n",
       "      <th>0</th>\n",
       "      <td>Time Off</td>\n",
       "      <td>NaN</td>\n",
       "      <td>NaN</td>\n",
       "    </tr>\n",
       "    <tr>\n",
       "      <th>1</th>\n",
       "      <td>Sargasso (Intel Sparse)</td>\n",
       "      <td>2018-04-01</td>\n",
       "      <td>2018-12-31</td>\n",
       "    </tr>\n",
       "    <tr>\n",
       "      <th>2</th>\n",
       "      <td>AIDA</td>\n",
       "      <td>2018-04-01</td>\n",
       "      <td>2019-03-31</td>\n",
       "    </tr>\n",
       "  </tbody>\n",
       "</table>\n",
       "</div>"
      ],
      "text/plain": [
       "                      Task       Start      Finish\n",
       "0                 Time Off         NaN         NaN\n",
       "1  Sargasso (Intel Sparse)  2018-04-01  2018-12-31\n",
       "2                     AIDA  2018-04-01  2019-03-31"
      ]
     },
     "execution_count": 29,
     "metadata": {},
     "output_type": "execute_result"
    }
   ],
   "source": [
    "df.iloc[0:3]"
   ]
  },
  {
   "cell_type": "code",
   "execution_count": 32,
   "metadata": {},
   "outputs": [
    {
     "name": "stdout",
     "output_type": "stream",
     "text": [
      "Collecting python-gantt\n",
      "\u001b[?25l  Downloading https://files.pythonhosted.org/packages/20/03/61d9950a0b83386b668a300370e40a81b5c919afdc9b7c41d20bb9021215/python-gantt-0.6.0.tar.gz (53kB)\n",
      "\u001b[K    100% |████████████████████████████████| 61kB 5.7MB/s ta 0:00:01\n",
      "\u001b[?25hCollecting svgwrite>=1.1.6 (from python-gantt)\n",
      "\u001b[?25l  Downloading https://files.pythonhosted.org/packages/87/ce/3259f75aebb12d8c7dd9e8c479ad4968db5ed18e03f24ee4f6be9d9aed23/svgwrite-1.2.1-py2.py3-none-any.whl (66kB)\n",
      "\u001b[K    100% |████████████████████████████████| 71kB 6.7MB/s ta 0:00:011\n",
      "\u001b[?25hCollecting clize>=2.0 (from python-gantt)\n",
      "\u001b[?25l  Downloading https://files.pythonhosted.org/packages/97/41/b6fe58879be64823e34d3503d9fbb7ef7c83fb98192f5857e251036cae1f/clize-4.0.3-py2.py3-none-any.whl (69kB)\n",
      "\u001b[K    100% |████████████████████████████████| 71kB 10.1MB/s ta 0:00:01\n",
      "\u001b[?25hRequirement already satisfied: python-dateutil>=2.4 in /anaconda3/lib/python3.7/site-packages (from python-gantt) (2.7.5)\n",
      "Requirement already satisfied: pyparsing>=2.0.1 in /anaconda3/lib/python3.7/site-packages (from svgwrite>=1.1.6->python-gantt) (2.3.0)\n",
      "Requirement already satisfied: docutils in /anaconda3/lib/python3.7/site-packages (from clize>=2.0->python-gantt) (0.14)\n",
      "Requirement already satisfied: attrs>=17.4.0 in /anaconda3/lib/python3.7/site-packages (from clize>=2.0->python-gantt) (18.2.0)\n",
      "Collecting od (from clize>=2.0->python-gantt)\n",
      "  Downloading https://files.pythonhosted.org/packages/92/5b/73044c22c5f83caebf36eb4c28dfdc6399218e8d99d89bb2057d05c68260/od-1.0-py3-none-any.whl\n",
      "Collecting sigtools>=2.0 (from clize>=2.0->python-gantt)\n",
      "\u001b[?25l  Downloading https://files.pythonhosted.org/packages/a3/69/f80df2ba630b5b4c0538fa1817621a871608cafe8335b6b99ebad5e64c24/sigtools-2.0.2-py2.py3-none-any.whl (69kB)\n",
      "\u001b[K    100% |████████████████████████████████| 71kB 8.9MB/s eta 0:00:01\n",
      "\u001b[?25hRequirement already satisfied: six in /anaconda3/lib/python3.7/site-packages (from clize>=2.0->python-gantt) (1.12.0)\n",
      "Building wheels for collected packages: python-gantt\n",
      "  Running setup.py bdist_wheel for python-gantt ... \u001b[?25ldone\n",
      "\u001b[?25h  Stored in directory: /Users/jroberts/Library/Caches/pip/wheels/84/f8/9d/1fe02e2f764f2e1784fa6d09c83cb21b6f1d18d4a9d234636a\n",
      "Successfully built python-gantt\n",
      "Installing collected packages: svgwrite, od, sigtools, clize, python-gantt\n",
      "Successfully installed clize-4.0.3 od-1.0 python-gantt-0.6.0 sigtools-2.0.2 svgwrite-1.2.1\n"
     ]
    }
   ],
   "source": [
    "# python-gantt\n",
    "!pip install python-gantt"
   ]
  },
  {
   "cell_type": "code",
   "execution_count": 40,
   "metadata": {},
   "outputs": [
    {
     "name": "stdout",
     "output_type": "stream",
     "text": [
      "True\n",
      "False\n",
      "False\n",
      "False\n",
      "False\n",
      "ANO 3\n",
      "JLS 4\n"
     ]
    }
   ],
   "source": [
    "import datetime\n",
    "from datetime import datetime as dt\n",
    "import gantt\n",
    "\n",
    "# Change font default\n",
    "gantt.define_font_attributes(fill='black', stroke='black', stroke_width=0, font_family=\"Verdana\")\n",
    "\n",
    "# Add vacations for everyone\n",
    "gantt.add_vacations(datetime.date(2014, 12, 25))\n",
    "gantt.add_vacations(datetime.date(2015, 1, 1))\n",
    "gantt.add_vacations(datetime.date(2015, 1, 13))\n",
    "\n",
    "# Create two resources\n",
    "rANO = gantt.Resource('ANO')\n",
    "rJLS = gantt.Resource('JLS')\n",
    "\n",
    "# Add vacations for one lucky resource\n",
    "rANO.add_vacations(\n",
    "    dfrom=datetime.date(2014, 12, 29),\n",
    "    dto=datetime.date(2015, 1, 4)\n",
    "    )\n",
    "rANO.add_vacations(\n",
    "    dfrom=datetime.date(2015, 1, 6),\n",
    "    dto=datetime.date(2015, 1, 8)\n",
    "    )\n",
    "\n",
    "# Test if this resource is  avalaible for some dates\n",
    "print(rANO.is_available(datetime.date(2015, 1, 5)))\n",
    "print(rANO.is_available(datetime.date(2015, 1, 8)))\n",
    "print(rANO.is_available(datetime.date(2015, 1, 6)))\n",
    "print(rANO.is_available(datetime.date(2015, 1, 2)))\n",
    "print(rANO.is_available(datetime.date(2015, 1, 1)))\n",
    "\n",
    "\n",
    "# Create some tasks\n",
    "t1 = gantt.Task(name='tache1', start=datetime.date(2014, 12, 25), duration=4, percent_done=44, resources=[rANO], color=\"#FF8080\")\n",
    "t2 = gantt.Task(name='tache2', start=datetime.date(2014, 12, 28), duration=6, resources=[rJLS])\n",
    "t7 = gantt.Task(name='tache7', start=datetime.date(2014, 12, 28), duration=5, percent_done=50)\n",
    "t3 = gantt.Task(name='tache3', start=datetime.date(2014, 12, 25), duration=4, depends_of=[t1, t7, t2], resources=[rJLS])\n",
    "t4 = gantt.Task(name='tache4', start=datetime.date(2015, 1, 1), duration=4, depends_of=t1, resources=[rJLS])\n",
    "t5 = gantt.Task(name='tache5', start=datetime.date(2014, 12, 23), duration=3)\n",
    "t6 = gantt.Task(name='tache6', start=datetime.date(2014, 12, 25), duration=4, depends_of=t7, resources=[rANO])\n",
    "t8 = gantt.Task(name='tache8', start=datetime.date(2014, 12, 25), duration=4, depends_of=t7, resources=[rANO, rJLS])\n",
    "\n",
    "\n",
    "# Create a project\n",
    "p1 = gantt.Project(name='Projet 1')\n",
    "\n",
    "# Add tasks to this project\n",
    "p1.add_task(t1)\n",
    "p1.add_task(t7)\n",
    "p1.add_task(t2)\n",
    "p1.add_task(t3)\n",
    "p1.add_task(t5)\n",
    "p1.add_task(t8)\n",
    "\n",
    "\n",
    "\n",
    "# Create another project\n",
    "p2 = gantt.Project(name='Projet 2', color='#FFFF40')\n",
    "\n",
    "# Add tasks to this project\n",
    "p2.add_task(t2)\n",
    "p2.add_task(t4)\n",
    "\n",
    "\n",
    "# Create another project\n",
    "p = gantt.Project(name='Gantt')\n",
    "# wich contains the first two projects\n",
    "# and a single task\n",
    "p.add_task(p1)\n",
    "p.add_task(p2)\n",
    "p.add_task(t6)\n",
    "\n",
    "\n",
    "# Test cases for milestones\n",
    "# Create another project\n",
    "ptcm = gantt.Project(name='Test case for milestones')\n",
    "\n",
    "tcm11 = gantt.Task(name='tcm11', start=datetime.date(2014, 12, 25), duration=4)\n",
    "tcm12 = gantt.Task(name='tcm12', start=datetime.date(2014, 12, 26), duration=5)\n",
    "ms1 = gantt.Milestone(name=' ', depends_of=[tcm11, tcm12])\n",
    "tcm21 = gantt.Task(name='tcm21', start=datetime.date(2014, 12, 30), duration=4, depends_of=[ms1])\n",
    "tcm22 = gantt.Task(name='tcm22', start=datetime.date(2014, 12, 30), duration=6, depends_of=[ms1])\n",
    "ms2 = gantt.Milestone(name='MS2', depends_of=[ms1, tcm21, tcm22])\n",
    "tcm31 = gantt.Task(name='tcm31', start=datetime.date(2014, 12, 30), duration=6, depends_of=[ms2])\n",
    "ms3 = gantt.Milestone(name='MS3', depends_of=[ms1])\n",
    "\n",
    "\n",
    "ptcm.add_task(tcm11)\n",
    "ptcm.add_task(tcm12)\n",
    "ptcm.add_task(ms1)\n",
    "ptcm.add_task(tcm21)\n",
    "ptcm.add_task(tcm22)\n",
    "ptcm.add_task(ms2)\n",
    "ptcm.add_task(tcm31)\n",
    "ptcm.add_task(ms3)\n",
    "\n",
    "\n",
    "p.add_task(ptcm)\n",
    "\n",
    "\n",
    "##########################$ MAKE DRAW ###############\n",
    "p.make_svg_for_tasks(filename='data/python-gantt/test_full.svg', today=datetime.date(2014, 12, 31), start=datetime.date(2014,8, 22), end=datetime.date(2015, 1, 14))\n",
    "p.make_svg_for_tasks(filename='data/python-gantt/test_full2.svg', today=datetime.date(2014, 12, 31))\n",
    "p.make_svg_for_tasks(filename='data/python-gantt/test.svg', today=datetime.date(2014, 12, 31), start=datetime.date(2015, 1, 3), end=datetime.date(2015, 1, 6))\n",
    "p1.make_svg_for_tasks(filename='data/python-gantt/test_p1.svg', today=datetime.date(2014, 12, 31))\n",
    "p2.make_svg_for_tasks(filename='data/python-gantt/test_p2.svg', today=datetime.date(2014, 12, 31))\n",
    "p.make_svg_for_resources(filename='data/python-gantt/test_resources.svg', today=datetime.date(2014, 12, 31), resources=[rANO, rJLS])\n",
    "p.make_svg_for_tasks(filename='data/python-gantt/test_weekly.svg', today=datetime.date(2014, 12, 31), scale=gantt.DRAW_WITH_WEEKLY_SCALE)\n",
    "##########################$ /MAKE DRAW ###############"
   ]
  },
  {
   "cell_type": "code",
   "execution_count": 67,
   "metadata": {},
   "outputs": [],
   "source": [
    "projects = [gantt.Task(name=row.Task, \n",
    "                       start=dt.strptime(row.Start,'%Y-%m-%d').date(), \n",
    "                       stop=dt.strptime(row.Finish,'%Y-%m-%d').date()) for idx,row in df.dropna().iterrows()]\n",
    "\n",
    "p = gantt.Project(name='Gantt')\n",
    "[p.add_task(t) for t in projects]\n",
    "\n",
    "p.make_svg_for_tasks(filename='data/python-gantt/project_tasks.svg', today=datetime.date(2019,3,15), start=datetime.date(2019,1,1), end=datetime.date(2019, 12, 31))\n",
    "p.make_svg_for_tasks(filename='data/python-gantt/project_tasks_weekly.svg', today=datetime.date(2019, 3, 15), start=datetime.date(2019,1,1), end=datetime.date(2019, 12, 31),scale=gantt.DRAW_WITH_WEEKLY_SCALE)\n",
    "\n"
   ]
  },
  {
   "cell_type": "code",
   "execution_count": 70,
   "metadata": {},
   "outputs": [],
   "source": [
    "?gantt.Task"
   ]
  }
 ],
 "metadata": {
  "kernelspec": {
   "display_name": "Python 3",
   "language": "python",
   "name": "python3"
  },
  "language_info": {
   "codemirror_mode": {
    "name": "ipython",
    "version": 3
   },
   "file_extension": ".py",
   "mimetype": "text/x-python",
   "name": "python",
   "nbconvert_exporter": "python",
   "pygments_lexer": "ipython3",
   "version": "3.7.1"
  }
 },
 "nbformat": 4,
 "nbformat_minor": 2
}
