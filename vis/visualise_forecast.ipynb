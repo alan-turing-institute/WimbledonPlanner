{
 "cells": [
  {
   "cell_type": "code",
   "execution_count": 1,
   "metadata": {},
   "outputs": [],
   "source": [
    "import pandas as pd\n",
    "pd.options.mode.chained_assignment = None  # default='warn' # Gets rid of SettingWithCopy warnings\n",
    "\n",
    "import matplotlib.pyplot as plt\n",
    "%matplotlib inline\n",
    "\n",
    "from ipywidgets import interact"
   ]
  },
  {
   "cell_type": "markdown",
   "metadata": {},
   "source": [
    "## Load Forecast Data"
   ]
  },
  {
   "cell_type": "code",
   "execution_count": 2,
   "metadata": {
    "scrolled": true
   },
   "outputs": [
    {
     "data": {
      "text/plain": [
       "(26, 22)"
      ]
     },
     "execution_count": 2,
     "metadata": {},
     "output_type": "execute_result"
    }
   ],
   "source": [
    "people = pd.read_csv('../data/forecast/people.csv', \n",
    "                          index_col='id', \n",
    "                          parse_dates=['updated_at'],\n",
    "                          infer_datetime_format=True)\n",
    "\n",
    "people.shape"
   ]
  },
  {
   "cell_type": "code",
   "execution_count": 3,
   "metadata": {},
   "outputs": [
    {
     "data": {
      "text/plain": [
       "(90, 12)"
      ]
     },
     "execution_count": 3,
     "metadata": {},
     "output_type": "execute_result"
    }
   ],
   "source": [
    "projects = pd.read_csv('../data/forecast/projects.csv', \n",
    "                          index_col='id', \n",
    "                          parse_dates=['updated_at','start_date','end_date'],\n",
    "                          infer_datetime_format=True)\n",
    "\n",
    "projects.shape"
   ]
  },
  {
   "cell_type": "code",
   "execution_count": 4,
   "metadata": {},
   "outputs": [
    {
     "data": {
      "text/plain": [
       "(8, 5)"
      ]
     },
     "execution_count": 4,
     "metadata": {},
     "output_type": "execute_result"
    }
   ],
   "source": [
    "placeholders = pd.read_csv('../data/forecast/placeholders.csv', \n",
    "                          index_col='id',\n",
    "                          parse_dates=['updated_at'],\n",
    "                          infer_datetime_format=True)\n",
    "\n",
    "placeholders.shape"
   ]
  },
  {
   "cell_type": "code",
   "execution_count": 5,
   "metadata": {
    "scrolled": true
   },
   "outputs": [
    {
     "data": {
      "text/plain": [
       "(29, 5)"
      ]
     },
     "execution_count": 5,
     "metadata": {},
     "output_type": "execute_result"
    }
   ],
   "source": [
    "clients = pd.read_csv('../data/forecast/clients.csv', \n",
    "                          index_col='id', \n",
    "                          parse_dates=['updated_at'],\n",
    "                          infer_datetime_format=True)\n",
    "\n",
    "clients.shape"
   ]
  },
  {
   "cell_type": "code",
   "execution_count": 6,
   "metadata": {},
   "outputs": [
    {
     "data": {
      "text/plain": [
       "(177, 11)"
      ]
     },
     "execution_count": 6,
     "metadata": {},
     "output_type": "execute_result"
    }
   ],
   "source": [
    "assignments = pd.read_csv('../data/forecast/assignments.csv', \n",
    "                          index_col='id', \n",
    "                          parse_dates=['start_date','end_date','updated_at'],\n",
    "                          infer_datetime_format=True)\n",
    "\n",
    "assignments['allocation'] = assignments['allocation']/(8*60*60)\n",
    "assignments.shape"
   ]
  },
  {
   "cell_type": "markdown",
   "metadata": {},
   "source": [
    "## Functions to merge and display data on people's allocations"
   ]
  },
  {
   "cell_type": "code",
   "execution_count": 7,
   "metadata": {},
   "outputs": [],
   "source": [
    "def get_person_id(first_name, last_name=None):\n",
    "    if last_name is None:\n",
    "        person_id = people.loc[(people['first_name']==first_name)]\n",
    "    \n",
    "        if len(person_id) != 1:\n",
    "            raise ValueError('Could not unique person with name '+first_name)\n",
    "\n",
    "    else:\n",
    "        person_id = people.loc[(people['first_name']==first_name) & (people['last_name']==last_name)]\n",
    "    \n",
    "        if len(person_id) != 1:\n",
    "            raise ValueError('Could not unique person with name '+first_name+' '+last_name)\n",
    "\n",
    "    return person_id.index[0]\n",
    "\n",
    "\n",
    "def get_person_allocations(person_id):    \n",
    "    person_assignments = assignments[assignments['person_id']==person_id]\n",
    "    \n",
    "    start_date = projects['start_date'].min()\n",
    "    end_date = projects['end_date'].max()\n",
    "\n",
    "    weeks = pd.date_range(start=start_date, end=end_date, freq='MS')\n",
    "    df = pd.DataFrame(index=weeks, columns=projects.index)\n",
    "    df.fillna(0,inplace=True)\n",
    "    \n",
    "    for idx,row in person_assignments.iterrows():\n",
    "        dates = pd.date_range(start=row['start_date'], end=row['end_date'], freq='MS')\n",
    "        df.loc[dates, row['project_id']] = row['allocation']\n",
    "             \n",
    "    df.columns.name = people.loc[person_id,'first_name'] + ' ' + people.loc[person_id,'last_name']\n",
    "    \n",
    "    return df\n",
    "\n",
    "\n",
    "def filter_person_allocations(allocations, start_date, end_date):    \n",
    "    mask = (allocations.index >= start_date) & (allocations.index <= end_date)\n",
    "    filtered_alloc = allocations.loc[mask]\n",
    "    \n",
    "    active_projects = filtered_alloc.columns[filtered_alloc.sum()!=0]\n",
    "    filtered_alloc = filtered_alloc[active_projects]\n",
    "    \n",
    "    # replace project ids with project names\n",
    "    name = filtered_alloc.columns.name\n",
    "    filtered_alloc.columns = projects.loc[filtered_alloc.columns, 'name']\n",
    "    filtered_alloc.columns.name = name\n",
    "    \n",
    "    return filtered_alloc\n",
    "\n",
    "\n",
    "def plot_person_allocations(allocations, title=None):\n",
    "    ax = plt.figure(figsize=(15,5)).gca()\n",
    "    \n",
    "    allocations.plot.area(ax=ax, linewidth=0)\n",
    "\n",
    "    xlim = ax.get_xlim()\n",
    "    plt.plot(xlim,[0.8, 0.8], 'k--', linewidth=3)\n",
    "    plt.plot(xlim,[1, 1], 'k', linewidth=3)\n",
    "    plt.xlim(xlim)\n",
    "    plt.ylim([0,max([1, 1.1*allocations.sum(axis=1).max()])])\n",
    "\n",
    "    plt.title(title)\n",
    "    plt.ylabel('Proportion 8hr days')\n",
    "    plt.xticks()\n",
    "    plt.legend(title='')\n",
    "    plt.show()\n",
    "\n",
    "\n",
    "def highlight_allocs(s):\n",
    "    is_over = s>1\n",
    "    is_marginal = (s>0.8) & (is_over==False)\n",
    "    is_under = s<0.8\n",
    "    \n",
    "    style = []\n",
    "    for i in range(len(s)):\n",
    "        if is_over[i]:\n",
    "            style.append('background-color: red')\n",
    "        elif is_marginal[i]:\n",
    "            style.append('background-color: orange')\n",
    "        elif is_under[i]:\n",
    "            style.append('background-color: green')\n",
    "        else:\n",
    "            style.append('')\n",
    "        \n",
    "    return style\n",
    "\n",
    "def person_allocations(first_name, last_name=None, \n",
    "                       start_date=pd.datetime(2018,1,1), end_date=pd.datetime(2020,1,1)):\n",
    "    \n",
    "    person_id = get_person_id(first_name, last_name)\n",
    "    alloc = get_person_allocations(person_id)\n",
    "    alloc_filt = filter_person_allocations(alloc, start_date, end_date)\n",
    "    \n",
    "    rows,cols = alloc_filt.shape\n",
    "    if rows>0 and cols>0:\n",
    "        plot_person_allocations(alloc_filt, \n",
    "                                title=people.loc[person_id,'first_name']+' '+people.loc[person_id,'last_name'])\n",
    "\n",
    "        \n",
    "        alloc_filt['TOTAL'] = alloc_filt.sum(axis=1)\n",
    "        display(pd.DataFrame(alloc_filt, \n",
    "                             index=alloc_filt.index.strftime(\"%Y-%m-%d\")).style.apply(highlight_allocs, \n",
    "                                                                                      subset=['TOTAL']))\n",
    "        \n",
    "    else:\n",
    "        print('No data to plot.')\n",
    "        \n",
    "    return alloc_filt\n",
    "\n",
    "def widget_person_alloc(Person):\n",
    "    names = Person.split()\n",
    "    person_allocations(names[0], ' '.join(names[1:]))"
   ]
  },
  {
   "cell_type": "markdown",
   "metadata": {},
   "source": [
    "## Show Someone's Project Assignment"
   ]
  },
  {
   "cell_type": "code",
   "execution_count": 8,
   "metadata": {
    "scrolled": false
   },
   "outputs": [
    {
     "data": {
      "application/vnd.jupyter.widget-view+json": {
       "model_id": "dd70d317fa40457ea2e2c8f0238fa2fb",
       "version_major": 2,
       "version_minor": 0
      },
      "text/plain": [
       "interactive(children=(Dropdown(description='Person', options=('Amaani Hoddoon', 'Amber Raza', 'Angus Williams'…"
      ]
     },
     "metadata": {},
     "output_type": "display_data"
    }
   ],
   "source": [
    "interact(widget_person_alloc, Person=sorted(people['first_name']+' '+people['last_name']));"
   ]
  },
  {
   "cell_type": "markdown",
   "metadata": {},
   "source": [
    "To do:\n",
    "\n",
    "Customisable date range\n",
    "\n",
    "Customisable date frequency\n",
    "\n",
    "Table summarising people under/over allocated\n",
    "\n",
    "Project views"
   ]
  }
 ],
 "metadata": {
  "kernelspec": {
   "display_name": "Python 3",
   "language": "python",
   "name": "python3"
  },
  "language_info": {
   "codemirror_mode": {
    "name": "ipython",
    "version": 3
   },
   "file_extension": ".py",
   "mimetype": "text/x-python",
   "name": "python",
   "nbconvert_exporter": "python",
   "pygments_lexer": "ipython3",
   "version": "3.7.1"
  }
 },
 "nbformat": 4,
 "nbformat_minor": 2
}
